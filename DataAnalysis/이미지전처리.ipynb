{
 "cells": [
  {
   "cell_type": "markdown",
   "id": "c6bb9e7e",
   "metadata": {},
   "source": [
    "# 이미지 데이터 전처리\n",
    "`작성자: 최원칠 강사`   \n",
    "`traveler4d@gmail.com`\n",
    "\n",
    "- 이미지의 사이즈를 줄이거나 잘라 공간 효율을 높힘\n",
    "- 이미지를 회전, 이동 등의 변형으로 데이터를 증강\n",
    "- 이미지의 색상 공간 변화, 필터링 등으로 학습 효율을 높힘\n",
    "\n",
    "이미지 전처리는 학습의 효율을 높혀 주지만 데이터 손실로 인해 성능이 떨어질 수 있습니다, 따라서 하드웨어의 규모와 모델의 목적에 따라 필요한 전처리를 적절하게 하는 것이 좋습니다\n",
    "\n",
    "## opencv\n",
    "python, C++ 언어에서 이미지를 처리하기위해 주로 활용하는 라이브러리  \n",
    "단순히 이미지를 읽고 쓰는 작업부터 시작하여 이미지 변형에 대한 다양한 알고리즘을 객체와 함수로 제공\n"
   ]
  },
  {
   "cell_type": "markdown",
   "id": "6ee2e8a5-c309-4ae2-9f52-c7a4531ca8e5",
   "metadata": {},
   "source": [
    "!pip install opencv-python"
   ]
  },
  {
   "cell_type": "markdown",
   "id": "a4049ea2-ea3f-4d2f-98c7-cddbdaacaa19",
   "metadata": {},
   "source": [
    "# imshow 에러시\n",
    "!pip uninstall opencv-python-headless"
   ]
  },
  {
   "cell_type": "markdown",
   "id": "6b731ab8",
   "metadata": {},
   "source": [
    "#### 이미지 읽기"
   ]
  },
  {
   "cell_type": "code",
   "execution_count": 1,
   "id": "9049d8f8",
   "metadata": {},
   "outputs": [],
   "source": [
    "import cv2\n",
    "import numpy as np\n",
    "\n",
    "# 이미지 읽어오기\n",
    "img = cv2.imread('./data/sample.jpg')\n",
    "# 이미지 출력\n",
    "cv2.imshow('origin', img)\n",
    "cv2.waitKey(0)\n",
    "cv2.destroyAllWindows()"
   ]
  },
  {
   "cell_type": "markdown",
   "id": "a1565a79",
   "metadata": {},
   "source": [
    "#### 이미지 쓰기"
   ]
  },
  {
   "cell_type": "code",
   "execution_count": 14,
   "id": "541ec935",
   "metadata": {},
   "outputs": [
    {
     "data": {
      "text/plain": [
       "True"
      ]
     },
     "execution_count": 14,
     "metadata": {},
     "output_type": "execute_result"
    }
   ],
   "source": [
    "# 이미지 저장\n",
    "cv2.imwrite('./test.jpg', img)"
   ]
  },
  {
   "cell_type": "markdown",
   "id": "dd2680b3",
   "metadata": {},
   "source": [
    "#### 컬러 표현 변환\n",
    "이미지는 채널 표현에 따라 다앙햔 색상 공간을 가짐\n",
    "- rgb: 레드, 그린, 블루 색상으로 이미지 표현\n",
    "- bgr: 블루, 그린, 레드 색상으로 이미지 표현\n",
    "- rgba: rgb 표현에 투명도 추가\n",
    "- hsv: 색상, 채도, 명도로 이미지 표현\n",
    "- yuv: 휘도(Y)와 청색 색차(U), 적색 색차(V)로 이미지 표현\n",
    "- gray: 회색조로 이미지 표현"
   ]
  },
  {
   "cell_type": "code",
   "execution_count": 15,
   "id": "1fc70d40",
   "metadata": {},
   "outputs": [
    {
     "name": "stdout",
     "output_type": "stream",
     "text": [
      "(768, 1024)\n"
     ]
    }
   ],
   "source": [
    "# rgb => gray\n",
    "gray = cv2.cvtColor(img, cv2.COLOR_BGR2GRAY)\n",
    "print(gray.shape)\n",
    "cv2.imshow('gray', gray)\n",
    "cv2.waitKey(0)\n",
    "cv2.destroyAllWindows()"
   ]
  },
  {
   "cell_type": "code",
   "execution_count": 16,
   "id": "be0c1b01",
   "metadata": {},
   "outputs": [
    {
     "name": "stdout",
     "output_type": "stream",
     "text": [
      "(768, 1024, 3)\n"
     ]
    }
   ],
   "source": [
    "# gray => color\n",
    "im_color = cv2.applyColorMap(gray, cv2.COLORMAP_SUMMER)\n",
    "print(im_color.shape)\n",
    "cv2.imshow('im_color', im_color)\n",
    "cv2.waitKey(0)\n",
    "cv2.destroyAllWindows()"
   ]
  },
  {
   "cell_type": "code",
   "execution_count": 17,
   "id": "a6df3236",
   "metadata": {},
   "outputs": [],
   "source": [
    "# rgb => hsv\n",
    "hsv = cv2.cvtColor(img, cv2.COLOR_BGR2HSV)\n",
    "cv2.imshow('hsv', hsv)\n",
    "cv2.waitKey(0)\n",
    "cv2.destroyAllWindows()"
   ]
  },
  {
   "cell_type": "markdown",
   "id": "87da1725",
   "metadata": {},
   "source": [
    "#### 색상 마스킹"
   ]
  },
  {
   "cell_type": "code",
   "execution_count": 39,
   "id": "da9fbd74",
   "metadata": {},
   "outputs": [],
   "source": [
    "# 그린 색상 마스킹\n",
    "lower_green = np.array([40, 50, 50])\n",
    "upper_green = np.array([70, 255, 255])\n",
    "\n",
    "mask_green = cv2.inRange(hsv, lower_green, upper_green)\n",
    "cv2.imshow('mask_green', mask_green)\n",
    "cv2.waitKey(0)\n",
    "cv2.destroyAllWindows()\n"
   ]
  },
  {
   "cell_type": "code",
   "execution_count": 43,
   "id": "f385b791",
   "metadata": {},
   "outputs": [],
   "source": [
    "# 청색 색상 마스킹\n",
    "lower_green = np.array([80, 50, 50])\n",
    "upper_green = np.array([100, 255, 255])\n",
    "\n",
    "mask_green = cv2.inRange(hsv, lower_green, upper_green)\n",
    "cv2.imshow('mask_green', mask_green)\n",
    "cv2.waitKey(0)\n",
    "cv2.destroyAllWindows()"
   ]
  },
  {
   "cell_type": "markdown",
   "id": "f02081ef",
   "metadata": {},
   "source": [
    "#### 이미지 형태 변환"
   ]
  },
  {
   "cell_type": "code",
   "execution_count": 12,
   "id": "f60e5574",
   "metadata": {},
   "outputs": [
    {
     "name": "stdout",
     "output_type": "stream",
     "text": [
      "(128, 320, 3)\n"
     ]
    }
   ],
   "source": [
    "# 사이즈 변환\n",
    "rsimg = cv2.resize(img, (320,128))\n",
    "print(rsimg.shape)\n",
    "cv2.imshow('rsimg', rsimg)\n",
    "cv2.waitKey(0)\n",
    "cv2.destroyAllWindows()"
   ]
  },
  {
   "cell_type": "code",
   "execution_count": 22,
   "id": "3be938d4",
   "metadata": {},
   "outputs": [
    {
     "name": "stdout",
     "output_type": "stream",
     "text": [
      "(768, 1024, 3)\n",
      "(100, 420, 3)\n"
     ]
    }
   ],
   "source": [
    "# 이미지 자르기\n",
    "print(img.shape)\n",
    "crimg = img[200: 300,:420] # Y,X \n",
    "print(crimg.shape)\n",
    "cv2.imshow('crimg', crimg)\n",
    "cv2.waitKey(0)\n",
    "cv2.destroyAllWindows()"
   ]
  },
  {
   "cell_type": "code",
   "execution_count": 23,
   "id": "8fb1df69",
   "metadata": {},
   "outputs": [],
   "source": [
    "# 이미지 이동\n",
    "\n",
    "rows, cols, channels = img.shape\n",
    "\n",
    "M = np.float32([[1,0,100],[0,1,50]])\n",
    "dst = cv2.warpAffine(img,M,(cols,rows))\n",
    "cv2.imshow('dst', dst)\n",
    "cv2.waitKey(0)\n",
    "cv2.destroyAllWindows()"
   ]
  },
  {
   "cell_type": "code",
   "execution_count": 24,
   "id": "231766a3",
   "metadata": {},
   "outputs": [],
   "source": [
    "# 이미지 회전\n",
    "\n",
    "M = cv2.getRotationMatrix2D((cols/2,rows/2),-30,1)\n",
    "rotate_30 = cv2.warpAffine(img,M,(cols,rows))\n",
    "cv2.imshow('rotate_30', rotate_30)\n",
    "cv2.waitKey(0)\n",
    "cv2.destroyAllWindows()"
   ]
  },
  {
   "cell_type": "code",
   "execution_count": 25,
   "id": "27b7311e",
   "metadata": {
    "scrolled": true
   },
   "outputs": [
    {
     "name": "stdout",
     "output_type": "stream",
     "text": [
      "314 -16 -5\n"
     ]
    }
   ],
   "source": [
    "# 랜덤 이미지 변환\n",
    "\n",
    "import random\n",
    "rotate = random.randint(0,360)\n",
    "x_shift = random.randint(-50,50)\n",
    "y_shift = random.randint(-50,50)\n",
    "print(rotate, x_shift, y_shift)\n",
    "rm = cv2.getRotationMatrix2D((cols/2,rows/2),rotate,1)\n",
    "sm = np.float32([[1,0,x_shift],[0,1,y_shift]])\n",
    "dst = cv2.warpAffine(img,rm,(cols,rows))\n",
    "dst = cv2.warpAffine(dst,sm,(cols,rows))\n",
    "cv2.imshow('rdst', dst)\n",
    "cv2.waitKey(0)\n",
    "cv2.destroyAllWindows()"
   ]
  },
  {
   "cell_type": "markdown",
   "id": "c588a1e2",
   "metadata": {},
   "source": [
    "#### 경계선 검출\n",
    "[Canny](https://docs.opencv.org/4.x/da/d22/tutorial_py_canny.html): sodel 커널을 적용\n"
   ]
  },
  {
   "cell_type": "code",
   "execution_count": 7,
   "id": "bf776ed7",
   "metadata": {},
   "outputs": [],
   "source": [
    "# 윤곽선 추출\n",
    "edges = cv2.Canny(img,100,200)\n",
    "cv2.imshow('rdst', edges)\n",
    "cv2.waitKey(0)\n",
    "cv2.destroyAllWindows()"
   ]
  },
  {
   "cell_type": "markdown",
   "id": "76a433d0",
   "metadata": {},
   "source": [
    "#### 배경 제거 라이브러리 활용"
   ]
  },
  {
   "cell_type": "code",
   "execution_count": 2,
   "id": "4398f6c8",
   "metadata": {},
   "outputs": [
    {
     "name": "stdout",
     "output_type": "stream",
     "text": [
      "Collecting rembg\n",
      "  Using cached rembg-2.0.57-py3-none-any.whl (33 kB)\n",
      "Collecting scikit-image\n",
      "  Using cached scikit_image-0.23.2-cp310-cp310-win_amd64.whl (12.7 MB)\n",
      "Collecting opencv-python-headless\n",
      "  Using cached opencv_python_headless-4.10.0.82-cp37-abi3-win_amd64.whl (38.8 MB)\n",
      "Requirement already satisfied: pooch in c:\\users\\trave\\appdata\\local\\programs\\python\\python310\\lib\\site-packages (from rembg) (1.8.0)\n",
      "Requirement already satisfied: numpy in c:\\users\\trave\\appdata\\local\\programs\\python\\python310\\lib\\site-packages (from rembg) (1.24.3)\n",
      "Requirement already satisfied: tqdm in c:\\users\\trave\\appdata\\local\\programs\\python\\python310\\lib\\site-packages (from rembg) (4.65.0)\n",
      "Requirement already satisfied: onnxruntime in c:\\users\\trave\\appdata\\local\\programs\\python\\python310\\lib\\site-packages (from rembg) (1.17.0)\n",
      "Requirement already satisfied: jsonschema in c:\\users\\trave\\appdata\\local\\programs\\python\\python310\\lib\\site-packages (from rembg) (4.22.0)\n",
      "Collecting pymatting\n",
      "  Using cached PyMatting-1.1.12-py3-none-any.whl (52 kB)\n",
      "Requirement already satisfied: scipy in c:\\users\\trave\\appdata\\local\\programs\\python\\python310\\lib\\site-packages (from rembg) (1.12.0)\n",
      "Requirement already satisfied: pillow in c:\\users\\trave\\appdata\\local\\programs\\python\\python310\\lib\\site-packages (from rembg) (10.3.0)\n",
      "Requirement already satisfied: rpds-py>=0.7.1 in c:\\users\\trave\\appdata\\local\\programs\\python\\python310\\lib\\site-packages (from jsonschema->rembg) (0.18.1)\n",
      "Requirement already satisfied: jsonschema-specifications>=2023.03.6 in c:\\users\\trave\\appdata\\local\\programs\\python\\python310\\lib\\site-packages (from jsonschema->rembg) (2023.12.1)\n",
      "Requirement already satisfied: referencing>=0.28.4 in c:\\users\\trave\\appdata\\local\\programs\\python\\python310\\lib\\site-packages (from jsonschema->rembg) (0.35.1)\n",
      "Requirement already satisfied: attrs>=22.2.0 in c:\\users\\trave\\appdata\\local\\programs\\python\\python310\\lib\\site-packages (from jsonschema->rembg) (23.1.0)\n",
      "Requirement already satisfied: protobuf in c:\\users\\trave\\appdata\\local\\programs\\python\\python310\\lib\\site-packages (from onnxruntime->rembg) (3.19.6)\n",
      "Requirement already satisfied: sympy in c:\\users\\trave\\appdata\\local\\programs\\python\\python310\\lib\\site-packages (from onnxruntime->rembg) (1.12)\n",
      "Requirement already satisfied: coloredlogs in c:\\users\\trave\\appdata\\local\\programs\\python\\python310\\lib\\site-packages (from onnxruntime->rembg) (15.0.1)\n",
      "Requirement already satisfied: packaging in c:\\users\\trave\\appdata\\local\\programs\\python\\python310\\lib\\site-packages (from onnxruntime->rembg) (23.1)\n",
      "Requirement already satisfied: flatbuffers in c:\\users\\trave\\appdata\\local\\programs\\python\\python310\\lib\\site-packages (from onnxruntime->rembg) (23.5.26)\n",
      "Requirement already satisfied: platformdirs>=2.5.0 in c:\\users\\trave\\appdata\\local\\programs\\python\\python310\\lib\\site-packages (from pooch->rembg) (4.2.0)\n",
      "Requirement already satisfied: requests>=2.19.0 in c:\\users\\trave\\appdata\\local\\programs\\python\\python310\\lib\\site-packages (from pooch->rembg) (2.31.0)\n",
      "Requirement already satisfied: numba!=0.49.0 in c:\\users\\trave\\appdata\\local\\programs\\python\\python310\\lib\\site-packages (from pymatting->rembg) (0.59.0)\n",
      "Requirement already satisfied: tifffile>=2022.8.12 in c:\\users\\trave\\appdata\\local\\programs\\python\\python310\\lib\\site-packages (from scikit-image->rembg) (2024.5.22)\n",
      "Requirement already satisfied: networkx>=2.8 in c:\\users\\trave\\appdata\\local\\programs\\python\\python310\\lib\\site-packages (from scikit-image->rembg) (3.2.1)\n",
      "Collecting imageio>=2.33\n",
      "  Using cached imageio-2.34.1-py3-none-any.whl (313 kB)\n",
      "Collecting lazy-loader>=0.4\n",
      "  Using cached lazy_loader-0.4-py3-none-any.whl (12 kB)\n",
      "Requirement already satisfied: colorama in c:\\users\\trave\\appdata\\local\\programs\\python\\python310\\lib\\site-packages (from tqdm->rembg) (0.4.6)\n",
      "Requirement already satisfied: llvmlite<0.43,>=0.42.0dev0 in c:\\users\\trave\\appdata\\local\\programs\\python\\python310\\lib\\site-packages (from numba!=0.49.0->pymatting->rembg) (0.42.0)\n",
      "Requirement already satisfied: idna<4,>=2.5 in c:\\users\\trave\\appdata\\local\\programs\\python\\python310\\lib\\site-packages (from requests>=2.19.0->pooch->rembg) (3.4)\n",
      "Requirement already satisfied: charset-normalizer<4,>=2 in c:\\users\\trave\\appdata\\local\\programs\\python\\python310\\lib\\site-packages (from requests>=2.19.0->pooch->rembg) (3.1.0)\n",
      "Requirement already satisfied: certifi>=2017.4.17 in c:\\users\\trave\\appdata\\local\\programs\\python\\python310\\lib\\site-packages (from requests>=2.19.0->pooch->rembg) (2023.5.7)\n",
      "Requirement already satisfied: urllib3<3,>=1.21.1 in c:\\users\\trave\\appdata\\local\\programs\\python\\python310\\lib\\site-packages (from requests>=2.19.0->pooch->rembg) (1.26.18)\n",
      "Requirement already satisfied: humanfriendly>=9.1 in c:\\users\\trave\\appdata\\local\\programs\\python\\python310\\lib\\site-packages (from coloredlogs->onnxruntime->rembg) (10.0)\n",
      "Requirement already satisfied: mpmath>=0.19 in c:\\users\\trave\\appdata\\local\\programs\\python\\python310\\lib\\site-packages (from sympy->onnxruntime->rembg) (1.3.0)\n",
      "Requirement already satisfied: pyreadline3 in c:\\users\\trave\\appdata\\local\\programs\\python\\python310\\lib\\site-packages (from humanfriendly>=9.1->coloredlogs->onnxruntime->rembg) (3.4.1)\n",
      "Installing collected packages: opencv-python-headless, lazy-loader, imageio, scikit-image, pymatting, rembg\n",
      "Successfully installed imageio-2.34.1 lazy-loader-0.4 opencv-python-headless-4.10.0.82 pymatting-1.1.12 rembg-2.0.57 scikit-image-0.23.2\n"
     ]
    },
    {
     "name": "stderr",
     "output_type": "stream",
     "text": [
      "WARNING: Ignoring invalid distribution -rotobuf (c:\\users\\trave\\appdata\\local\\programs\\python\\python310\\lib\\site-packages)\n",
      "WARNING: Ignoring invalid distribution -rotobuf (c:\\users\\trave\\appdata\\local\\programs\\python\\python310\\lib\\site-packages)\n",
      "WARNING: Ignoring invalid distribution -rotobuf (c:\\users\\trave\\appdata\\local\\programs\\python\\python310\\lib\\site-packages)\n",
      "  WARNING: The scripts imageio_download_bin.exe and imageio_remove_bin.exe are installed in 'C:\\Users\\trave\\AppData\\Roaming\\Python\\Python310\\Scripts' which is not on PATH.\n",
      "  Consider adding this directory to PATH or, if you prefer to suppress this warning, use --no-warn-script-location.\n",
      "  WARNING: The script rembg.exe is installed in 'C:\\Users\\trave\\AppData\\Roaming\\Python\\Python310\\Scripts' which is not on PATH.\n",
      "  Consider adding this directory to PATH or, if you prefer to suppress this warning, use --no-warn-script-location.\n",
      "WARNING: Ignoring invalid distribution -rotobuf (c:\\users\\trave\\appdata\\local\\programs\\python\\python310\\lib\\site-packages)\n",
      "WARNING: Ignoring invalid distribution -rotobuf (c:\\users\\trave\\appdata\\local\\programs\\python\\python310\\lib\\site-packages)\n",
      "WARNING: Ignoring invalid distribution -rotobuf (c:\\users\\trave\\appdata\\local\\programs\\python\\python310\\lib\\site-packages)\n",
      "\n",
      "[notice] A new release of pip is available: 23.0.1 -> 24.0\n",
      "[notice] To update, run: python.exe -m pip install --upgrade pip\n"
     ]
    }
   ],
   "source": [
    "!pip install rembg"
   ]
  },
  {
   "cell_type": "code",
   "execution_count": 2,
   "id": "23b560d2",
   "metadata": {},
   "outputs": [
    {
     "ename": "ModuleNotFoundError",
     "evalue": "No module named 'rembg'",
     "output_type": "error",
     "traceback": [
      "\u001b[1;31m---------------------------------------------------------------------------\u001b[0m",
      "\u001b[1;31mModuleNotFoundError\u001b[0m                       Traceback (most recent call last)",
      "Cell \u001b[1;32mIn[2], line 2\u001b[0m\n\u001b[0;32m      1\u001b[0m \u001b[38;5;66;03m# 배경 제거 라이브러리(인공지능 기반)\u001b[39;00m\n\u001b[1;32m----> 2\u001b[0m \u001b[38;5;28;01mfrom\u001b[39;00m \u001b[38;5;21;01mrembg\u001b[39;00m \u001b[38;5;28;01mimport\u001b[39;00m remove\n\u001b[0;32m      3\u001b[0m rbimg \u001b[38;5;241m=\u001b[39m remove(img)\n\u001b[0;32m      4\u001b[0m cv2\u001b[38;5;241m.\u001b[39mimshow(\u001b[38;5;124m'\u001b[39m\u001b[38;5;124mrbimg\u001b[39m\u001b[38;5;124m'\u001b[39m, rbimg)\n",
      "\u001b[1;31mModuleNotFoundError\u001b[0m: No module named 'rembg'"
     ]
    }
   ],
   "source": [
    "# 배경 제거 라이브러리(인공지능 기반)\n",
    "from rembg import remove\n",
    "rbimg = remove(img)\n",
    "cv2.imshow('rbimg', rbimg)\n",
    "cv2.waitKey(0)\n",
    "cv2.destroyAllWindows()"
   ]
  },
  {
   "cell_type": "markdown",
   "id": "6e41e539",
   "metadata": {},
   "source": [
    "### [실습]\n",
    "sample 이미지에 다음 전처리 적용\n",
    "1. X축은 0 ~ 420 Y축은 60 ~ 420 에 해당하는 픽셀만 잘라내어 cut.jpg로 저장   \n",
    "2. 이미지에 회전 및 이동을 랜덤하게 적용하여 rand.jpg로 저장\n",
    "3. 경계선만 검출하여 edge.jpg로 저장\n",
    "4. hsv로 변환하여 빨간색(170~180)만 마스크한 이미지 mask.jpg로 저장"
   ]
  },
  {
   "cell_type": "code",
   "execution_count": null,
   "id": "d93ad16c",
   "metadata": {},
   "outputs": [],
   "source": [
    "\n"
   ]
  }
 ],
 "metadata": {
  "kernelspec": {
   "display_name": "Python 3 (ipykernel)",
   "language": "python",
   "name": "python3"
  },
  "language_info": {
   "codemirror_mode": {
    "name": "ipython",
    "version": 3
   },
   "file_extension": ".py",
   "mimetype": "text/x-python",
   "name": "python",
   "nbconvert_exporter": "python",
   "pygments_lexer": "ipython3",
   "version": "3.10.11"
  }
 },
 "nbformat": 4,
 "nbformat_minor": 5
}
