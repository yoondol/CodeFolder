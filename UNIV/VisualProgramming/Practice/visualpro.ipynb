{
 "cells": [
  {
   "cell_type": "code",
   "execution_count": 15,
   "metadata": {},
   "outputs": [
    {
     "name": "stdout",
     "output_type": "stream",
     "text": [
      "        3.1415926536\n"
     ]
    }
   ],
   "source": [
    "value = math.pi\n",
    "formatted_value = \"%20.10f\" % value  # '   3.14159'\n",
    "print(formatted_value)"
   ]
  },
  {
   "cell_type": "code",
   "execution_count": 4,
   "metadata": {},
   "outputs": [
    {
     "name": "stdout",
     "output_type": "stream",
     "text": [
      "84.94867\n",
      "84.94867\n",
      "84.94867\n"
     ]
    }
   ],
   "source": [
    "#원의 넓이 구하기\n",
    "import math\n",
    "r = 5.2\n",
    "r_squared = r**2\n",
    "area = math.pi * r_squared\n",
    "print((round(area, 5)))\n",
    "print(\"%0.5f\" % area)\n",
    "print(f\"{area:.5f}\")"
   ]
  },
  {
   "cell_type": "code",
   "execution_count": 2,
   "metadata": {},
   "outputs": [
    {
     "name": "stdout",
     "output_type": "stream",
     "text": [
      "원 1의 면적: 28.27\n",
      "원 2의 면적: 50.27\n",
      "원 3의 면적: 78.54\n"
     ]
    }
   ],
   "source": [
    "#원의 반지름 N 개 입력받아 면적 구하기\n",
    "import math\n",
    "\n",
    "#N개의 실수 입력받기\n",
    "radii = list(map(float, input(\"원의 반지름을 입력하세요(쉼표로 구분): \").split(',')))\n",
    "\n",
    "#면적 계산\n",
    "areas = [math.pi * (r**2) for r in radii]\n",
    "\n",
    "#결과 출력\n",
    "for i, area in enumerate(areas, 1):\n",
    "    print(f\"원 {i}의 면적: {area:.2f}\")"
   ]
  },
  {
   "cell_type": "code",
   "execution_count": 2,
   "metadata": {},
   "outputs": [
    {
     "name": "stdout",
     "output_type": "stream",
     "text": [
      "5\n"
     ]
    }
   ],
   "source": [
    "num_list = input(\"수식을 입력하세요: \").split('+')\n",
    "total = sum(map(int, num_list))\n",
    "print(total)"
   ]
  },
  {
   "cell_type": "code",
   "execution_count": 16,
   "metadata": {},
   "outputs": [
    {
     "name": "stdout",
     "output_type": "stream",
     "text": [
      "12.57\n",
      "12.57\n"
     ]
    }
   ],
   "source": [
    "r = int(input(\"반지름 입력: \"))\n",
    "length = 2 * math.pi * r\n",
    "area = r**2 * math.pi\n",
    "print(f\"{length:.2f}\")\n",
    "print(\"%0.2f\" % area)"
   ]
  },
  {
   "cell_type": "code",
   "execution_count": 7,
   "metadata": {},
   "outputs": [
    {
     "name": "stdout",
     "output_type": "stream",
     "text": [
      "too big. retry.\n",
      "too small. retry.\n",
      "too small. retry.\n",
      "right. (4trial)\n"
     ]
    }
   ],
   "source": [
    "#랜덤 숫자 맞추기\n",
    "import random\n",
    "target = random.randint(1,20)\n",
    "\n",
    "count = 0\n",
    "for _ in range(5):\n",
    "    num = int(input(\"number?\"))\n",
    "    if num > target: \n",
    "        print(\"too big. retry.\")\n",
    "        count += 1\n",
    "    elif num < target: \n",
    "        print(\"too small. retry.\")\n",
    "        count += 1\n",
    "    else: \n",
    "        count += 1\n",
    "        print(f\"right. ({count}trial)\")\n",
    "        break"
   ]
  },
  {
   "cell_type": "code",
   "execution_count": 1,
   "metadata": {},
   "outputs": [
    {
     "name": "stdout",
     "output_type": "stream",
     "text": [
      "2550\n",
      "2550\n"
     ]
    }
   ],
   "source": [
    "#1부터 100사이 짝수합\n",
    "\n",
    "a = list(range(2,101,2))\n",
    "total = 0\n",
    "for i in a:\n",
    "    total += i\n",
    "print(total)\n",
    "\n",
    "print(sum(range(2,101,2)))"
   ]
  },
  {
   "cell_type": "code",
   "execution_count": 9,
   "metadata": {},
   "outputs": [
    {
     "name": "stdout",
     "output_type": "stream",
     "text": [
      "*\n",
      " *\n",
      "  *\n",
      "   *\n",
      "    *\n",
      "     *\n",
      "\n",
      "\n",
      "     *\n",
      "    ***\n",
      "   *****\n",
      "  *******\n",
      " *********\n",
      "***********\n"
     ]
    }
   ],
   "source": [
    "for i in range (6):\n",
    "    print(\" \"*(i) + \"*\")\n",
    "print(\"\\n\")\n",
    "n=6\n",
    "for i in range (6):\n",
    "    print(\" \"*(n-i-1) + \"*\"*(2*i+1))"
   ]
  },
  {
   "cell_type": "code",
   "execution_count": 10,
   "metadata": {},
   "outputs": [
    {
     "name": "stdout",
     "output_type": "stream",
     "text": [
      "78\n"
     ]
    }
   ],
   "source": [
    "#합계가 3000 넘는 순간의 숫자\n",
    "total = 0\n",
    "current = 1\n",
    "\n",
    "while total<3000:\n",
    "    total += current\n",
    "    current += 1\n",
    "print(current-1)"
   ]
  },
  {
   "cell_type": "code",
   "execution_count": 15,
   "metadata": {},
   "outputs": [
    {
     "name": "stdout",
     "output_type": "stream",
     "text": [
      "[3, 6, 9, 12, 15, 18, 21, 24, 27, 30, 33, 36, 39, 42, 45, 48, 51, 54, 57, 60, 63, 66, 69, 72, 75, 78, 81, 84, 87, 90, 93, 96, 99, 102, 105, 108, 111, 114, 117, 120, 123, 126, 129, 132, 135, 138, 141, 144, 147, 150, 153, 156, 159, 162, 165, 168, 171, 174, 177, 180, 183, 186, 189, 192, 195, 198, 201, 204, 207, 210, 213, 216, 219, 222, 225, 228, 231, 234, 237, 240, 243, 246, 249, 252, 255, 258, 261, 264, 267, 270, 273, 276, 279, 282, 285, 288, 291, 294, 297, 300]\n"
     ]
    },
    {
     "data": {
      "text/plain": [
       "100"
      ]
     },
     "execution_count": 15,
     "metadata": {},
     "output_type": "execute_result"
    }
   ],
   "source": [
    "number = []\n",
    "for i in range(1,101):\n",
    "    number.append(3*i)\n",
    "print(number)\n",
    "len(number)"
   ]
  },
  {
   "cell_type": "code",
   "execution_count": 19,
   "metadata": {},
   "outputs": [
    {
     "name": "stdout",
     "output_type": "stream",
     "text": [
      "나는\n",
      "엄마\n",
      "너\n",
      "는\n",
      "너\n",
      "총 5단어\n"
     ]
    }
   ],
   "source": [
    "sentence = input(\"문장입력:\")\n",
    "words = sentence.split()\n",
    "count = 0\n",
    "for i in words:\n",
    "    print(i)\n",
    "    count += 1\n",
    "print(f\"총 {count}단어\")"
   ]
  },
  {
   "cell_type": "code",
   "execution_count": 21,
   "metadata": {},
   "outputs": [
    {
     "name": "stdout",
     "output_type": "stream",
     "text": [
      "My name is Yoon and I am 26 years old.\n",
      "My name is Yoon and I am 26 years old\n"
     ]
    }
   ],
   "source": [
    "# 포맷팅\n",
    "name = 'Yoon'\n",
    "age = 26\n",
    "print(\"My name is %s and I am %d years old.\" % (name,age))\n",
    "print(f\"My name is {name} and I am {age} years old\")"
   ]
  },
  {
   "cell_type": "code",
   "execution_count": 26,
   "metadata": {},
   "outputs": [
    {
     "name": "stdout",
     "output_type": "stream",
     "text": [
      "60\n"
     ]
    }
   ],
   "source": [
    "# 수식더하기\n",
    "tex = input(\"수식입력: \")\n",
    "\n",
    "num = tex.split('+')\n",
    "total = sum(int(number) for number in num)\n",
    "print(total)"
   ]
  },
  {
   "cell_type": "code",
   "execution_count": null,
   "metadata": {},
   "outputs": [],
   "source": [
    "#기출. 대소문자 맞추기\n",
    "# 입력 문자열\n",
    "input_str = input(\"문자열을 입력하세요: \")\n",
    "\n",
    "# 대문자로 변환\n",
    "uppercase_str = input_str.upper()\n",
    "# lower()\n",
    "\n",
    "# 결과 출력\n",
    "print(\"대문자로 변환된 문자열:\", uppercase_str)"
   ]
  },
  {
   "cell_type": "code",
   "execution_count": 12,
   "metadata": {},
   "outputs": [
    {
     "name": "stdout",
     "output_type": "stream",
     "text": [
      "great _job_ well _done_\n"
     ]
    }
   ],
   "source": [
    "#기출: 문장과 알파벳을 입력하고 알파벳이 포함된 단어에는 밑줄을 쳐서 문장을 출력하시오\n",
    "# 문장과 알파벳 입력받기\n",
    "sentence = input(\"문장을 입력하세요: \")\n",
    "char = input(\"알파벳을 입력하세요: \")\n",
    "\n",
    "# 각 단어를 확인하여 알파벳이 포함된 경우 밑줄 처리\n",
    "words = sentence.split()\n",
    "underlined_sentence = ' '.join([f\"_{word}_\" if char in word else word for word in words])\n",
    "\n",
    "# 결과 출력\n",
    "print(underlined_sentence)\n",
    "\n"
   ]
  },
  {
   "cell_type": "code",
   "execution_count": null,
   "metadata": {},
   "outputs": [],
   "source": [
    "# 밑줄 긋기\n",
    "def underline_words_with_substring(sentence, target):\n",
    "    words = sentence.split()  # 문장을 단어로 분리\n",
    "    result = []\n",
    "\n",
    "    for word in words:\n",
    "        if target in word:\n",
    "            result.append(f\"_{word}_\")  # 해당 단어에 밑줄 추가\n",
    "        else:\n",
    "            result.append(word)\n",
    "    \n",
    "    return ' '.join(result)\n",
    "\n",
    "# 사용 예시\n",
    "sentence = input(\"문장을 입력하세요: \")\n",
    "target = input(\"찾을 문자열을 입력하세요: \")\n",
    "\n",
    "result = underline_words_with_substring(sentence, target)\n",
    "print(result)"
   ]
  },
  {
   "cell_type": "code",
   "execution_count": 17,
   "metadata": {},
   "outputs": [
    {
     "name": "stdout",
     "output_type": "stream",
     "text": [
      "welcome to python\n",
      "           ______\n"
     ]
    }
   ],
   "source": [
    "def underline_matching_parts(sentence, target):\n",
    "    words = sentence.split()  # 문장을 단어로 분리\n",
    "    original_sentence = ' '.join(words)  # 원래 문장 그대로 유지\n",
    "    underline_sentence = []\n",
    "\n",
    "    for word in words:\n",
    "        if target in word:\n",
    "            underline_sentence.append('_' * len(word))  # 문자열이 포함된 단어 길이만큼 밑줄\n",
    "        else:\n",
    "            underline_sentence.append(' ' * len(word))  # 포함되지 않으면 공백으로 대체\n",
    "\n",
    "    underline_sentence = ' '.join(underline_sentence)  # 다시 하나의 문장으로 합침\n",
    "\n",
    "    print(original_sentence)  # 원래 문장 출력\n",
    "    print(underline_sentence)  # 밑줄 문장 출력\n",
    "\n",
    "# 사용 예시\n",
    "sentence = input(\"문장을 입력하세요: \")\n",
    "target = input(\"찾을 문자열을 입력하세요: \")\n",
    "\n",
    "underline_matching_parts(sentence, target)\n"
   ]
  },
  {
   "cell_type": "code",
   "execution_count": null,
   "metadata": {},
   "outputs": [],
   "source": [
    "import openpyxl\n",
    "import time\n",
    "\n",
    "import matplotlib.pyplot as plt\n",
    "\n",
    "def read_votes(file_path):\n",
    "    workbook = openpyxl.load_workbook(file_path)\n",
    "    sheet = workbook.active\n",
    "    votes = {}\n",
    "    for row in sheet.iter_rows(min_row=2, values_only=True):\n",
    "        candidate, vote_count = row\n",
    "        votes[candidate] = vote_count\n",
    "    return votes\n",
    "\n",
    "def plot_votes(votes):\n",
    "    candidates = list(votes.keys())\n",
    "    vote_counts = list(votes.values())\n",
    "    \n",
    "    plt.figure(figsize=(10, 6))\n",
    "    plt.bar(candidates, vote_counts, color='blue')\n",
    "    plt.xlabel('Candidates')\n",
    "    plt.ylabel('Votes')\n",
    "    plt.title('Election Votes')\n",
    "    plt.show()\n",
    "\n",
    "file_path = 'elec.xlsx'\n",
    "\n",
    "try:\n",
    "    while True:\n",
    "        votes = read_votes(file_path)\n",
    "        plot_votes(votes)\n",
    "        time.sleep(10)\n",
    "except KeyboardInterrupt:\n",
    "    print(\"Program terminated.\")"
   ]
  },
  {
   "cell_type": "code",
   "execution_count": null,
   "metadata": {},
   "outputs": [],
   "source": [
    "import openpyxl\n",
    "import time\n",
    "\n",
    "import matplotlib.pyplot as plt\n",
    "\n",
    "def read_votes(file_path):\n",
    "    workbook = openpyxl.load_workbook(file_path)\n",
    "    sheet = workbook.active\n",
    "    votes = {}\n",
    "    for row in sheet.iter_rows(min_row=2, values_only=True):\n",
    "        candidate, vote_count = row\n",
    "        votes[candidate] = vote_count\n",
    "    return votes\n",
    "\n",
    "def plot_votes(votes):\n",
    "    candidates = list(votes.keys())\n",
    "    vote_counts = list(votes.values())\n",
    "    \n",
    "    explode = [0.1] * len(candidates)  # Slightly explode each slice\n",
    "    \n",
    "    plt.figure(figsize=(10, 6))\n",
    "    plt.pie(vote_counts, labels=candidates, autopct='%1.1f%%', startangle=140, explode=explode)\n",
    "    plt.title('Election Votes')\n",
    "    plt.show()\n",
    "\n",
    "file_path = 'elec.xlsx'\n",
    "\n",
    "try:\n",
    "    while True:\n",
    "        votes = read_votes(file_path)\n",
    "        plot_votes(votes)\n",
    "        time.sleep(10)\n",
    "except KeyboardInterrupt:\n",
    "    print(\"Program terminated.\")"
   ]
  },
  {
   "cell_type": "code",
   "execution_count": null,
   "metadata": {
    "vscode": {
     "languageId": "ini"
    }
   },
   "outputs": [],
   "source": [
    "import random\n",
    "import time\n",
    "\n",
    "# 사전 단어 리스트 (예시)\n",
    "dictionary = [\"apple\", \"banana\", \"cherry\", \"date\", \"elder\", \"fig\", \"grape\", \"honey\", \"kiwi\", \"lemon\"]\n",
    "\n",
    "# 이미 나온 단어를 저장할 리스트\n",
    "used_words = []\n",
    "\n",
    "# 점수와 기회 초기화\n",
    "score = 0\n",
    "chances = 3\n",
    "\n",
    "def get_random_word():\n",
    "\twhile True:\n",
    "\t\tword = random.choice(dictionary)\n",
    "\t\tif 4 <= len(word) <= 8 and word not in used_words:\n",
    "\t\t\tused_words.append(word)\n",
    "\t\t\treturn word\n",
    "\n",
    "def is_valid_word(word, previous_word):\n",
    "\treturn (word in dictionary and\n",
    "\t\t\tword not in used_words and\n",
    "\t\t\tlen(word) == len(previous_word) and\n",
    "\t\t\tword[0] == previous_word[-1])\n",
    "\n",
    "while chances > 0:\n",
    "\tcomputer_word = get_random_word()\n",
    "\tprint(f\"컴퓨터: {computer_word}\")\n",
    "\t\n",
    "\tstart_time = time.time()\n",
    "\tuser_word = input(\"사용자: \")\n",
    "\telapsed_time = time.time() - start_time\n",
    "\t\n",
    "\tif elapsed_time > 5:\n",
    "\t\tprint(\"시간 초과! 기회를 잃었습니다.\")\n",
    "\t\tchances -= 1\n",
    "\t\tcontinue\n",
    "\t\n",
    "\tif not is_valid_word(user_word, computer_word):\n",
    "\t\tprint(\"잘못된 단어! 기회를 잃었습니다.\")\n",
    "\t\tchances -= 1\n",
    "\t\tcontinue\n",
    "\t\n",
    "\tused_words.append(user_word)\n",
    "\tscore += 1\n",
    "\tprint(f\"점수: {score}\")\n",
    "\t\n",
    "\twhile True:\n",
    "\t\tcomputer_word = get_random_word()\n",
    "\t\tif len(computer_word) == len(user_word) and computer_word[0] == user_word[-1]:\n",
    "\t\t\tused_words.append(computer_word)\n",
    "\t\t\tprint(f\"컴퓨터: {computer_word}\")\n",
    "\t\t\tbreak\n",
    "\t\n",
    "\tstart_time = time.time()\n",
    "\tuser_word = input(\"사용자: \")\n",
    "\telapsed_time = time.time() - start_time\n",
    "\t\n",
    "\tif elapsed_time > 5:\n",
    "\t\tprint(\"시간 초과! 기회를 잃었습니다.\")\n",
    "\t\tchances -= 1\n",
    "\t\tcontinue\n",
    "\t\n",
    "\tif not is_valid_word(user_word, computer_word):\n",
    "\t\tprint(\"잘못된 단어! 기회를 잃었습니다.\")\n",
    "\t\tchances -= 1\n",
    "\t\tcontinue\n",
    "\t\n",
    "\tused_words.append(user_word)\n",
    "\tscore += 1\n",
    "\tprint(f\"점수: {score}\")\n",
    "\n",
    "print(f\"게임 종료! 최종 점수: {score}\")"
   ]
  },
  {
   "cell_type": "code",
   "execution_count": null,
   "metadata": {
    "vscode": {
     "languageId": "ini"
    }
   },
   "outputs": [],
   "source": [
    "# randdict_utf8.txt 파일에서 명사(n.)를 골라 첫 번째 글자 중심으로 묶어서 몇 글자인지 표시하고,\n",
    "# 개수를 중심으로 정렬하여 가장 많은 것 10개를 표시합니다.\n",
    "\n",
    "with open(r'C:\\GitCode\\CodeFolder\\UNIV\\VisualProgramming\\randdict_utf8.TXT', 'r', encoding='utf-8') as file:\n",
    "    lines = file.readlines()\n",
    "\n",
    "noun_dict = {}\n",
    "for line in lines:\n",
    "    if line.startswith('n.'):\n",
    "        noun = line[2:].strip()\n",
    "        first_char = noun[0]\n",
    "        if first_char in noun_dict:\n",
    "            noun_dict[first_char].append(noun)\n",
    "        else:\n",
    "            noun_dict[first_char] = [noun]\n",
    "\n",
    "\n",
    "noun_count = {char: len(nouns) for char, nouns in noun_dict.items()} # 첫 글자별 명사 개수 계산\n",
    "\n",
    "sorted_noun_count = sorted(noun_count.items(), key=lambda x: x[1], reverse=True)[:10]# 가장 많은 것 10개 표시\n",
    "\n",
    "for char, count in sorted_noun_count:\n",
    "    print(f\"{char}: {count}\")"
   ]
  },
  {
   "cell_type": "code",
   "execution_count": null,
   "metadata": {
    "vscode": {
     "languageId": "ini"
    }
   },
   "outputs": [],
   "source": [
    "import time\n",
    "\n",
    "# 파일에서 실행 횟수와 총 실행 시간 읽기\n",
    "try:\n",
    "    with open('execution_info.txt', 'r') as file:\n",
    "        execution_count, total_elapsed_time = map(int, file.read().split())\n",
    "except FileNotFoundError:\n",
    "    execution_count = 0\n",
    "    total_elapsed_time = 0\n",
    "\n",
    "# 실행 횟수 증가\n",
    "execution_count += 1\n",
    "\n",
    "print(f\"{execution_count}번째 실행입니다.\")\n",
    "\n",
    "try:\n",
    "    while True:\n",
    "        total_elapsed_time += 1\n",
    "        print(f\"{total_elapsed_time}초\")\n",
    "        time.sleep(1)\n",
    "        with open('execution_info.txt', 'w') as file:\n",
    "            file.write(f\"{execution_count} {total_elapsed_time}\")\n",
    "except KeyboardInterrupt:\n",
    "    print(\"프로그램이 강제 종료되었습니다.\")\n",
    "    with open('execution_info.txt', 'w') as file:\n",
    "        file.write(f\"{execution_count} {total_elapsed_time}\")"
   ]
  },
  {
   "cell_type": "code",
   "execution_count": null,
   "metadata": {
    "vscode": {
     "languageId": "ini"
    }
   },
   "outputs": [],
   "source": [
    "#### Quest?.txt (?는 1~9사이의 숫자) 라는 형식의 이름을 가진 파일들이 있다. 각 파일에는 n 개의 수식이 있다. 각 수식을 계산하여 정답을 파일 안에 기록하라. 파일의 개수와 번호를 확인하는 것은 프로그램에 의해 수행되어야 한다. 예를 들어 12+34라면 12+34=56으로 변경한다.  파일 안에 하나 이상의 수식이 있고, 하나의 수식은 3자리 이하의 양의 정수로만 이루어지며, + 또는 -  계산 1개만 포함된다.\n"
   ]
  },
  {
   "cell_type": "code",
   "execution_count": null,
   "metadata": {
    "vscode": {
     "languageId": "ini"
    }
   },
   "outputs": [],
   "source": [
    "import os\n",
    "import re\n",
    "\n",
    "def calculate_expression(expression):\n",
    "    # 정규식을 사용하여 수식을 계산\n",
    "    match = re.match(r'(\\d+)([+-])(\\d+)', expression)\n",
    "    if match:\n",
    "        num1, operator, num2 = match.groups()\n",
    "        num1, num2 = int(num1), int(num2)\n",
    "        if operator == '+':\n",
    "            return f\"{expression}={num1 + num2}\"\n",
    "        elif operator == '-':\n",
    "            return f\"{expression}={num1 - num2}\"\n",
    "    return expression\n",
    "\n",
    "# 현재 작업 디렉토리 확인\n",
    "current_directory = os.getcwd()\n",
    "print(f\"Current working directory: {current_directory}\")\n",
    "\n",
    "# Quest?.txt 파일들을 찾기\n",
    "for i in range(1, 10):\n",
    "    file_name = f\"Quest{i}.txt\"\n",
    "    if os.path.exists(file_name):\n",
    "        try:\n",
    "            with open(file_name, 'r') as file:\n",
    "                lines = file.readlines()\n",
    "            \n",
    "            # 각 수식을 계산하여 파일에 기록\n",
    "            with open(file_name, 'w') as file:\n",
    "                for line in lines:\n",
    "                    result = calculate_expression(line.strip())\n",
    "                    file.write(result + '\\n')\n",
    "        except Exception as e:\n",
    "            print(f\"Error processing {file_name}: {e}\")\n",
    "    else:\n",
    "        print(f\"{file_name} does not exist in the current directory.\")"
   ]
  },
  {
   "cell_type": "code",
   "execution_count": null,
   "metadata": {
    "vscode": {
     "languageId": "ini"
    }
   },
   "outputs": [],
   "source": [
    "import matplotlib.pyplot as plt\n",
    "\n",
    "# 사용자에게 n개의 100 이하의 정수를 입력받기\n",
    "n = int(input(\"정수의 개수를 입력하세요 (n<20): \"))\n",
    "numbers = list(map(int, input(f\"{n}개의 정수를 입력하세요 (100 이하): \").split()))\n",
    "\n",
    "# 데이터 처리\n",
    "labels = [f\"{i+1}번\" for i in range(n)]\n",
    "percentages = [f\"{(num / sum(numbers)) * 100:.1f}%\" for num in numbers]\n",
    "\n",
    "# 그래프 구성\n",
    "fig, ax = plt.subplots()\n",
    "bars = ax.bar(labels, numbers)\n",
    "\n",
    "# 그래프 안쪽에 비중을 %로 표시\n",
    "for bar, percentage in zip(bars, percentages):\n",
    "    height = bar.get_height()\n",
    "    ax.annotate(percentage,\n",
    "                xy=(bar.get_x() + bar.get_width() / 2, height),\n",
    "                xytext=(0, 3),  # 3 points vertical offset\n",
    "                textcoords=\"offset points\",\n",
    "                ha='center', va='bottom')\n",
    "\n",
    "# 그래프 표시\n",
    "plt.xlabel('항목')\n",
    "plt.ylabel('값')\n",
    "plt.title('사용자 입력 데이터 그래프')\n",
    "plt.show()"
   ]
  },
  {
   "cell_type": "code",
   "execution_count": null,
   "metadata": {
    "vscode": {
     "languageId": "ini"
    }
   },
   "outputs": [],
   "source": [
    "# randdict_utf8.TXT 파일에서 명사(n.)를 골라 첫 번째 글자 중심으로 묶어서 몇 글자인지 표시하고,\n",
    "# 개수를 중심으로 정렬하여 가장 많은 것 10개를 표시합니다.\n",
    "\n",
    "with open('randdict_utf8.TXT', 'r', encoding='utf-8') as file:\n",
    "    lines = file.readlines()\n",
    "\n",
    "noun_dict = {}\n",
    "for line in lines:\n",
    "    if line.startswith('n.'):\n",
    "        noun = line[2:].strip()\n",
    "        first_char = noun[0]\n",
    "        if first_char in noun_dict:\n",
    "            noun_dict[first_char].append(noun)\n",
    "        else:\n",
    "            noun_dict[first_char] = [noun]\n",
    "\n",
    "noun_count = {char: len(nouns) for char, nouns in noun_dict.items()}  # 첫 글자별 명사 개수 계산\n",
    "\n",
    "sorted_noun_count = sorted(noun_count.items(), key=lambda x: x[1], reverse=True)[:10]  # 가장 많은 것 10개 표시\n",
    "\n",
    "for char, count in sorted_noun_count:\n",
    "    print(f\"{char}: {count}\")"
   ]
  },
  {
   "cell_type": "code",
   "execution_count": null,
   "metadata": {},
   "outputs": [],
   "source": []
  },
  {
   "cell_type": "code",
   "execution_count": null,
   "metadata": {},
   "outputs": [],
   "source": [
    "한글"
   ]
  },
  {
   "cell_type": "code",
   "execution_count": null,
   "metadata": {
    "vscode": {
     "languageId": "ini"
    }
   },
   "outputs": [],
   "source": [
    "import matplotlib.pyplot as plt\n",
    "\n",
    "# 사용자에게 n개의 100 이하의 정수를 입력받기\n",
    "n = int(input(\"정수의 개수를 입력하세요 (n<20): \"))\n",
    "numbers = list(map(int, input(f\"{n}개의 정수를 입력하세요 (100 이하): \").split()))\n",
    "\n",
    "# 데이터 처리\n",
    "labels = [f\"{i+1}번\" for i in range(n)]\n",
    "percentages = [f\"{(num / sum(numbers)) * 100:.1f}%\" for num in numbers]\n",
    "\n",
    "# 그래프 구성\n",
    "fig, ax = plt.subplots()\n",
    "bars = ax.bar(labels, numbers)\n",
    "\n",
    "# 그래프 안쪽에 비중을 %로 표시\n",
    "for bar, percentage in zip(bars, percentages):\n",
    "    height = bar.get_height()\n",
    "    ax.annotate(percentage,\n",
    "                xy=(bar.get_x() + bar.get_width() / 2, height),\n",
    "                xytext=(0, 3),  # 3 points vertical offset\n",
    "                textcoords=\"offset points\",\n",
    "                ha='center', va='bottom')\n",
    "\n",
    "# 그래프 표시\n",
    "plt.xlabel('항목')\n",
    "plt.ylabel('값')\n",
    "plt.title('사용자 입력 데이터 그래프')\n",
    "plt.show()"
   ]
  },
  {
   "cell_type": "code",
   "execution_count": null,
   "metadata": {
    "vscode": {
     "languageId": "ini"
    }
   },
   "outputs": [],
   "source": [
    "import matplotlib.pyplot as plt\n",
    "\n",
    "# 사용자에게 n개의 100 이하의 정수를 입력받기\n",
    "n = int(input(\"정수의 개수를 입력하세요 (n<20): \"))\n",
    "numbers = list(map(int, input(f\"{n}개의 정수를 입력하세요 (100 이하): \").split()))\n",
    "\n",
    "# 데이터 처리\n",
    "labels = [f\"{i+1}번\" for i in range(n)]\n",
    "percentages = [f\"{(num / sum(numbers)) * 100:.1f}%\" for num in numbers]\n",
    "\n",
    "# 그래프 구성\n",
    "fig, ax = plt.subplots()\n",
    "bars = ax.bar(labels, numbers)\n",
    "\n",
    "# 그래프 안쪽에 비중을 %로 표시\n",
    "for bar, percentage in zip(bars, percentages):\n",
    "    height = bar.get_height()\n",
    "    ax.annotate(percentage,\n",
    "                xy=(bar.get_x() + bar.get_width() / 2, height),\n",
    "                xytext=(0, 3),  # 3 points vertical offset\n",
    "                textcoords=\"offset points\",\n",
    "                ha='center', va='bottom')\n",
    "\n",
    "# 그래프 표시\n",
    "plt.xlabel('항목')\n",
    "plt.ylabel('값')\n",
    "plt.title('사용자 입력 데이터 그래프')\n",
    "plt.show()"
   ]
  },
  {
   "cell_type": "code",
   "execution_count": null,
   "metadata": {},
   "outputs": [],
   "source": [
    "import openpyxl\n",
    "import time\n",
    "\n",
    "import matplotlib.pyplot as plt\n",
    "\n",
    "def read_votes(file_path):\n",
    "    workbook = openpyxl.load_workbook(file_path)\n",
    "    sheet = workbook.active\n",
    "    votes = {}\n",
    "    for row in sheet.iter_rows(min_row=2, values_only=True):\n",
    "        candidate, vote_count = row\n",
    "        votes[candidate] = vote_count\n",
    "    return votes\n",
    "\n",
    "def plot_votes(votes):\n",
    "    candidates = list(votes.keys())\n",
    "    vote_counts = list(votes.values())\n",
    "    \n",
    "    explode = [0.1] * len(candidates)  # Slightly explode each slice\n",
    "    \n",
    "    plt.figure(figsize=(10, 6))\n",
    "    plt.pie(vote_counts, labels=candidates, autopct='%1.1f%%', startangle=140, explode=explode)\n",
    "    plt.title('Election Votes')\n",
    "    plt.show()\n",
    "\n",
    "file_path = 'elec.xlsx'\n",
    "\n",
    "try:\n",
    "    while True:\n",
    "        votes = read_votes(file_path)\n",
    "        plot_votes(votes)\n",
    "        time.sleep(10)\n",
    "except KeyboardInterrupt:\n",
    "    print(\"Program terminated.\")"
   ]
  },
  {
   "cell_type": "code",
   "execution_count": 11,
   "metadata": {},
   "outputs": [
    {
     "name": "stdout",
     "output_type": "stream",
     "text": [
      "great\n",
      " job\n",
      "___\n",
      " well\n",
      " done\n",
      "____\n",
      "\n"
     ]
    }
   ],
   "source": [
    "# 문장과 알파벳 입력받기\n",
    "sentence = input(\"문장을 입력하세요: \")\n",
    "char = input(\"알파벳을 입력하세요: \")\n",
    "\n",
    "# 각 단어를 확인하여 알파벳이 포함된 경우 밑에 _를 추가\n",
    "words = sentence.split()\n",
    "underlined_sentence = []\n",
    "\n",
    "for word in words:\n",
    "    if char in word:\n",
    "        # 밑줄 표시를 실제로 단어 아래에 추가\n",
    "        underlined_sentence.append(f\"{word}\\n{'_' * len(word)}\\n\")\n",
    "    else:\n",
    "        underlined_sentence.append(word+\"\\n\")\n",
    "\n",
    "# 결과 출력\n",
    "print(' '.join(underlined_sentence))"
   ]
  },
  {
   "cell_type": "code",
   "execution_count": 14,
   "metadata": {},
   "outputs": [
    {
     "name": "stdout",
     "output_type": "stream",
     "text": [
      "\n",
      "학생들의 성적과 석차를 표시합니다:\n",
      "번호: 20183838, 영어점수: 82, 국어점수: 83, 총점: 165, 석차: 1\n",
      "번호: 22822828, 영어점수: 92, 국어점수: 38, 총점: 130, 석차: 2\n",
      "번호: 20187303, 영어점수: 20, 국어점수: 83, 총점: 103, 석차: 3\n",
      "해당 학생을 찾을 수 없습니다.\n"
     ]
    }
   ],
   "source": [
    "#기출: 학번 이름 영어점수 국어점수를 입력 받고 학번이나 이름을 입력하면 총점과 석차를 출력하시오\n",
    "\n",
    "# 학생 정보를 저장할 리스트\n",
    "students = []\n",
    "\n",
    "# 학생 수 입력받기\n",
    "n = int(input(\"학생 수를 입력하세요: \"))\n",
    "\n",
    "# 학생 정보 입력받기\n",
    "for _ in range(n):\n",
    "    student_info = input(\"학번, 이름, 영어점수, 국어점수를 입력하세요 (쉼표로 구분): \").split(',')\n",
    "    student_id = student_info[0]\n",
    "    name = student_info[1]\n",
    "    english_score = int(student_info[2])\n",
    "    korean_score = int(student_info[3])\n",
    "    \n",
    "    # 총점 계산\n",
    "    total_score = english_score + korean_score\n",
    "    \n",
    "    # 학생 정보를 딕셔너리 형태로 저장\n",
    "    students.append({   #딕셔너리면     students[student_id] = {\n",
    "        '학번': student_id,\n",
    "        '이름': name,\n",
    "        '영어점수': english_score,\n",
    "        '국어점수': korean_score,\n",
    "        '총점': total_score\n",
    "    })\n",
    "#딕셔너리면     students[student_id] = { ... }\n",
    "#마지막에 students[name] = students[student_id]  # 이름을 키로도 추가\n",
    "\n",
    "# 석차 계산\n",
    "students = sorted(students, key=lambda x: x['총점'], reverse=True) #딕셔너리면  students.values()\n",
    "for rank, student in enumerate(students, 1):\n",
    "    student['석차'] = rank\n",
    "\n",
    "# 결과 출력\n",
    "print(\"\\n학생들의 성적과 석차를 표시합니다:\")\n",
    "for student in students:\n",
    "    print(f\"번호: {student['학번']}, 영어점수: {student['영어점수']}, 국어점수: {student['국어점수']}, 총점: {student['총점']}, 석차: {student['석차']}\")\n",
    "\n",
    "# 학번이나 이름을 입력받아 해당 학생 정보 출력\n",
    "search = input(\"학번 또는 이름을 입력하세요: \")\n",
    "\n",
    "# 검색 결과 출력\n",
    "for student in students:\n",
    "    if student['학번'] == search or student['이름'] == search:\n",
    "        print(f\"학번: {student['학번']}, 이름: {student['이름']}, 총점: {student['총점']}, 석차: {student['석차']}\")\n",
    "        break\n",
    "else:\n",
    "    print(\"해당 학생을 찾을 수 없습니다.\")\n"
   ]
  },
  {
   "cell_type": "code",
   "execution_count": null,
   "metadata": {},
   "outputs": [],
   "source": [
    "# 학생 정보를 저장할 딕셔너리\n",
    "students = {}\n",
    "\n",
    "# 학생 수 입력받기\n",
    "n = int(input(\"학생 수를 입력하세요: \"))\n",
    "\n",
    "# 학생 정보 입력받기\n",
    "for _ in range(n):\n",
    "    student_info = input(\"학번, 이름, 영어점수, 국어점수를 입력하세요 (쉼표로 구분): \").split(',')\n",
    "    student_id = student_info[0]\n",
    "    name = student_info[1]\n",
    "    english_score = int(student_info[2])\n",
    "    korean_score = int(student_info[3])\n",
    "    \n",
    "    # 총점 계산\n",
    "    total_score = english_score + korean_score\n",
    "    \n",
    "    # 학번과 이름을 키로 하여 딕셔너리 저장\n",
    "    students[student_id] = {\n",
    "        '학번': student_id,\n",
    "        '이름': name,\n",
    "        '영어점수': english_score,\n",
    "        '국어점수': korean_score,\n",
    "        '총점': total_score\n",
    "    }\n",
    "    students[name] = students[student_id]  # 이름을 키로도 추가\n",
    "\n",
    "# 석차 계산\n",
    "sorted_students = sorted(students.values(), key=lambda x: x['총점'], reverse=True)\n",
    "for rank, student in enumerate(sorted_students, 1):\n",
    "    student['석차'] = rank\n",
    "\n",
    "# 학번이나 이름을 입력받아 해당 학생 정보 출력\n",
    "search = input(\"학번 또는 이름을 입력하세요: \")\n",
    "\n",
    "# 검색 결과 출력\n",
    "if search in students:\n",
    "    student = students[search]\n",
    "    print(f\"학번: {student['학번']}, 이름: {student['이름']}, 총점: {student['총점']}, 석차: {student['석차']}\")\n",
    "else:\n",
    "    print(\"해당 학생을 찾을 수 없습니다.\")\n"
   ]
  },
  {
   "cell_type": "code",
   "execution_count": null,
   "metadata": {},
   "outputs": [],
   "source": [
    "import time\n",
    "\n",
    "# 파일에서 현재 숫자 읽기\n",
    "try:\n",
    "    with open('counter.txt', 'r') as file:\n",
    "        current_number = int(file.read())\n",
    "except FileNotFoundError:\n",
    "    current_number = 0\n",
    "\n",
    "try:\n",
    "    while True:\n",
    "        print(current_number)\n",
    "        current_number += 1\n",
    "        with open('counter.txt', 'w') as file:\n",
    "            file.write(str(current_number))\n",
    "        time.sleep(1)\n",
    "except KeyboardInterrupt:\n",
    "    print(\"프로그램이 강제 종료되었습니다.\")"
   ]
  },
  {
   "cell_type": "code",
   "execution_count": null,
   "metadata": {},
   "outputs": [],
   "source": [
    "def apply_formula(input_data):\n",
    "    if isinstance(input_data, int):\n",
    "        # 정수일 경우: 제곱\n",
    "        result = input_data ** 2\n",
    "    elif isinstance(input_data, list):\n",
    "        # 리스트일 경우: 각 요소의 제곱\n",
    "        result = [x ** 2 for x in input_data]\n",
    "    elif isinstance(input_data, tuple):\n",
    "        # 튜플일 경우: 각 요소의 세제곱\n",
    "        result = tuple(x ** 3 for x in input_data)\n",
    "    else:\n",
    "        result = \"지원되지 않는 형식입니다.\"\n",
    "    \n",
    "    return result\n",
    "\n",
    "# 사용 예시\n",
    "int_input = 5\n",
    "list_input = [1, 2, 3]\n",
    "tuple_input = (1, 2, 3)\n",
    "\n",
    "print(f\"정수 입력: {int_input} -> 결과: {apply_formula(int_input)}\")\n",
    "print(f\"리스트 입력: {list_input} -> 결과: {apply_formula(list_input)}\")\n",
    "print(f\"튜플 입력: {tuple_input} -> 결과: {apply_formula(tuple_input)}\")"
   ]
  },
  {
   "cell_type": "code",
   "execution_count": 4,
   "metadata": {},
   "outputs": [
    {
     "name": "stdout",
     "output_type": "stream",
     "text": [
      "총합: 0\n"
     ]
    }
   ],
   "source": [
    "import os\n",
    "\n",
    "total_sum = 0\n",
    "\n",
    "for i in range(1, 10):\n",
    "    file_name = f\"data{i}.txt\"\n",
    "    if os.path.exists(file_name):\n",
    "        try:\n",
    "            with open(file_name, 'r') as file:\n",
    "                values = file.readlines()\n",
    "                total_sum += sum(map(float, values))\n",
    "        except Exception as e:\n",
    "            print(f\"Error reading {file_name}: {e}\")\n",
    "\n",
    "print(f\"총합: {total_sum}\")"
   ]
  },
  {
   "cell_type": "code",
   "execution_count": null,
   "metadata": {},
   "outputs": [],
   "source": [
    "def count_occurrences_of_digit(n):\n",
    "    count = 0\n",
    "    for hour in range(n):\n",
    "        for minute in range(60):\n",
    "            for second in range(60):\n",
    "                time_str = f\"{hour:02d}:{minute:02d}:{second:02d}\"\n",
    "                count += time_str.count(str(n))\n",
    "    return count\n",
    "\n",
    "# 사용자로부터 입력받기\n",
    "n = int(input(\"n을 입력하세요 (1~9): \"))\n",
    "if 1 <= n <= 9:\n",
    "    result = count_occurrences_of_digit(n)\n",
    "    print(f\"{n}이(가) 포함된 시간의 개수: {result}\")\n",
    "else:\n",
    "    print(\"잘못된 입력입니다. 1에서 9 사이의 숫자를 입력하세요.\")"
   ]
  },
  {
   "cell_type": "code",
   "execution_count": null,
   "metadata": {},
   "outputs": [],
   "source": [
    "import time\n",
    "\n",
    "# 파일에서 현재 숫자 읽기\n",
    "try:\n",
    "    with open('counter.txt', 'r') as file:\n",
    "        current_number = int(file.read())\n",
    "except FileNotFoundError:\n",
    "    current_number = 0\n",
    "\n",
    "try:\n",
    "    while True:\n",
    "        print(current_number)\n",
    "        current_number += 1\n",
    "        with open('counter.txt', 'w') as file:\n",
    "            file.write(str(current_number))\n",
    "        time.sleep(1)\n",
    "except KeyboardInterrupt:\n",
    "    print(\"프로그램이 강제 종료되었습니다.\")"
   ]
  },
  {
   "cell_type": "code",
   "execution_count": null,
   "metadata": {},
   "outputs": [],
   "source": [
    "def apply_formula(input_data):\n",
    "    if isinstance(input_data, int):\n",
    "        # 정수일 경우: 제곱\n",
    "        result = input_data ** 2\n",
    "    elif isinstance(input_data, list):\n",
    "        # 리스트일 경우: 각 요소의 제곱\n",
    "        result = [x ** 2 for x in input_data]\n",
    "    elif isinstance(input_data, tuple):\n",
    "        # 튜플일 경우: 각 요소의 세제곱\n",
    "        result = tuple(x ** 3 for x in input_data)\n",
    "    else:\n",
    "        result = \"지원되지 않는 형식입니다.\"\n",
    "    \n",
    "    return result\n",
    "\n",
    "# 사용 예시\n",
    "int_input = 5\n",
    "list_input = [1, 2, 3]\n",
    "tuple_input = (1, 2, 3)\n",
    "\n",
    "print(f\"정수 입력: {int_input} -> 결과: {apply_formula(int_input)}\")\n",
    "print(f\"리스트 입력: {list_input} -> 결과: {apply_formula(list_input)}\")\n",
    "print(f\"튜플 입력: {tuple_input} -> 결과: {apply_formula(tuple_input)}\")"
   ]
  },
  {
   "cell_type": "code",
   "execution_count": null,
   "metadata": {},
   "outputs": [],
   "source": [
    "def read_vocabulary(file_path):\n",
    "    with open(file_path, 'r', encoding='utf-8') as file:\n",
    "        words = file.read().split()\n",
    "    return words\n",
    "\n",
    "def get_top_longest_words(words, top_n=10):\n",
    "    sorted_words = sorted(words, key=len, reverse=True)\n",
    "    return sorted_words[:top_n]\n",
    "\n",
    "def count_vowels(word):\n",
    "    vowels = 'aeiouAEIOU'\n",
    "    return sum(1 for char in word if char in vowels)\n",
    "\n",
    "def get_top_vowel_words(words, top_n=10):\n",
    "    sorted_words = sorted(words, key=count_vowels, reverse=True)\n",
    "    return sorted_words[:top_n]\n",
    "\n",
    "# 파일 경로 입력\n",
    "file_path = 'vocabulary.txt'  # 실제 단어장 파일 경로를 입력하세요\n",
    "\n",
    "# 단어장 읽기\n",
    "words = read_vocabulary(file_path)\n",
    "\n",
    "# 가장 길이가 긴 단어 top 10\n",
    "top_longest_words = get_top_longest_words(words)\n",
    "print(\"가장 길이가 긴 단어 top 10:\")\n",
    "for word in top_longest_words:\n",
    "    print(word)\n",
    "\n",
    "# 모음이 가장 많이 포함된 단어 top 10\n",
    "top_vowel_words = get_top_vowel_words(words)\n",
    "print(\"\\n모음이 가장 많이 포함된 단어 top 10:\")\n",
    "for word in top_vowel_words:\n",
    "    print(word)"
   ]
  },
  {
   "cell_type": "code",
   "execution_count": null,
   "metadata": {},
   "outputs": [],
   "source": [
    "import os\n",
    "\n",
    "total_sum = 0\n",
    "\n",
    "for i in range(1, 10):\n",
    "    file_name = f\"data{i}.txt\"\n",
    "    if os.path.exists(file_name):\n",
    "        try:\n",
    "            with open(file_name, 'r') as file:\n",
    "                values = file.readlines()\n",
    "                total_sum += sum(map(float, values))\n",
    "        except Exception as e:\n",
    "            print(f\"Error reading {file_name}: {e}\")\n",
    "\n",
    "print(f\"총합: {total_sum}\")"
   ]
  },
  {
   "cell_type": "code",
   "execution_count": null,
   "metadata": {},
   "outputs": [],
   "source": [
    "def count_occurrences(n):\n",
    "    count = 0\n",
    "    for hour in range(n):\n",
    "        for minute in range(60):\n",
    "            for second in range(60):\n",
    "                time_str = f\"{hour:02d}:{minute:02d}:{second:02d}\"\n",
    "                if str(n) in time_str:\n",
    "                    count += 1\n",
    "    return count\n",
    "\n",
    "# 사용자로부터 입력받기\n",
    "n = int(input(\"n을 입력하세요 (1~9): \"))\n",
    "if 1 <= n <= 9:\n",
    "    result = count_occurrences(n)\n",
    "    print(f\"{n}이(가) 포함된 시간의 개수: {result}\")\n",
    "else:\n",
    "    print(\"잘못된 입력입니다. 1에서 9 사이의 숫자를 입력하세요.\")"
   ]
  },
  {
   "cell_type": "code",
   "execution_count": 19,
   "metadata": {},
   "outputs": [
    {
     "name": "stdout",
     "output_type": "stream",
     "text": [
      "              38,383\n"
     ]
    }
   ],
   "source": [
    "#기출: 숫자를 입력 받아 천 단위로 콤마를 찍고 오른쪽으로 정렬하시오 \n",
    "\n",
    "def format_number(number):\n",
    "    formatted_number = f\"{number:,}\"  # 천 단위 콤마를 찍는 형식\n",
    "    return formatted_number.rjust(20)  # 오른쪽 정렬 (20칸 기준)\n",
    "\n",
    "# 사용 예시\n",
    "number = int(input(\"숫자를 입력하세요: \"))\n",
    "result = format_number(number)\n",
    "print(result)\n"
   ]
  },
  {
   "cell_type": "code",
   "execution_count": 20,
   "metadata": {},
   "outputs": [
    {
     "name": "stdout",
     "output_type": "stream",
     "text": [
      "           1,234,567\n",
      "           1,234,567\n",
      "             1234.57\n"
     ]
    }
   ],
   "source": [
    "# 오른쪽 정렬\n",
    "\n",
    "def format_right_align(number, width):\n",
    "    formatted_number = \"{:>{width},}\".format(number, width=width)\n",
    "    return formatted_number\n",
    "# 사용 예시\n",
    "number = 1234567\n",
    "print(format_right_align(number, 20))  # 20칸 기준 오른쪽 정렬\n",
    "\n",
    "def fstring_right_align(number, width):\n",
    "    formatted_number = f\"{number:>{width},}\"\n",
    "    return formatted_number\n",
    "# 사용 예시\n",
    "number = 1234567\n",
    "print(fstring_right_align(number, 20))  # 20칸 기준 오른쪽 정렬\n",
    "\n",
    "def percent_format_right_align(number):\n",
    "    formatted_number = \"%20.2f\" % number  # 소수점 둘째 자리까지 표현, 20자리 오른쪽 정렬\n",
    "    return formatted_number\n",
    "# 사용 예시\n",
    "number = 1234.56789\n",
    "print(percent_format_right_align(number))\n"
   ]
  },
  {
   "cell_type": "code",
   "execution_count": null,
   "metadata": {},
   "outputs": [],
   "source": [
    "def get_price_by_menu_number(menu, number):\n",
    "    if number in menu:\n",
    "        print(f\"선택한 메뉴의 가격은: {menu[number]}\")\n",
    "    else:\n",
    "        print(\"잘못된 메뉴 번호입니다. 다시 시도하세요.\")\n",
    "\n",
    "# 메뉴 딕셔너리 예시\n",
    "menu = {\n",
    "    1: '김밥 - 2500원',\n",
    "    2: '라면 - 3000원'\n",
    "}\n",
    "\n",
    "# 사용자로부터 입력받기\n",
    "try:\n",
    "    menu_number = int(input(\"메뉴 번호를 입력하세요: \"))\n",
    "    get_price_by_menu_number(menu, menu_number)\n",
    "except ValueError:\n",
    "    print(\"잘못된 입력입니다. 숫자를 입력해주세요.\")"
   ]
  },
  {
   "cell_type": "code",
   "execution_count": null,
   "metadata": {},
   "outputs": [],
   "source": [
    "class Account:\n",
    "    def __init__(self, owner, balance=0):\n",
    "        self.owner = owner\n",
    "        self.balance = balance\n",
    "\n",
    "    def deposit(self, amount):\n",
    "        if amount > 0:\n",
    "            self.balance += amount\n",
    "            print(f\"{amount}원이 입금되었습니다. 잔액: {self.balance}원\")\n",
    "        else:\n",
    "            print(\"입금액은 0보다 커야 합니다.\")\n",
    "\n",
    "    def withdraw(self, amount):\n",
    "        if amount > 0:\n",
    "            if self.balance >= amount:\n",
    "                self.balance -= amount\n",
    "                print(f\"{amount}원이 출금되었습니다. 잔액: {self.balance}원\")\n",
    "            else:\n",
    "                print(\"잔액이 부족합니다.\")\n",
    "        else:\n",
    "            print(\"출금액은 0보다 커야 합니다.\")\n",
    "\n",
    "    def __str__(self):\n",
    "        return f\"계좌 소유자: {self.owner}, 잔액: {self.balance}원\"\n",
    "\n",
    "# 사용 예시\n",
    "account = Account(\"홍길동\", 10000)\n",
    "print(account)\n",
    "account.deposit(5000)\n",
    "account.withdraw(3000)\n",
    "print(account)"
   ]
  },
  {
   "cell_type": "code",
   "execution_count": null,
   "metadata": {},
   "outputs": [],
   "source": [
    "import json\n",
    "\n",
    "# JSON 파일 경로 입력\n",
    "file_path = input(\"JSON 파일 경로를 입력하세요: \")\n",
    "\n",
    "# JSON 파일 읽기\n",
    "with open(file_path, 'r', encoding='utf-8') as file:\n",
    "    data = json.load(file)\n",
    "\n",
    "# 확진자 수의 합계 계산\n",
    "total_confirmed_cases = sum(item['confirmed'] for item in data)\n",
    "\n",
    "# 결과 출력\n",
    "print(f\"확진자 수의 합계: {total_confirmed_cases}\")"
   ]
  },
  {
   "cell_type": "code",
   "execution_count": null,
   "metadata": {},
   "outputs": [],
   "source": [
    "import time\n",
    "\n",
    "# 프로그램 시작 시간 기록\n",
    "start_time = time.time()\n",
    "\n",
    "# 프로그램이 구동된 시간 표시\n",
    "def display_runtime():\n",
    "    elapsed_time = time.time() - start_time\n",
    "    print(f\"프로그램이 구동된 시간: {elapsed_time:.2f}초\")\n",
    "\n",
    "# 예시로 5초 대기 후 구동 시간 표시\n",
    "time.sleep(5)\n",
    "display_runtime()"
   ]
  },
  {
   "cell_type": "code",
   "execution_count": 28,
   "metadata": {},
   "outputs": [
    {
     "name": "stdout",
     "output_type": "stream",
     "text": [
      "6+3=9\n",
      "6-3=3\n",
      "6*3=18\n",
      "6/3=2.0\n"
     ]
    }
   ],
   "source": [
    "#3-1 수식계산\n",
    "A = int(input(\"A = ? \"))\n",
    "B = int(input(\"B = ? \"))\n",
    "print(f\"{A}+{B}={A+B}\")\n",
    "print(f\"{A}-{B}={A-B}\")\n",
    "print(f\"{A}*{B}={A*B}\")\n",
    "print(f\"{A}/{B}={A/B}\")"
   ]
  },
  {
   "cell_type": "code",
   "execution_count": 69,
   "metadata": {},
   "outputs": [
    {
     "name": "stdout",
     "output_type": "stream",
     "text": [
      "1: 1.732\n"
     ]
    }
   ],
   "source": [
    "#3-2\n",
    "import math\n",
    "value1 = math.sqrt(3)\n",
    "print(f\"1: {value1:.3f}\")"
   ]
  },
  {
   "cell_type": "code",
   "execution_count": 42,
   "metadata": {},
   "outputs": [
    {
     "name": "stdout",
     "output_type": "stream",
     "text": [
      "3 %\n",
      "1년차 = 3090\n",
      "2년차 = 3182\n",
      "3년차 = 3277\n"
     ]
    }
   ],
   "source": [
    "# 3-3 원금과 이자 계산\n",
    "principal = int(input(\"원금 = \"))\n",
    "rate = int(input(\"이율% = \"))\n",
    "print(rate, \"%\")\n",
    "\n",
    "for year in range(1,4):\n",
    "    principal = int(principal * (1+ rate/100))\n",
    "    print(f\"{year}년차 = {principal}\")"
   ]
  },
  {
   "cell_type": "code",
   "execution_count": 47,
   "metadata": {},
   "outputs": [
    {
     "name": "stdout",
     "output_type": "stream",
     "text": [
      "0만0천1백2십3"
     ]
    }
   ],
   "source": [
    "# 3-5 단위 자리 표시\n",
    "\n",
    "number = input(\" N =? \").zfill(5)\n",
    "units = [\"만\", \"천\", '백', '십', '']\n",
    "\n",
    "for i in range(5):\n",
    "    print(number[i] + units[i], end='')\n"
   ]
  },
  {
   "cell_type": "code",
   "execution_count": 52,
   "metadata": {},
   "outputs": [
    {
     "name": "stdout",
     "output_type": "stream",
     "text": [
      "(4,4)-(2,2) 거리는 2.828\n"
     ]
    }
   ],
   "source": [
    "# 3-6 두 점 사이 거리\n",
    "x1 = int(input(\"x1 = \"))\n",
    "y1 = int(input(\"y1 = \"))\n",
    "x2 = int(input(\"x2 = \"))\n",
    "y2 = int(input(\"y2 = \"))\n",
    "\n",
    "distance = math.sqrt((x2 - x1)**2 + (y2 - y1)**2)\n",
    "print(f\"({x1},{y1})-({x2},{y2}) 거리는 {distance:.3f}\")\n"
   ]
  },
  {
   "cell_type": "code",
   "execution_count": 65,
   "metadata": {},
   "outputs": [
    {
     "name": "stdout",
     "output_type": "stream",
     "text": [
      "0 1 1 1\n",
      "0일 1시간 1분 1초\n"
     ]
    }
   ],
   "source": [
    "#3-7 전체초를 쪼개기\n",
    "time = int(input(\"초 = \"))\n",
    "unit = ['일', '시간', '분', '초']\n",
    "\n",
    "sec = time % 60\n",
    "time = time // 60\n",
    "\n",
    "minute = time % 60\n",
    "time = time // 60\n",
    "\n",
    "hour = time % 24\n",
    "days = time // 24\n",
    "\n",
    "print(f\"{days}일 {hour}시간 {minute}분 {sec}초\") \n",
    "    "
   ]
  },
  {
   "cell_type": "code",
   "execution_count": 67,
   "metadata": {},
   "outputs": [
    {
     "name": "stdout",
     "output_type": "stream",
     "text": [
      "True\n"
     ]
    }
   ],
   "source": [
    "#3-8 홀수 판별기\n",
    "num = int(input(\"정수: \"))\n",
    "print(num%2 == 1)"
   ]
  }
 ],
 "metadata": {
  "kernelspec": {
   "display_name": "data_env",
   "language": "python",
   "name": "python3"
  },
  "language_info": {
   "codemirror_mode": {
    "name": "ipython",
    "version": 3
   },
   "file_extension": ".py",
   "mimetype": "text/x-python",
   "name": "python",
   "nbconvert_exporter": "python",
   "pygments_lexer": "ipython3",
   "version": "3.10.15"
  }
 },
 "nbformat": 4,
 "nbformat_minor": 2
}
