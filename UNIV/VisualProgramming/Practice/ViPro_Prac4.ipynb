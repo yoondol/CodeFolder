{
 "cells": [
  {
   "cell_type": "code",
   "execution_count": 1,
   "metadata": {},
   "outputs": [
    {
     "name": "stdout",
     "output_type": "stream",
     "text": [
      "최소값: 11\n",
      "최대값: 94\n"
     ]
    }
   ],
   "source": [
    "# 4-1. 최소값, 최대값\n",
    "mylist = [23, 78, 43, 11, 94]\n",
    "\n",
    "# 초기값으로 리스트의 첫 번째 요소 설정\n",
    "min_value = mylist[0]\n",
    "max_value = mylist[0]\n",
    "\n",
    "# 리스트의 값들을 순회하면서 최소값, 최대값 갱신\n",
    "for num in mylist:\n",
    "    if num < min_value:\n",
    "        min_value = num  # 최소값 갱신\n",
    "    if num > max_value:\n",
    "        max_value = num  # 최대값 갱신\n",
    "\n",
    "# 결과 출력\n",
    "print(f\"최소값: {min_value}\")\n",
    "print(f\"최대값: {max_value}\")"
   ]
  },
  {
   "cell_type": "code",
   "execution_count": null,
   "metadata": {},
   "outputs": [],
   "source": [
    "sentences = []\n",
    "\n",
    "while True:\n",
    "    sentence = input(\"문장: \")\n",
    "    if sentence.lower() == 'end':\n",
    "        break\n",
    "    sentences.append(sentence)\n",
    "\n",
    "all_text = ''.join(sentences).lower()\n",
    "all_text = all_text.replace(' ', '')\n",
    "\n",
    "# 빈도수 check\n",
    "char_count = {}\n",
    "for char in all_text:\n",
    "    if char in char_count:\n",
    "        char_count[char] += 1\n",
    "    else:\n",
    "        char_count[char] = 1\n",
    "\n",
    "# 정답 찾기\n",
    "most_common_char = max(char_count, key=char_count.get)\n",
    "count = char_count[most_common_char]\n",
    "\n",
    "print(f\"가장 많이 사용된 문자: '{most_common_char}' (총 {count}회)\")"
   ]
  },
  {
   "cell_type": "code",
   "execution_count": null,
   "metadata": {},
   "outputs": [],
   "source": [
    "#4-2. 평균 구하기\n",
    "mylist = [23, 78, 43, 11, 94]\n",
    "# 리스트의 값들의 합을 구하고, 리스트의 개수로 나누어 평균을 계산\n",
    "total = 0\n",
    "for num in mylist:\n",
    "    total += num\n",
    "average = total / len(mylist)\n",
    "# 결과 출력\n",
    "print(f\"평균값: {average}\")"
   ]
  },
  {
   "cell_type": "code",
   "execution_count": null,
   "metadata": {},
   "outputs": [],
   "source": [
    "#4-3. 정렬 후 중앙값\n",
    "\n",
    "def get_median_value(mylist):\n",
    "    # 리스트 정렬\n",
    "    sorted_list = sorted(mylist)\n",
    "    \n",
    "    # 리스트의 길이 구하기\n",
    "    length = len(sorted_list)\n",
    "    \n",
    "    # 리스트 길이가 홀수일 경우\n",
    "    if length % 2 == 1:\n",
    "        median_value = sorted_list[length // 2]\n",
    "    # 리스트 길이가 짝수일 경우, 중간 두 값 중 앞쪽 값 선택\n",
    "    else:\n",
    "        median_value = sorted_list[length // 2 - 1]\n",
    "    \n",
    "    return median_value\n",
    "\n",
    "# 예시 리스트\n",
    "mylist1 = [23, 78, 43, 11, 94, 73, 13, 87, 67, 16, 8]\n",
    "mylist2 = [9, 3, 76, 23, 81, 47, 39, 26, 78, 83, 14, 84]\n",
    "\n",
    "# 각각의 리스트에 대해 중앙값 출력\n",
    "print(f\"mylist1의 중앙값: {get_median_value(mylist1)}\")\n",
    "print(f\"mylist2의 중앙값: {get_median_value(mylist2)}\")"
   ]
  },
  {
   "cell_type": "code",
   "execution_count": null,
   "metadata": {},
   "outputs": [],
   "source": [
    "#4-4. 리스트의 2차원 마지막 값\n",
    "a = mylist[-1][-1]"
   ]
  },
  {
   "cell_type": "code",
   "execution_count": null,
   "metadata": {},
   "outputs": [],
   "source": [
    "#4-5. 모든 리스트의 모든 값의 합계\n",
    "mylist = [[1, 2], [3, 4, 5], [6, 7, 8, 9], [10, 11, 12, 13, 14]]\n",
    "\n",
    "# 합계를 저장할 변수 a 초기화\n",
    "a = 0\n",
    "\n",
    "# 이중 반복문을 사용하여 모든 값을 더함\n",
    "for sublist in mylist:\n",
    "    for num in sublist:\n",
    "        a += num\n",
    "\n",
    "# 결과 출력\n",
    "print(f\"리스트의 모든 값의 합계: {a}\")"
   ]
  },
  {
   "cell_type": "code",
   "execution_count": 2,
   "metadata": {},
   "outputs": [
    {
     "name": "stdout",
     "output_type": "stream",
     "text": [
      "mylist2: [[43], [78, 43, 11], [23, 78, 43, 11, 94]]\n"
     ]
    }
   ],
   "source": [
    "#4-6. 리스트를 활용해 새로운 리스트.\n",
    "# 슬라이싱 이용\n",
    "mylist = [23, 78, 43, 11, 94]\n",
    "\n",
    "# mylist의 값을 이용해 mylist2 구성\n",
    "mylist2 = [\n",
    "    mylist[2:3],           # [43]\n",
    "    mylist[1:4],           # [78, 43, 11]\n",
    "    mylist[0:5]            # [23, 78, 43, 11, 94]\n",
    "]\n",
    "\n",
    "# 결과 출력\n",
    "print(\"mylist2:\", mylist2)"
   ]
  },
  {
   "cell_type": "code",
   "execution_count": null,
   "metadata": {},
   "outputs": [],
   "source": [
    "#4-7. 학번 순으로 정렬하고 데이터 추가하기\n",
    "# 주어진 데이터\n",
    "data = [\n",
    "    [2024010101, '홍길동', 90],\n",
    "    [2024283135, '이몽룡', 85],\n",
    "    [2024093817, '성춘향', 95]\n",
    "]\n",
    "\n",
    "# (1) 학번 순으로 정렬하여 출력\n",
    "data_sorted_by_id = sorted(data, key=lambda x: x[0])\n",
    "print(\"학번 순으로 정렬된 결과:\")\n",
    "for item in data_sorted_by_id:\n",
    "    print(item)\n",
    "\n",
    "# (2) 새로운 데이터 추가\n",
    "new_data = [2024030303, '이순신', 80]\n",
    "data.append(new_data)\n",
    "\n",
    "# (3) 추가한 후 결과 출력\n",
    "print(\"\\n새로운 데이터를 추가한 결과:\")\n",
    "for item in data:\n",
    "    print(item)\n",
    "\n",
    "# (4) 다시 학번 순으로 정렬하여 출력\n",
    "data_sorted_by_id_again = sorted(data, key=lambda x: x[0])\n",
    "print(\"\\n추가한 후 학번 순으로 정렬된 결과:\")\n",
    "for item in data_sorted_by_id_again:\n",
    "    print(item)\n"
   ]
  },
  {
   "cell_type": "code",
   "execution_count": 4,
   "metadata": {},
   "outputs": [
    {
     "name": "stdout",
     "output_type": "stream",
     "text": [
      "단어에서 'a'의 개수: 0\n"
     ]
    }
   ],
   "source": [
    "#4-8. 단어에 알파벳이 몇 글자 있는지 표시. 리스트를 이용.\n",
    "# 사용자로부터 영어 단어 입력받기\n",
    "word = input(\"영어 단어를 입력하세요: \")\n",
    "\n",
    "# 입력받은 단어를 리스트로 변환\n",
    "word_list = list(word)\n",
    "\n",
    "# 'a'의 개수를 세기 위한 변수 초기화\n",
    "a_count = 0\n",
    "\n",
    "# 리스트를 순회하며 'a'가 몇 번 나오는지 확인\n",
    "for letter in word_list:\n",
    "    if letter == 'a':\n",
    "        a_count += 1\n",
    "\n",
    "# 결과 출력\n",
    "print(f\"단어에서 'a'의 개수: {a_count}\")"
   ]
  },
  {
   "cell_type": "code",
   "execution_count": 6,
   "metadata": {},
   "outputs": [
    {
     "name": "stdout",
     "output_type": "stream",
     "text": [
      "2\n"
     ]
    }
   ],
   "source": [
    "#4-9. 위 문제 한 번에\n",
    "print(sum([1 for letter in list(input(\"영어 단어를 입력하세요: \")) if letter == 'a']))"
   ]
  },
  {
   "cell_type": "code",
   "execution_count": null,
   "metadata": {},
   "outputs": [],
   "source": [
    "#4-10. 숫자의 각 자릿수를 합하라\n",
    "\n",
    "print(sum([int(digit) for digit in input(\"5자리 숫자를 입력하세요: \")]))"
   ]
  },
  {
   "cell_type": "code",
   "execution_count": null,
   "metadata": {},
   "outputs": [],
   "source": [
    "#4-11. 리스트를 알파벳 역순으로 출력\n",
    "print(sorted(['banana', 'apple', 'orange', 'kiwi'], reverse=True))"
   ]
  }
 ],
 "metadata": {
  "kernelspec": {
   "display_name": "data_env",
   "language": "python",
   "name": "python3"
  },
  "language_info": {
   "codemirror_mode": {
    "name": "ipython",
    "version": 3
   },
   "file_extension": ".py",
   "mimetype": "text/x-python",
   "name": "python",
   "nbconvert_exporter": "python",
   "pygments_lexer": "ipython3",
   "version": "3.10.15"
  }
 },
 "nbformat": 4,
 "nbformat_minor": 2
}
