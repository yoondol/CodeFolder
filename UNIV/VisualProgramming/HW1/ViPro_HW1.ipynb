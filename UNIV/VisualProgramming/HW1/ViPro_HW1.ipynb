{
 "cells": [
  {
   "cell_type": "code",
   "execution_count": 1,
   "metadata": {},
   "outputs": [
    {
     "name": "stdout",
     "output_type": "stream",
     "text": [
      "6\n"
     ]
    }
   ],
   "source": [
    "# 1. 절대값 출력하기\n",
    "number = int(input(\"숫자를 입력하세요: \"))\n",
    "absolute_num = abs(number)\n",
    "print(absolute_num)\n"
   ]
  },
  {
   "cell_type": "code",
   "execution_count": 2,
   "metadata": {},
   "outputs": [
    {
     "name": "stdout",
     "output_type": "stream",
     "text": [
      "2번째 동입니다.\n",
      "새로운 동명입니다. 6번째 동으로 등록합니다.\n"
     ]
    }
   ],
   "source": [
    "# 2. 리스트에서 데이터 찾기\n",
    "dong_list = ['흑석동', '사당동', '상도동', '노량진동', '규동']\n",
    "\n",
    "while True:\n",
    "    user_input = input(\"동을 입력하세요.: \")\n",
    "\n",
    "    if user_input == '종료':\n",
    "        break\n",
    "\n",
    "    if user_input in dong_list:\n",
    "        index = dong_list.index(user_input) + 1 #인덱스에서 1 추가\n",
    "        print (f\"{index}번째 동입니다.\")\n",
    "\n",
    "    else:\n",
    "        dong_list.append(user_input)\n",
    "        index = len(dong_list) #추가한 동의 indexㅈ\n",
    "        print(f\"새로운 동명입니다. {index}번째 동으로 등록합니다.\")"
   ]
  },
  {
   "cell_type": "code",
   "execution_count": 4,
   "metadata": {},
   "outputs": [
    {
     "name": "stdout",
     "output_type": "stream",
     "text": [
      "데이터를 입력하세요:\n",
      "결과 : 55 79 86 90 91\n"
     ]
    }
   ],
   "source": [
    "# 3. 오름차순 출력\n",
    "numbers = []\n",
    "print(\"데이터를 입력하세요:\")\n",
    "\n",
    "for i in range (5):\n",
    "    num = int(input())\n",
    "    numbers.append(num)\n",
    "\n",
    "numbers.sort()\n",
    "\n",
    "print(\"결과 :\", ' '.join(map(str, numbers)))"
   ]
  },
  {
   "cell_type": "code",
   "execution_count": 3,
   "metadata": {},
   "outputs": [
    {
     "name": "stdout",
     "output_type": "stream",
     "text": [
      "BMI는 21.91입니다.\n",
      "BMI 판정 결과: 정상\n"
     ]
    }
   ],
   "source": [
    "# 4. BMI 지수 표시하기\n",
    "height_cm = float(input(\"키(cm)는? \"))\n",
    "weight_kg = float(input(\"몸무게(kg)는? \"))\n",
    "\n",
    "height_m = height_cm / 100 #키를 m 단위로 변환\n",
    "bmi = weight_kg / (height_m ** 2)\n",
    "\n",
    "print(f\"BMI는 {bmi:.2f}입니다.\") #소수점 2자리 출력\n",
    "\n",
    "# BMI 판정\n",
    "if bmi < 20:\n",
    "    result = \"저체중\"\n",
    "elif 20 <= bmi < 25:\n",
    "    result = \"정상\"\n",
    "elif 25 <= bmi < 30:\n",
    "    result = \"과체중\"\n",
    "else:\n",
    "    result = \"비만\"\n",
    "\n",
    "print(f\"BMI 판정 결과: {result}\")"
   ]
  },
  {
   "cell_type": "code",
   "execution_count": 5,
   "metadata": {},
   "outputs": [
    {
     "name": "stdout",
     "output_type": "stream",
     "text": [
      "원금 1000.0원, 금리 5.0% 입니다.\n",
      "기간 합계\n",
      "1년 1050.0\n",
      "2년 1102.5\n",
      "3년 1157.6\n",
      "4년 1215.5\n",
      "5년 1276.3\n"
     ]
    }
   ],
   "source": [
    "# 5. 이자 원금 계산하기\n",
    "principal = float(input(\"원금을 입력하세요(원): \"))\n",
    "interest_rate = float(input(\"금리를 입력하세요(%): \"))\n",
    "\n",
    "print(f\"원금 {principal}원, 금리 {interest_rate}% 입니다.\")\n",
    "print(\"기간 합계\")\n",
    "\n",
    "# 복리 계산\n",
    "for year in range(1, 6):  # 1년~5년\n",
    "    total_amount = principal * (1 + interest_rate / 100) ** year\n",
    "    print(f\"{year}년 {total_amount:.1f}\")"
   ]
  },
  {
   "cell_type": "code",
   "execution_count": 6,
   "metadata": {},
   "outputs": [
    {
     "name": "stdout",
     "output_type": "stream",
     "text": [
      "합계: 6000원\n",
      "합계: 10500원\n",
      "합계: 18000원\n"
     ]
    }
   ],
   "source": [
    "# 6. 식당 메뉴\n",
    "menu_prices = {\n",
    "    \"국수\": 6000,\n",
    "    \"비빔밥\": 8000,\n",
    "    \"햄버거\": 4500,\n",
    "    \"국밥\": 7500,\n",
    "    \"스파게티\": 11000,\n",
    "    \"피자\": 9900\n",
    "}\n",
    "total = 0\n",
    "\n",
    "while True:\n",
    "    menu = input(\"메뉴? (종료할 경우 '끝' 입력) \")\n",
    "\n",
    "    if menu == '끝':\n",
    "        break\n",
    "\n",
    "    # 메뉴 가격 확인 및 총액 계산\n",
    "    if menu in menu_prices:\n",
    "        total += menu_prices[menu]\n",
    "        print(f\"합계: {total}원\")\n",
    "    else:\n",
    "        print(\"메뉴에 없습니다.\")"
   ]
  }
 ],
 "metadata": {
  "kernelspec": {
   "display_name": "data_env",
   "language": "python",
   "name": "python3"
  },
  "language_info": {
   "codemirror_mode": {
    "name": "ipython",
    "version": 3
   },
   "file_extension": ".py",
   "mimetype": "text/x-python",
   "name": "python",
   "nbconvert_exporter": "python",
   "pygments_lexer": "ipython3",
   "version": "3.10.15"
  }
 },
 "nbformat": 4,
 "nbformat_minor": 2
}
