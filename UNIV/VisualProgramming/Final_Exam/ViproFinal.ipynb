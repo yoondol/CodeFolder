{
 "cells": [
  {
   "cell_type": "code",
   "execution_count": null,
   "metadata": {},
   "outputs": [],
   "source": [
    "#### 단어장 txt 파일 읽어서 가장 길이가 긴 단어 top 10개와 모음이 가장 많이 포함된 단어 top 10개 출력. 실제로 파일 안에서 찾기\n",
    "def read_vocabulary(file_path):\n",
    "    with open(file_path, 'r', encoding='utf-8') as file:\n",
    "        words = file.read().split()\n",
    "    return words\n",
    "\n",
    "def get_top_longest_words(words, top_n=10):\n",
    "    sorted_words = sorted(words, key=len, reverse=True)\n",
    "    return sorted_words[:top_n]\n",
    "\n",
    "def count_vowels(word):\n",
    "    vowels = 'aeiouAEIOU'\n",
    "    return sum(1 for char in word if char in vowels)\n",
    "\n",
    "def get_top_vowel_words(words, top_n=10):\n",
    "    sorted_words = sorted(words, key=count_vowels, reverse=True)\n",
    "    return sorted_words[:top_n]\n",
    "\n",
    "file_path = 'vocabulary.txt'\n",
    "words = read_vocabulary(file_path)\n",
    "\n",
    "top_longestwords = get_top_longest_words(words)\n",
    "print(\"top 10:\")\n",
    "for word in top_longestwords:\n",
    "    print(word)\n",
    "\n",
    "top_vowel_words = get_top_vowel_words(words)\n",
    "print(\"\\n top vowel 10:\")\n",
    "for word in top_vowel_words:\n",
    "    print(word)"
   ]
  },
  {
   "cell_type": "code",
   "execution_count": null,
   "metadata": {},
   "outputs": [],
   "source": [
    "# 00:00:00 에서 n-1:00:00까지 n 이 2개 포함된 시간 ex) n=2 이면 00:02:20, 00:22:00, 00:00:22 등은 총 몇 개인지 구해서 출력하는 프로그램 작성. n=1~9\n",
    "def count_occurrences(n):\n",
    "    count = 0\n",
    "    for hour in range(n):\n",
    "        for minute in range(60):\n",
    "            for second in range(60):\n",
    "                time_str = f\"{hour:02d}:{minute:02d}:{second:02d}\"\n",
    "                if str(n) in time_str:\n",
    "                    count += 1\n",
    "    return count\n",
    "\n",
    "# 사용자로부터 입력받기\n",
    "n = int(input(\"n을 입력하세요 (1~9): \"))\n",
    "if 1 <= n <= 9:\n",
    "    result = count_occurrences(n)\n",
    "    print(f\"{n}이(가) 포함된 시간의 개수: {result}\")\n",
    "else:\n",
    "    print(\"잘못된 입력입니다. 1에서 9 사이의 숫자를 입력하세요.\")"
   ]
  },
  {
   "cell_type": "code",
   "execution_count": 26,
   "metadata": {},
   "outputs": [
    {
     "name": "stdout",
     "output_type": "stream",
     "text": [
      "(: 2077\n",
      "수: 341\n",
      "사: 293\n",
      "=: 288\n",
      "가: 286\n",
      "기: 279\n",
      "유: 267\n",
      "부: 263\n",
      "소: 258\n",
      "지: 257\n"
     ]
    }
   ],
   "source": [
    "def process_nouns_from_file(file_path):\n",
    "    # 결과를 담을 딕셔너리 초기화\n",
    "    noun_count = {}\n",
    "\n",
    "    # 파일 열기\n",
    "    with open(file_path, encoding='utf-8') as f:\n",
    "        for line in f:\n",
    "            line = line.strip()  # 공백 제거\n",
    "            # 명사(n.)인지 확인\n",
    "            if 'n.' in line:\n",
    "                parts = line.split()  # 공백을 기준으로 나누기\n",
    "                for part in parts:\n",
    "                    if part.startswith('n.'):  # n. 다음 단어가 명사\n",
    "                        noun = part[2:].strip()  # 'n.' 이후의 단어\n",
    "                        if noun:  # 단어가 존재하는 경우\n",
    "                            first_letter = noun[0]  # 첫 글자 추출\n",
    "                            noun_count[first_letter] = noun_count.get(first_letter, 0) + 1\n",
    "\n",
    "    # 개수를 기준으로 내림차순 정렬\n",
    "    sorted_nouns = sorted(noun_count.items(), key=lambda x: x[1], reverse=True)\n",
    "\n",
    "    # 가장 많은 10개를 출력\n",
    "    for letter, count in sorted_nouns[:10]:\n",
    "        print(f\"{letter}: {count}\")\n",
    "\n",
    "# 파일 경로 설정 및 함수 실행\n",
    "file_path = \"randdict_utf8.TXT\"\n",
    "process_nouns_from_file(file_path)\n"
   ]
  },
  {
   "cell_type": "code",
   "execution_count": null,
   "metadata": {},
   "outputs": [],
   "source": [
    "1. #### randdict_utf8.TXT라는 파일에서 명사(noun)를 골라 첫 번째 글자 중심으로 묶어서 몇 글자인지 표시할거야. 개수를 중심으로 정렬하여 가장 많은 것 10개를 표시해봐. 다른 모듈 사용 금지.명사는 단어의 첫 부분에 n. 이라고 명시된 것만 계산하면 돼. n. 이라고 붙어있지 않으면 명사가 아니야. 's: 3618' 이런 식으로 출력되면 돼. randdict_utf8.TXT 파일이 같은 로컬파일에 있으니까 잘 찾을 수 있게 해줘."
   ]
  },
  {
   "cell_type": "code",
   "execution_count": null,
   "metadata": {},
   "outputs": [],
   "source": [
    "2. #### 프로그램이 구동된 횟수와 총 실행 시간을 출력할거야. 초 단위로 1초 증가하는 것은 time.sleep(1)을 이용. 프로그램을 종료한 후에 다시 실행하면 실행 횟수와 실행 시간에 이어서 시간을 표시. '1번째 실행입니다.' '1초' '2초'"
   ]
  },
  {
   "cell_type": "code",
   "execution_count": null,
   "metadata": {},
   "outputs": [],
   "source": [
    "3. #### 고속버스 터미널에는 여러 대의 버스가 있다.각 버스는 차량 번호(No), 남은 기름양(fuel), 목적지(dest)를 속성으로 갖는다.  버스는 어느 목적지든 도착하면 남은 기름량이 절반으로 줄어든다. ㅂㅂㅂㅓ스 번호를 지정하지 않으면 9999번으로 생성한다. 버스 번호는 정수이다. 연료는 실수이고, 소수점 1자리까지 나타냄. 목적지가 없거나 연료가 없는 버스는 이동할 수 없고 오류 메시지를 출력한다.\n",
    "#### 출력은 이것과 똑같이 할 것임\n",
    "a1 = Bus(1234) -> 출력은 No 1234: Prepared\n",
    "b1 = Bus() -> 출력은 No 9999: Prepared\n",
    "print(a1.get_status()) -> No 1234: 0.0 Liter(s), No Dest\n",
    "print(b1.get_status()) -> No 9999: 0.0 Liter(s), No Dest\n",
    "a1.add_fuel(10) -> No 1234: Fuel 10.0 Liter(s)\n",
    "a1.dest = 'Busan'\n",
    "a1.move() -> No 1234: Move to Busan\n",
    "b1.move() -> No 9999: No Dest\n",
    "b1.dest = 'Daegu'\n",
    "b1.move() -> No 9999: No Fuel\n",
    "print(a1) -> No 1234: 5.0 Liter(s), Busan\n",
    "print(b1) -> No 9999: 0.0 Liter(s), No Dest\n"
   ]
  },
  {
   "cell_type": "code",
   "execution_count": null,
   "metadata": {},
   "outputs": [],
   "source": [
    "4. #### Quest?.txt (?는 1~9사이의 숫자) 라는 형식의 이름을 가진 파일들이 있다. 각 파일에는 n 개의 수식이 있다. 각 수식을 계산하여 정답을 파일 안에 기록하라. 파일의 개수와 번호를 확인하는 것은 프로그램에 의해 수행되어야 한다. 예를 들어 12+34라면 12+34=56으로 변경한다.  파일 안에 하나 이상의 수식이 있고, 하나의 수식은 3자리 이하의 양의 정수로만 이루어지며, + 또는 -  계산 1개만 포함된다."
   ]
  },
  {
   "cell_type": "code",
   "execution_count": null,
   "metadata": {},
   "outputs": [],
   "source": [
    "5. #### 사용자에게 n 개 (n<20) 의 100 이하의 정수를 입력받을거야. 그래프를 표시해봐. 사용자가 2 4 6 8 10 12 14 16 을 입력하면, 1번 2, 2번 4, 3번6, 4번 8 이런 식으로 데이터를 처리해서 그래프를 구성해. 그래프 바깥쪽에는 레이블을 1번부터 차례로 붙이고, 그래프 안쪽에는 비중을 %로 표시할거야. 한글 처리도 해줘."
   ]
  },
  {
   "cell_type": "code",
   "execution_count": 27,
   "metadata": {},
   "outputs": [
    {
     "name": "stdout",
     "output_type": "stream",
     "text": [
      "quest2.txt does not exist in the current directory.\n",
      "quest3.txt does not exist in the current directory.\n",
      "quest5.txt does not exist in the current directory.\n",
      "quest7.txt does not exist in the current directory.\n",
      "quest8.txt does not exist in the current directory.\n"
     ]
    }
   ],
   "source": [
    "import os\n",
    "import re\n",
    "\n",
    "def calculate_expression(expression):\n",
    "    # 정규식을 사용\n",
    "    match = re.match(r'(\\d+)([+-])(\\d+)', expression)\n",
    "    if match:\n",
    "        num1, operator, num2 = match.groups()\n",
    "        num1, num2 = int(num1), int(num2)\n",
    "        if operator == '+':\n",
    "            return f\"{expression}={num1 + num2}\"\n",
    "        elif operator == '-':\n",
    "            return f\"{expression}={num1 - num2}\"\n",
    "    return expression\n",
    "\n",
    "current_directory = os.getcwd()\n",
    "\n",
    "for i in range(1, 10):\n",
    "    file_name = f\"quest{i}.txt\"\n",
    "    if os.path.exists(file_name):\n",
    "        try:\n",
    "            with open(file_name, 'r') as file:\n",
    "                lines = file.readlines()\n",
    "            \n",
    "            # 파일에 기록\n",
    "            with open(file_name, 'w') as file:\n",
    "                for line in lines:\n",
    "                    result = calculate_expression(line.strip())\n",
    "                    file.write(result + '\\n')\n",
    "        except Exception as e:\n",
    "            print(f\"Error processing {file_name}: {e}\")\n",
    "    else:\n",
    "        print(f\"{file_name} does not exist in the current directory.\")"
   ]
  },
  {
   "cell_type": "code",
   "execution_count": null,
   "metadata": {},
   "outputs": [],
   "source": [
    "#### 1초마다 0부터 숫자를 하나씩 출력하는 프로그램 ex)0 1 2 3 4 ... 단, 프로그램 강제 종료 후 재시작해도 숫자가 계속 기억됨. 0 1 2 3 4 (강제종료) (재실행) 5 6 (...)\n",
    "import time\n",
    "\n",
    "# 파일에서 현재 숫자 읽기\n",
    "try:\n",
    "    with open('counter.txt', 'r') as file:\n",
    "        current_number = int(file.read())\n",
    "        current_trial = int(file.read())\n",
    "    current_trial += 1\n",
    "    file.write(str(current_trial))\n",
    "except FileNotFoundError:\n",
    "    current_number = 0\n",
    "0.0 Liter(s), No Dest\n",
    "try:\n",
    "    while True:\n",
    "        print(current_number)\n",
    "        current_number += 1\n",
    "        with open('counter.txt', 'w') as file:\n",
    "            file.write(str(current_number))\n",
    "        time.sleep(1)\n",
    "except KeyboardInterrupt:\n",
    "    print(\"프로그램이 강제 종료되었습니다.\")\n"
   ]
  },
  {
   "cell_type": "code",
   "execution_count": 17,
   "metadata": {},
   "outputs": [],
   "source": [
    "with open('randdict_utf8.txt', 'r', encoding='utf-8') as file:\n",
    "    lines = file.readlines()\n",
    "\n",
    "noun_dict = {}\n",
    "for line in lines:\n",
    "    if line.startswith('n.'):\n",
    "        noun = line[2:].strip()\n",
    "        first_char = noun[0]\n",
    "        if first_char in noun_dict:\n",
    "            noun_dict[first_char].append(noun)\n",
    "        else:\n",
    "            noun_dict[first_char] = [noun]\n",
    "\n",
    "noun_count = {char: len(nouns) for char, nouns in noun_dict.items()} # 첫 글자별 명사 개수 계산\n",
    "\n",
    "sorted_noun_count = sorted(noun_count.items(), key=lambda x: x[1], reverse=True)[:10]# 가장 많은 것 10개 표시\n",
    "\n",
    "for char, count in sorted_noun_count:\n",
    "    print(f\"{char}: {count}\")"
   ]
  },
  {
   "cell_type": "code",
   "execution_count": 22,
   "metadata": {},
   "outputs": [],
   "source": [
    "with open('c:/GitCode/CodeFolder/UNIV/VisualProgramming/randdict_utf8.TXT', 'r', encoding='utf-8') as file:\n",
    "    lines = file.readlines()\n",
    "\n",
    "noun_dict = {}\n",
    "for line in lines:\n",
    "    if line.startswith('n. '):\n",
    "        noun = line[3:].strip()\n",
    "        first_char = noun[0]\n",
    "        if first_char in noun_dict:\n",
    "            noun_dict[first_char].append(noun)\n",
    "        else:\n",
    "            noun_dict[first_char] = [noun]\n",
    "\n",
    "noun_count = {char: len(nouns) for char, nouns in noun_dict.items()}  # 첫 글자별 명사 개수 계산\n",
    "\n",
    "sorted_noun_count = sorted(noun_count.items(), key=lambda x: x[1], reverse=True)[:10]  # 가장 많은 것 10개 표시\n",
    "\n",
    "for char, count in sorted_noun_count:\n",
    "    print(f\"{char}: {count}\")\n"
   ]
  },
  {
   "cell_type": "code",
   "execution_count": 21,
   "metadata": {},
   "outputs": [
    {
     "name": "stdout",
     "output_type": "stream",
     "text": [
      "quest2.txt does not exist in the current directory.\n",
      "quest3.txt does not exist in the current directory.\n",
      "quest5.txt does not exist in the current directory.\n",
      "quest7.txt does not exist in the current directory.\n",
      "quest8.txt does not exist in the current directory.\n"
     ]
    }
   ],
   "source": [
    "import os\n",
    "import re\n",
    "\n",
    "def calculate_expression(expression):\n",
    "    # 정규식을 사용하여 수식을 계산\n",
    "    match = re.match(r'(\\d+)([+-])(\\d+)', expression)\n",
    "    if match:\n",
    "        num1, operator, num2 = match.groups()\n",
    "        num1, num2 = int(num1), int(num2)\n",
    "        if operator == '+':\n",
    "            return f\"{expression}={num1 + num2}\"\n",
    "        elif operator == '-':\n",
    "            return f\"{expression}={num1 - num2}\"\n",
    "    return expression\n",
    "\n",
    "# 현재 작업 디렉토리 확인\n",
    "current_directory = os.getcwd()\n",
    "\n",
    "# Quest?.txt 파일들을 찾기\n",
    "for i in range(1, 10):\n",
    "    file_name = f\"quest{i}.txt\"\n",
    "    if os.path.exists(file_name):\n",
    "        try:\n",
    "            with open(file_name, 'r') as file:\n",
    "                lines = file.readlines()\n",
    "            \n",
    "            # 각 수식을 계산하여 파일에 기록\n",
    "            with open(file_name, 'w') as file:\n",
    "                for line in lines:\n",
    "                    result = calculate_expression(line.strip())\n",
    "                    file.write(result + '\\n')\n",
    "        except Exception as e:\n",
    "            print(f\"Error processing {file_name}: {e}\")\n",
    "    else:\n",
    "        print(f\"{file_name} does not exist in the current directory.\")"
   ]
  },
  {
   "cell_type": "code",
   "execution_count": 16,
   "metadata": {},
   "outputs": [
    {
     "name": "stdout",
     "output_type": "stream",
     "text": [
      "2번째 실행입니다.\n",
      "6초\n",
      "7초\n",
      "8초\n",
      "프로그램이 강제 종료되었습니다.\n"
     ]
    }
   ],
   "source": [
    "import time\n",
    "\n",
    "try:\n",
    "    with open('execution_info.txt', 'r') as file:\n",
    "        execution_count, total_elapsed_time = map(int, file.read().split())\n",
    "except FileNotFoundError:\n",
    "    execution_count = 0\n",
    "    total_elapsed_time = 0\n",
    "\n",
    "# 실행 횟수 증가\n",
    "execution_count += 1\n",
    "\n",
    "print(f\"{execution_count}번째 실행입니다.\")\n",
    "\n",
    "try:\n",
    "    while True:\n",
    "        total_elapsed_time += 1\n",
    "        print(f\"{total_elapsed_time}초\")\n",
    "        time.sleep(1)\n",
    "        with open('execution_info.txt', 'w') as file:\n",
    "            file.write(f\"{execution_count} {total_elapsed_time}\")\n",
    "except KeyboardInterrupt:\n",
    "    print(\"프로그램이 강제 종료되었습니다.\")\n",
    "    with open('execution_info.txt', 'w') as file:\n",
    "        file.write(f\"{execution_count} {total_elapsed_time}\")"
   ]
  },
  {
   "cell_type": "code",
   "execution_count": 5,
   "metadata": {},
   "outputs": [
    {
     "name": "stdout",
     "output_type": "stream",
     "text": [
      "정수입력: 1 -> 결과: 1\n",
      "리스트 입력: [1, 2, 3] -> 결과: [1, 4, 9]\n",
      "튜플 입력: (1, 2, 3) -> 결과: (1, 8, 27)\n"
     ]
    }
   ],
   "source": [
    "#### 함수에 정수/리스트/튜플 입력받아 각각 다른 식 대입해 결과 출력하기\n",
    "def apply_formula(input_data):\n",
    "    if isinstance(input_data, int):\n",
    "        result = input_data ** 2\n",
    "    elif isinstance(input_data, list):\n",
    "        result = [x ** 2 for x in input_data]\n",
    "    elif isinstance(input_data, tuple):\n",
    "        result = tuple(x ** 3 for x in input_data)\n",
    "    else:\n",
    "        result = \"지원되지 않는 형식\"\n",
    "    return result\n",
    "\n",
    "int_input = 1\n",
    "list_input = [1,2,3]\n",
    "tuple_input = (1,2,3)\n",
    "\n",
    "print(f\"정수입력: {int_input} -> 결과: {apply_formula(int_input)}\")\n",
    "print(f\"리스트 입력: {list_input} -> 결과: {apply_formula(list_input)}\")\n",
    "print(f\"튜플 입력: {tuple_input} -> 결과: {apply_formula(tuple_input)}\")"
   ]
  },
  {
   "cell_type": "code",
   "execution_count": null,
   "metadata": {},
   "outputs": [],
   "source": [
    "#### class 객체 문제. but class를 생성해 예시에 나온 기능을 모두 수행해, 예시 입력시 같은 결과 값 출력력"
   ]
  },
  {
   "cell_type": "code",
   "execution_count": 6,
   "metadata": {},
   "outputs": [
    {
     "name": "stdout",
     "output_type": "stream",
     "text": [
      "총합: 0\n"
     ]
    }
   ],
   "source": [
    "#### dataN.txt 파일 읽어서 기록된 값 총합해 출력. 이 때 N은 1~9 사이이며 사용자도 모르는 임의의 숫자. dataN.txt 파일이 몇 개 있는지도 모름 (예외처리 문제임)\n",
    "\n",
    "import os\n",
    "\n",
    "total_sum = 0\n",
    "\n",
    "for i in range (1,10):\n",
    "    file_name = f\"data{i}.txt\"\n",
    "    if os.path.exists(file_name):\n",
    "        try:\n",
    "            with open(file_name, 'r') as file:\n",
    "                values = file.readlines()\n",
    "                total_sum += sum(map(float, values))\n",
    "        except Exception as e:\n",
    "            print(f\"Error reading {file_name}: {e}\")\n",
    "\n",
    "print(f\"총합: {total_sum}\")\n",
    "        "
   ]
  },
  {
   "cell_type": "code",
   "execution_count": null,
   "metadata": {},
   "outputs": [],
   "source": [
    "#### 은행계좌 Account 클래스를 설계하라"
   ]
  },
  {
   "cell_type": "code",
   "execution_count": null,
   "metadata": {},
   "outputs": [],
   "source": [
    "#### json 파일을 이용하여 확진자 수의 합계를 화면에 표시하라"
   ]
  },
  {
   "cell_type": "code",
   "execution_count": null,
   "metadata": {},
   "outputs": [],
   "source": [
    "#### 프로그램이 구동된 시간을 표시하는 프로그램을 작성하라"
   ]
  }
 ],
 "metadata": {
  "kernelspec": {
   "display_name": "data_env",
   "language": "python",
   "name": "python3"
  },
  "language_info": {
   "codemirror_mode": {
    "name": "ipython",
    "version": 3
   },
   "file_extension": ".py",
   "mimetype": "text/x-python",
   "name": "python",
   "nbconvert_exporter": "python",
   "pygments_lexer": "ipython3",
   "version": "3.10.15"
  }
 },
 "nbformat": 4,
 "nbformat_minor": 2
}
