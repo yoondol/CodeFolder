{
 "cells": [
  {
   "cell_type": "code",
   "execution_count": 1,
   "metadata": {},
   "outputs": [
    {
     "name": "stdout",
     "output_type": "stream",
     "text": [
      "35은(는) 5의 배수, 7의 배수입니다.\n",
      "6은(는) 3의 배수입니다.\n",
      "105은(는) 3의 배수, 5의 배수, 7의 배수입니다.\n",
      "23은(는) 3, 5, 7의 배수가 아닙니다.\n",
      "34은(는) 3, 5, 7의 배수가 아닙니다.\n"
     ]
    }
   ],
   "source": [
    "#5-1. 배수인지 확인하라. 둘 이상의 배수 가능. 5회 반복\n",
    "# 5회 반복\n",
    "for _ in range(5):\n",
    "    # 사용자로부터 숫자 입력받기\n",
    "    num = int(input(\"숫자를 입력하세요: \"))\n",
    "    \n",
    "    # 결과 저장할 리스트\n",
    "    multiples = []\n",
    "    \n",
    "    # 배수 확인\n",
    "    if num % 3 == 0:\n",
    "        multiples.append(\"3의 배수\")\n",
    "    if num % 5 == 0:\n",
    "        multiples.append(\"5의 배수\")\n",
    "    if num % 7 == 0:\n",
    "        multiples.append(\"7의 배수\")\n",
    "    \n",
    "    # 결과 출력\n",
    "    if multiples:\n",
    "        print(f\"{num}은(는) {', '.join(multiples)}입니다.\")\n",
    "    else:\n",
    "        print(f\"{num}은(는) 3, 5, 7의 배수가 아닙니다.\")\n"
   ]
  },
  {
   "cell_type": "code",
   "execution_count": 6,
   "metadata": {},
   "outputs": [
    {
     "name": "stdout",
     "output_type": "stream",
     "text": [
      "현재 시간은 오전 4시 31분\n"
     ]
    }
   ],
   "source": [
    "#5-2. 현재 시간을 현재 시각으로 표시. \n",
    "def display_time(time):\n",
    "    # 입력 받은 숫자를 문자열로 변환하여 자리 수 확인\n",
    "    time_str = str(time)\n",
    "    \n",
    "    # 3자리나 4자리가 아닌 경우 잘못된 시간으로 처리\n",
    "    if len(time_str) < 3 or len(time_str) > 4:\n",
    "        print(\"잘못된 시간입니다.\")\n",
    "        return\n",
    "\n",
    "    # 시간 값이 3자리면 앞에 0을 붙여 4자리로 변환\n",
    "    if len(time_str) == 3:\n",
    "        time_str = '0' + time_str\n",
    "\n",
    "    # 시(hour)와 분(minute) 분리\n",
    "    hour = int(time_str[:2])\n",
    "    minute = int(time_str[2:])\n",
    "\n",
    "    # 시(hour)가 0~23 사이, 분(minute)이 0~59 사이가 아닌 경우 잘못된 시간 처리\n",
    "    if not (0 <= hour <= 23) or not (0 <= minute <= 59):\n",
    "        print(\"잘못된 시간입니다.\")\n",
    "        return\n",
    "\n",
    "    # 오전/오후 구분\n",
    "    if hour == 0:\n",
    "        period = \"오전\"\n",
    "        display_hour = 12\n",
    "    elif 1 <= hour < 12:\n",
    "        period = \"오전\"\n",
    "        display_hour = hour\n",
    "    elif hour == 12:\n",
    "        period = \"오후\"\n",
    "        display_hour = 12\n",
    "    else:\n",
    "        period = \"오후\"\n",
    "        display_hour = hour - 12\n",
    "\n",
    "    # 최종 시간 출력\n",
    "    print(f\"현재 시간은 {period} {display_hour}시 {minute}분\")\n",
    "\n",
    "# 사용자로부터 입력받기\n",
    "time_input = int(input(\"시간: \"))\n",
    "display_time(time_input)\n"
   ]
  },
  {
   "cell_type": "code",
   "execution_count": null,
   "metadata": {},
   "outputs": [],
   "source": [
    "#5-3. 점수 입력 학점 표시\n",
    "def get_grade(score):\n",
    "    # 학점 계산\n",
    "    if score >= 90:\n",
    "        grade = \"A0\"\n",
    "    elif score >= 85:\n",
    "        grade = \"B+\"\n",
    "    elif score >= 80:\n",
    "        grade = \"B0\"\n",
    "    elif score >= 75:\n",
    "        grade = \"C+\"\n",
    "    elif score >= 70:\n",
    "        grade = \"C0\"\n",
    "    elif score >= 65:\n",
    "        grade = \"D+\"\n",
    "    elif score >= 60:\n",
    "        grade = \"D0\"\n",
    "    else:\n",
    "        grade = \"F\"\n",
    "    \n",
    "    return grade\n",
    "\n",
    "# 사용자로부터 점수 입력받기\n",
    "score = int(input(\"점수: \"))\n",
    "# 학점 계산 후 출력\n",
    "print(get_grade(score))"
   ]
  },
  {
   "cell_type": "code",
   "execution_count": null,
   "metadata": {},
   "outputs": [],
   "source": [
    "#5-4. 1~100 사이 소수\n",
    "def is_prime(n):\n",
    "    # 소수는 2 이상의 숫자만 가능\n",
    "    if n < 2:\n",
    "        return False\n",
    "    # 2부터 n-1까지의 숫자로 나눠보며 소수인지 확인\n",
    "    for i in range(2, int(n ** 0.5) + 1):\n",
    "        if n % i == 0:\n",
    "            return False\n",
    "    return True\n",
    "\n",
    "# 1에서 100 사이의 소수 출력\n",
    "for num in range(1, 101):\n",
    "    if is_prime(num):\n",
    "        print(num, end=' ')"
   ]
  },
  {
   "cell_type": "code",
   "execution_count": null,
   "metadata": {},
   "outputs": [],
   "source": [
    "#4-5. 윤년인지 판단. IF 문 쓰지 않음.\n",
    "# 사용자로부터 연도 입력받기\n",
    "year = int(input(\"연도를 입력하세요: \"))\n",
    "\n",
    "# 삼항 연산자를 사용하여 윤년 여부 판단\n",
    "result = \"윤년\" if (year % 4 == 0 and year % 100 != 0) or year % 400 == 0 else \"윤년이 아닙니다.\"\n",
    "\n",
    "# 결과 출력\n",
    "print(result)"
   ]
  },
  {
   "cell_type": "code",
   "execution_count": null,
   "metadata": {},
   "outputs": [],
   "source": [
    "#4-6. 3의 배수 출력\n",
    "# 1에서 100 사이의 3의 배수 출력\n",
    "for num in range(3, 101, 3):\n",
    "    print(num, end=' ')"
   ]
  },
  {
   "cell_type": "code",
   "execution_count": 7,
   "metadata": {},
   "outputs": [
    {
     "name": "stdout",
     "output_type": "stream",
     "text": [
      "1+2+3+4+5+6+7+8+9 = 45\n"
     ]
    }
   ],
   "source": [
    "#4-7. 정수의 합 표시\n",
    "# 사용자로부터 정수 입력받기\n",
    "n = int(input(\"숫자? \"))\n",
    "\n",
    "# 1에서 n까지의 합 계산\n",
    "total_sum = sum(range(1, n + 1))\n",
    "\n",
    "# 1에서 n까지의 숫자를 문자열로 연결하여 출력\n",
    "numbers = '+'.join(map(str, range(1, n + 1)))\n",
    "\n",
    "# 결과 출력\n",
    "print(f\"{numbers} = {total_sum}\")\n"
   ]
  },
  {
   "cell_type": "code",
   "execution_count": null,
   "metadata": {},
   "outputs": [],
   "source": [
    "#5-8. 리스트의 합계. 피보나치. \n",
    "# alist 생성 (99부터 1까지 2씩 감소)\n",
    "alist = list(range(99, 0, -2))\n",
    "# blist는 주어진 피보나치 수열\n",
    "blist = [0, 1, 1, 2, 3, 5, 8, 13, 21, 34, 55, 89, 144, 233, 377, 610, 987]\n",
    "\n",
    "# alist와 blist의 합계 계산\n",
    "alist_sum = sum(alist)\n",
    "blist_sum = sum(blist)\n",
    "\n",
    "# 합계 출력\n",
    "print(f\"alist의 합계: {alist_sum}\")\n",
    "print(f\"blist의 합계: {blist_sum}\")"
   ]
  },
  {
   "cell_type": "code",
   "execution_count": null,
   "metadata": {},
   "outputs": [],
   "source": [
    "#5-10. a 부터 z 까지 이충 반복 입력\n",
    "import string\n",
    "\n",
    "# 소문자 알파벳 리스트 생성\n",
    "letters = string.ascii_lowercase  # 'a'부터 'z'까지의 소문자 알파벳\n",
    "\n",
    "# 'aa'부터 'zz'까지의 모든 조합을 리스트에 넣음\n",
    "alist = [a + b for a in letters for b in letters]\n",
    "\n",
    "# 결과 출력 (리스트 alist에는 'aa'부터 'zz'까지의 값이 모두 들어있음)\n",
    "print(alist)"
   ]
  },
  {
   "cell_type": "code",
   "execution_count": 9,
   "metadata": {},
   "outputs": [
    {
     "name": "stdout",
     "output_type": "stream",
     "text": [
      "    *    \n",
      "   ***   \n",
      "  *****  \n",
      " ******* \n",
      "*********\n"
     ]
    }
   ],
   "source": [
    "#5-11. 별표 트리\n",
    "# 트리의 최대 너비 설정 (마지막 줄의 별 개수)\n",
    "width = 9\n",
    "\n",
    "# 별표 트리 모양 출력 (가운데 정렬)\n",
    "for i in range(1, width + 1, 2):  # 1부터 시작해서 2씩 증가 (1, 3, 5, 7, 9 개의 별)\n",
    "    print(('*' * i).center(width))\n"
   ]
  },
  {
   "cell_type": "code",
   "execution_count": null,
   "metadata": {},
   "outputs": [],
   "source": [
    "#5-12. 입력한 N 개의 점수의 평균\n",
    "# 점수들을 저장할 리스트\n",
    "scores = []\n",
    "\n",
    "# 점수 입력 반복\n",
    "while True:\n",
    "    score = int(input(\"점수 ? \"))\n",
    "    \n",
    "    # -1을 입력하면 입력 종료\n",
    "    if score == -1:\n",
    "        break\n",
    "    \n",
    "    # 입력된 점수를 리스트에 추가\n",
    "    scores.append(score)\n",
    "\n",
    "# 평균 계산 (리스트가 비어 있지 않은 경우에만)\n",
    "if scores:\n",
    "    average = sum(scores) / len(scores)\n",
    "    print(f\"평균 {average:.0f}\")\n",
    "else:\n",
    "    print(\"입력된 점수가 없습니다.\")"
   ]
  },
  {
   "cell_type": "code",
   "execution_count": 11,
   "metadata": {},
   "outputs": [
    {
     "name": "stdout",
     "output_type": "stream",
     "text": [
      "모음의 개수: 31\n"
     ]
    }
   ],
   "source": [
    "#5-13. 모음의 개수 출력. 입력은 소문자만.\n",
    "# 모음 리스트\n",
    "vowels = \"aeiou\"\n",
    "# 사용자로부터 문장 입력받기\n",
    "sentence = input(\"문장 : \")\n",
    "# 모음 개수 세기\n",
    "vowel_count = sum(1 for char in sentence if char in vowels)\n",
    "# 결과 출력\n",
    "print(f\"모음의 개수: {vowel_count}\")"
   ]
  },
  {
   "cell_type": "code",
   "execution_count": null,
   "metadata": {},
   "outputs": [],
   "source": [
    "#5-14. 달팽이가 우물 탈출\n",
    "def days_to_escape_well(well_height, climb_up, slide_down):\n",
    "    day = 0\n",
    "    current_height = 0\n",
    "\n",
    "    while True:\n",
    "        day += 1  # 하루가 지나면\n",
    "        current_height += climb_up  # 낮 동안 올라감\n",
    "\n",
    "        # 탈출 확인\n",
    "        if current_height >= well_height:\n",
    "            break\n",
    "\n",
    "        current_height -= slide_down  # 저녁에 미끄러짐\n",
    "    \n",
    "    return day\n",
    "\n",
    "# 문제에서 주어진 값들\n",
    "well_height = 30  # 우물 높이\n",
    "climb_up = 7      # 낮 동안 올라가는 높이\n",
    "slide_down = 5    # 저녁에 미끄러지는 높이\n",
    "\n",
    "# 결과 출력\n",
    "days_needed = days_to_escape_well(well_height, climb_up, slide_down)\n",
    "print(f\"달팽이가 탈출하는데 걸리는 일수: {days_needed}일\")"
   ]
  },
  {
   "cell_type": "code",
   "execution_count": null,
   "metadata": {
    "vscode": {
     "languageId": "ini"
    }
   },
   "outputs": [],
   "source": [
    "# 문장들을 저장할 리스트\n",
    "sentences = []\n",
    "\n",
    "# 문장 입력 반복\n",
    "while True:\n",
    "    sentence = input(\"문장: \")\n",
    "    \n",
    "    # 'end'를 입력하면 입력 종료\n",
    "    if sentence.lower() == 'end':\n",
    "        break\n",
    "    \n",
    "    # 입력된 문장을 리스트에 추가\n",
    "    sentences.append(sentence)\n",
    "\n",
    "# 모든 문장을 하나의 문자열로 결합하고 소문자로 변환\n",
    "all_text = ''.join(sentences).lower()\n",
    "\n",
    "# 공백 제거\n",
    "all_text = all_text.replace(' ', '')\n",
    "\n",
    "# 문자 빈도수 계산\n",
    "char_count = {}\n",
    "for char in all_text:\n",
    "    if char in char_count:\n",
    "        char_count[char] += 1\n",
    "    else:\n",
    "        char_count[char] = 1\n",
    "\n",
    "# 가장 많이 사용된 문자 찾기\n",
    "most_common_char = max(char_count, key=char_count.get)\n",
    "count = char_count[most_common_char]\n",
    "\n",
    "# 결과 출력\n",
    "print(f\"가장 많이 사용된 문자: '{most_common_char}' (총 {count}회)\")"
   ]
  },
  {
   "cell_type": "code",
   "execution_count": 12,
   "metadata": {},
   "outputs": [
    {
     "name": "stdout",
     "output_type": "stream",
     "text": [
      "1 2 3 4\n",
      "8 7 6 5\n",
      "9 10 11 12\n",
      "16 15 14 13\n",
      "\n",
      "1 2 3 4\n",
      "12 13 14 5\n",
      "11 16 15 6\n",
      "10 9 8 7\n"
     ]
    }
   ],
   "source": [
    "#5-15. 오름차내림차 패턴, 나선형 패턴\n",
    "def generate_snake_pattern(n):\n",
    "    # 첫 번째 패턴: 홀수 행은 오름차순, 짝수 행은 내림차순\n",
    "    matrix = [[0] * n for _ in range(n)]\n",
    "    num = 1\n",
    "    \n",
    "    for i in range(n):\n",
    "        if i % 2 == 0:\n",
    "            for j in range(n):\n",
    "                matrix[i][j] = num\n",
    "                num += 1\n",
    "        else:\n",
    "            for j in range(n-1, -1, -1):\n",
    "                matrix[i][j] = num\n",
    "                num += 1\n",
    "    \n",
    "    # 첫 번째 배열 출력\n",
    "    for row in matrix:\n",
    "        print(' '.join(map(str, row)))\n",
    "    print()  # 줄바꿈\n",
    "\n",
    "def generate_spiral_pattern(n):\n",
    "    # 두 번째 패턴: 나선형 배열 생성\n",
    "    matrix = [[0] * n for _ in range(n)]\n",
    "    left, right, top, bottom = 0, n - 1, 0, n - 1\n",
    "    num = 1\n",
    "    \n",
    "    while left <= right and top <= bottom:\n",
    "        for i in range(left, right + 1):  # 위쪽 행 좌->우\n",
    "            matrix[top][i] = num\n",
    "            num += 1\n",
    "        top += 1\n",
    "        \n",
    "        for i in range(top, bottom + 1):  # 오른쪽 열 위->아래\n",
    "            matrix[i][right] = num\n",
    "            num += 1\n",
    "        right -= 1\n",
    "        \n",
    "        for i in range(right, left - 1, -1):  # 아래쪽 행 우->좌\n",
    "            matrix[bottom][i] = num\n",
    "            num += 1\n",
    "        bottom -= 1\n",
    "        \n",
    "        for i in range(bottom, top - 1, -1):  # 왼쪽 열 아래->위\n",
    "            matrix[i][left] = num\n",
    "            num += 1\n",
    "        left += 1\n",
    "\n",
    "    # 두 번째 배열 출력\n",
    "    for row in matrix:\n",
    "        print(' '.join(map(str, row)))\n",
    "\n",
    "# 사용자로부터 숫자 입력받기\n",
    "n = int(input(\"N ? \"))\n",
    "\n",
    "if 3 <= n <= 9:\n",
    "    generate_snake_pattern(n)  # 첫 번째 패턴 출력\n",
    "    generate_spiral_pattern(n)  # 두 번째 패턴 출력\n",
    "else:\n",
    "    print(\"3에서 9 사이의 숫자를 입력하세요.\")\n"
   ]
  },
  {
   "cell_type": "code",
   "execution_count": null,
   "metadata": {},
   "outputs": [],
   "source": [
    "#5-16. + - 조합으로 만들 수 있는 계산\n",
    "# 사용자로부터 3자리 숫자 입력받기\n",
    "n = input(\"N ? \")\n",
    "\n",
    "# 각 자리 숫자를 분리\n",
    "a = int(n[0])\n",
    "b = int(n[1])\n",
    "c = int(n[2])\n",
    "\n",
    "# 가능한 계산식과 결과 출력\n",
    "print(f\"{a} + {b} + {c} = {a + b + c}\")\n",
    "print(f\"{a} + {b} - {c} = {a + b - c}\")\n",
    "print(f\"{a} - {b} + {c} = {a - b + c}\")\n",
    "print(f\"{a} - {b} - {c} = {a - b - c}\")"
   ]
  }
 ],
 "metadata": {
  "kernelspec": {
   "display_name": "data_env",
   "language": "python",
   "name": "python3"
  },
  "language_info": {
   "codemirror_mode": {
    "name": "ipython",
    "version": 3
   },
   "file_extension": ".py",
   "mimetype": "text/x-python",
   "name": "python",
   "nbconvert_exporter": "python",
   "pygments_lexer": "ipython3",
   "version": "3.10.15"
  }
 },
 "nbformat": 4,
 "nbformat_minor": 2
}
