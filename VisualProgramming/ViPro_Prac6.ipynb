{
 "cells": [
  {
   "cell_type": "code",
   "execution_count": null,
   "metadata": {},
   "outputs": [],
   "source": [
    "#6-1. 점수리스트. 국어, 수학, 영어\n",
    "# 국어, 수학 점수를 저장한 리스트\n",
    "Sat_0301 = [(100, 98), (97, 95), (88, 90), (50, 58), (100, 100), (97, 100), \n",
    "            (100, 98), (97, 95), (88, 90), (50, 58)]\n",
    "\n",
    "# 학생들의 영어 점수를 저장할 리스트\n",
    "english_scores = []\n",
    "\n",
    "# 영어 점수 입력받기\n",
    "for i in range(10):\n",
    "    score = int(input(f\"학생 {i+1}의 영어 점수를 입력하세요: \"))\n",
    "    english_scores.append(score)\n",
    "\n",
    "# 각 학생의 총점 리스트 계산\n",
    "total_scores = []\n",
    "for i in range(10):\n",
    "    korean, math = Sat_0301[i]\n",
    "    english = english_scores[i]\n",
    "    total = korean + math + english\n",
    "    total_scores.append(total)\n",
    "\n",
    "# 결과 출력\n",
    "print(total_scores)"
   ]
  },
  {
   "cell_type": "code",
   "execution_count": 2,
   "metadata": {},
   "outputs": [
    {
     "name": "stdout",
     "output_type": "stream",
     "text": [
      "다음의 재료는 있습니다. : 소고기\n",
      "다음의 재료는 냉장고에 없습니다. : 참기름, 미역\n"
     ]
    }
   ],
   "source": [
    "#6-2. 냉장고 재료 확인\n",
    "# 냉장고 안에 있는 재료 (0에서 6까지의 재료)\n",
    "refrigerator = {0, 1, 2, 3, 4, 5, 6}\n",
    "\n",
    "# 재료에 대응되는 이름을 저장한 딕셔너리\n",
    "ingredient_names = {\n",
    "    0: \"달걀\", 1: \"양파\", 2: \"당근\", 3: \"감자\", 4: \"두부\", \n",
    "    5: \"버섯\", 6: \"소고기\", 7: \"참기름\", 8: \"미역\", 9: \"버섯\"\n",
    "}\n",
    "\n",
    "# 사용자로부터 필요한 재료를 입력받기\n",
    "needed_ingredients = input(\"만들고자 하는 음식에 필요한 재료를 입력하세요 (띄어쓰기로 구분): \").split()\n",
    "\n",
    "# 입력된 재료를 숫자 인덱스로 변환\n",
    "needed_ingredient_ids = [key for key, value in ingredient_names.items() if value in needed_ingredients]\n",
    "\n",
    "# 냉장고에 없는 재료 찾기\n",
    "missing_ingredients = [ingredient_names[i] for i in needed_ingredient_ids if i not in refrigerator]\n",
    "\n",
    "# 냉장고에 있는 재료 찾기\n",
    "available_ingredients = [ingredient_names[i] for i in needed_ingredient_ids if i in refrigerator]\n",
    "\n",
    "# 결과 출력\n",
    "if available_ingredients:\n",
    "    print(f\"다음의 재료는 있습니다. : {', '.join(available_ingredients)}\")\n",
    "if missing_ingredients:\n",
    "    print(f\"다음의 재료는 냉장고에 없습니다. : {', '.join(missing_ingredients)}\")"
   ]
  },
  {
   "cell_type": "code",
   "execution_count": null,
   "metadata": {},
   "outputs": [],
   "source": [
    "#6-3. 정수 2개의 최소공배수\n",
    "import math\n",
    "\n",
    "# 하드코딩된 두 정수\n",
    "num1, num2 = 27, 86\n",
    "\n",
    "# 최소공배수(LCM)를 구하는 함수\n",
    "def lcm(a, b):\n",
    "    return abs(a * b) // math.gcd(a, b)\n",
    "\n",
    "# 두 수의 최소공배수를 계산하고 출력\n",
    "result = lcm(num1, num2)\n",
    "result"
   ]
  },
  {
   "cell_type": "code",
   "execution_count": null,
   "metadata": {},
   "outputs": [],
   "source": [
    "#6-4. 학번 이름 구분 리스트\n",
    "# 주어진 학생 정보 리스트\n",
    "students = ['20200000jungangkim', '20201111junganglee', '20202222jungangpark']\n",
    "\n",
    "# 학번과 이름을 구분하여 저장하는 리스트 생성\n",
    "student_info = [{'id': student[:8], 'name': student[8:]} for student in students]\n",
    "\n",
    "# 결과 출력\n",
    "student_info\n"
   ]
  },
  {
   "cell_type": "code",
   "execution_count": null,
   "metadata": {},
   "outputs": [],
   "source": [
    "#6-5. 학번 이름 중 학번만 표시\n",
    "# 주어진 학생 정보 리스트\n",
    "students = ['jungangkim20200000', 'junganglee20201111', 'jungangpark20202222']\n",
    "\n",
    "# 각 학생의 학번을 추출하여 출력\n",
    "for student in students:\n",
    "    print(student[-8:])  # 마지막 8자리를 학번으로 출력"
   ]
  },
  {
   "cell_type": "code",
   "execution_count": null,
   "metadata": {},
   "outputs": [],
   "source": [
    "#6-6. 출석 결석 지각 확인\n",
    "# 주어진 출석 정보 리스트\n",
    "lecture_1 = [\n",
    "    {'id': '20200000', 'name': '김중앙', 'attendance': 0},\n",
    "    {'id': '20201111', 'name': '이중앙', 'attendance': 1},\n",
    "    {'id': '20202222', 'name': '박중앙', 'attendance': 2}\n",
    "]\n",
    "\n",
    "# 출석 상태를 나타내는 문자열\n",
    "attendance_status = {0: \"결석\", 1: \"출석\", 2: \"지각\"}\n",
    "\n",
    "# 사용자로부터 학번 입력받기\n",
    "search_id = input(\"조회할 학번: \")\n",
    "\n",
    "# 해당 학번의 정보를 출력\n",
    "for student in lecture_1:\n",
    "    if student['id'] == search_id:\n",
    "        status = attendance_status[student['attendance']]\n",
    "        print(f\"학번: {student['id']} 이름: {student['name']} {status}\")\n",
    "        break\n",
    "else:\n",
    "    print(\"해당 학번을 찾을 수 없습니다.\")"
   ]
  },
  {
   "cell_type": "code",
   "execution_count": null,
   "metadata": {},
   "outputs": [],
   "source": [
    "#6-7. 실수를 합산하여 소수점 이하 4자리까지 반올림.\n",
    "# 합계를 저장할 변수\n",
    "total_sum = 0.0\n",
    "# 입력된 값을 저장할 리스트\n",
    "inputs = []\n",
    "\n",
    "while True:\n",
    "    # 사용자로부터 실수를 입력받기\n",
    "    num = float(input(\"[1, 10000] 구간 안에 존재하는 실수를 입력하세요: \"))\n",
    "    \n",
    "    # 입력된 값이 1에서 10000 구간에 있는지 확인\n",
    "    if 1 <= num <= 10000:\n",
    "        # 합계에 실수 더하기\n",
    "        total_sum += num\n",
    "        # 입력된 값을 리스트에 저장\n",
    "        inputs.append(num)\n",
    "        \n",
    "        # 입력된 값들 출력 형식 맞추기\n",
    "        inputs_str = ' + '.join(f\"{x:.4g}\" for x in inputs)\n",
    "        \n",
    "        # 합계 출력 (소수점 이하 4자리까지 반올림)\n",
    "        print(f\"{inputs_str} = {total_sum:.4f}\")\n",
    "    else:\n",
    "        print(\"잘못된 입력입니다. 1에서 10000 사이의 값을 입력하세요.\")"
   ]
  },
  {
   "cell_type": "code",
   "execution_count": null,
   "metadata": {},
   "outputs": [],
   "source": [
    "#6-8. 소수점에 맞추어 맞추기.\n",
    "# 실수를 저장할 리스트\n",
    "numbers = []\n",
    "\n",
    "while True:\n",
    "    # 사용자로부터 실수 입력받기\n",
    "    num = float(input(\"숫자? \"))\n",
    "    \n",
    "    # 0을 입력하면 종료\n",
    "    if num == 0:\n",
    "        break\n",
    "    \n",
    "    # 입력된 실수를 리스트에 추가\n",
    "    numbers.append(num)\n",
    "    \n",
    "    # 입력된 실수들 중 가장 긴 소수점 자리 찾기\n",
    "    max_decimal_places = 0\n",
    "    for number in numbers:\n",
    "        if '.' in str(number):\n",
    "            decimal_part = str(number).split('.')[1]\n",
    "            max_decimal_places = max(max_decimal_places, len(decimal_part))\n",
    "    \n",
    "    # 모든 실수 출력 (가장 긴 소수점 자리에 맞춰 출력)\n",
    "    for number in numbers:\n",
    "        print(f\"{number:.{max_decimal_places}f}\")\n"
   ]
  },
  {
   "cell_type": "code",
   "execution_count": 6,
   "metadata": {},
   "outputs": [
    {
     "name": "stdout",
     "output_type": "stream",
     "text": [
      "Grief, a, agony, an, blunder, grief, indulgence, instant, is, life, of, the\n"
     ]
    }
   ],
   "source": [
    "#6-9. 중복된 단어 없이 콤마로 구분해 출력\n",
    "# 사용자로부터 문장 입력받기\n",
    "sentence = input(\"문장을 입력하세요: \")\n",
    "\n",
    "# 단어를 공백을 기준으로 분리하고 중복을 제거하여 집합으로 변환\n",
    "words = set(sentence.split())\n",
    "\n",
    "# 중복이 제거된 단어들을 알파벳 순서로 정렬\n",
    "sorted_words = sorted(words)\n",
    "\n",
    "# 콤마로 구분하여 출력\n",
    "print(\", \".join(sorted_words))"
   ]
  },
  {
   "cell_type": "code",
   "execution_count": 7,
   "metadata": {},
   "outputs": [
    {
     "name": "stdout",
     "output_type": "stream",
     "text": [
      "12 + 345 + 6789 = 7146\n"
     ]
    }
   ],
   "source": [
    "#6-10. 수식의 결과.\n",
    "# 사용자로부터 수식 입력받기\n",
    "expression = input(\"수식을 입력하세요: \")\n",
    "\n",
    "# 덧셈, 뺄셈, 곱셈 중 어떤 연산자인지 확인\n",
    "if '+' in expression:\n",
    "    # 덧셈 수식을 처리\n",
    "    numbers = map(int, expression.split('+'))\n",
    "    result = sum(numbers)\n",
    "    # 출력 형식\n",
    "    print(f\"{' + '.join(expression.split('+'))} = {result}\")\n",
    "\n",
    "elif '-' in expression:\n",
    "    # 뺄셈 수식을 처리\n",
    "    numbers = list(map(int, expression.split('-')))\n",
    "    result = numbers[0]\n",
    "    for num in numbers[1:]:\n",
    "        result -= num\n",
    "    # 출력 형식\n",
    "    print(f\"{' - '.join(expression.split('-'))} = {result}\")\n",
    "\n",
    "elif '*' in expression:\n",
    "    # 곱셈 수식을 처리\n",
    "    numbers = map(int, expression.split('*'))\n",
    "    result = 1\n",
    "    for num in numbers:\n",
    "        result *= num\n",
    "    # 출력 형식\n",
    "    print(f\"{' x '.join(expression.split('*'))} = {result}\")\n",
    "\n",
    "else:\n",
    "    print(\"잘못된 수식입니다. 덧셈(+), 뺄셈(-), 곱셈(*)만 사용할 수 있습니다.\")"
   ]
  },
  {
   "cell_type": "code",
   "execution_count": null,
   "metadata": {},
   "outputs": [],
   "source": [
    "#6-11. 영어 단어를 리스트에 저장. \n",
    "# 단어를 저장할 리스트\n",
    "mylist = []\n",
    "\n",
    "while True:\n",
    "    # 사용자로부터 단어 입력받기\n",
    "    word = input(\"단어? \").strip()\n",
    "    \n",
    "    # 'end'를 입력하면 프로그램 종료\n",
    "    if word.lower() == 'end':\n",
    "        print(\"종료합니다.\")\n",
    "        break\n",
    "    \n",
    "    # 첫 글자는 대문자, 나머지는 소문자로 변환하여 리스트에 추가\n",
    "    formatted_word = word.capitalize()\n",
    "    mylist.append(formatted_word)\n",
    "    \n",
    "    # 리스트 출력\n",
    "    print(f\"mylist = {mylist}\")"
   ]
  },
  {
   "cell_type": "code",
   "execution_count": 8,
   "metadata": {},
   "outputs": [
    {
     "name": "stdout",
     "output_type": "stream",
     "text": [
      "Name  Kor  Eng  Mat  Tot \n",
      "=========================\n",
      "choi  100  100  100  300 \n",
      "kang  76   98   99   273 \n",
      "park  86   87   88   261 \n",
      "lee   78   76   98   252 \n",
      "kim   34   45   56   135 \n"
     ]
    }
   ],
   "source": [
    "#6-12. 성적 순으로 표시.\n",
    "# 주어진 문자열 데이터\n",
    "score = 'kim 34,45,56 lee 78,76,98 park 86,87,88 kang 76,98,99 choi 100,100,100'\n",
    "\n",
    "# 데이터를 분석하여 학생별로 이름과 성적을 저장\n",
    "students = []\n",
    "data = score.split()\n",
    "\n",
    "for i in range(0, len(data), 2):\n",
    "    name = data[i]\n",
    "    scores = list(map(int, data[i+1].split(',')))\n",
    "    total = sum(scores)\n",
    "    students.append({'name': name, 'kor': scores[0], 'eng': scores[1], 'mat': scores[2], 'total': total})\n",
    "\n",
    "# 총점 순으로 학생들 정렬 (내림차순)\n",
    "students_sorted = sorted(students, key=lambda x: x['total'], reverse=True)\n",
    "\n",
    "# 결과 출력\n",
    "print(f\"{'Name':<5} {'Kor':<4} {'Eng':<4} {'Mat':<4} {'Tot':<4}\")\n",
    "print(\"=\" * 25)\n",
    "\n",
    "for student in students_sorted:\n",
    "    print(f\"{student['name']:<5} {student['kor']:<4} {student['eng']:<4} {student['mat']:<4} {student['total']:<4}\")\n"
   ]
  },
  {
   "cell_type": "code",
   "execution_count": 9,
   "metadata": {},
   "outputs": [
    {
     "name": "stdout",
     "output_type": "stream",
     "text": [
      "e 3회\n"
     ]
    }
   ],
   "source": [
    "#6-13. 모음 중 가장 높은 빈도의 문자를 표시. 여러 개면 하나. 대소문자 무시.\n",
    "# 사용자로부터 문장 입력받기\n",
    "sentence = input(\"문장? \").lower()  # 소문자로 변환하여 대소문자 무시\n",
    "\n",
    "# 모음 리스트\n",
    "vowels = 'aeiou'\n",
    "\n",
    "# 모음의 빈도를 저장할 딕셔너리\n",
    "vowel_count = {vowel: 0 for vowel in vowels}\n",
    "\n",
    "# 문장에서 모음의 빈도 계산\n",
    "for char in sentence:\n",
    "    if char in vowels:\n",
    "        vowel_count[char] += 1\n",
    "\n",
    "# 가장 많이 등장한 모음 찾기\n",
    "most_frequent_vowel = max(vowel_count, key=vowel_count.get)\n",
    "frequency = vowel_count[most_frequent_vowel]\n",
    "\n",
    "# 결과 출력\n",
    "if frequency > 0:\n",
    "    print(f\"{most_frequent_vowel} {frequency}회\")\n",
    "else:\n",
    "    print(\"문장에 모음이 없습니다.\")\n"
   ]
  }
 ],
 "metadata": {
  "kernelspec": {
   "display_name": "data_env",
   "language": "python",
   "name": "python3"
  },
  "language_info": {
   "codemirror_mode": {
    "name": "ipython",
    "version": 3
   },
   "file_extension": ".py",
   "mimetype": "text/x-python",
   "name": "python",
   "nbconvert_exporter": "python",
   "pygments_lexer": "ipython3",
   "version": "3.10.15"
  }
 },
 "nbformat": 4,
 "nbformat_minor": 2
}
