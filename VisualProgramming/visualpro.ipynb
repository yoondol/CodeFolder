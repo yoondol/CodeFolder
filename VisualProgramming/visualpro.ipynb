{
 "cells": [
  {
   "cell_type": "code",
   "execution_count": 15,
   "metadata": {},
   "outputs": [
    {
     "name": "stdout",
     "output_type": "stream",
     "text": [
      "        3.1415926536\n"
     ]
    }
   ],
   "source": [
    "value = math.pi\n",
    "formatted_value = \"%20.10f\" % value  # '   3.14159'\n",
    "print(formatted_value)"
   ]
  },
  {
   "cell_type": "code",
   "execution_count": 4,
   "metadata": {},
   "outputs": [
    {
     "name": "stdout",
     "output_type": "stream",
     "text": [
      "84.94867\n",
      "84.94867\n",
      "84.94867\n"
     ]
    }
   ],
   "source": [
    "#원의 넓이 구하기\n",
    "import math\n",
    "r = 5.2\n",
    "r_squared = r**2\n",
    "area = math.pi * r_squared\n",
    "print((round(area, 5)))\n",
    "print(\"%0.5f\" % area)\n",
    "print(f\"{area:.5f}\")"
   ]
  },
  {
   "cell_type": "code",
   "execution_count": 2,
   "metadata": {},
   "outputs": [
    {
     "name": "stdout",
     "output_type": "stream",
     "text": [
      "원 1의 면적: 28.27\n",
      "원 2의 면적: 50.27\n",
      "원 3의 면적: 78.54\n"
     ]
    }
   ],
   "source": [
    "#원의 반지름 N 개 입력받아 면적 구하기\n",
    "import math\n",
    "\n",
    "#N개의 실수 입력받기\n",
    "radii = list(map(float, input(\"원의 반지름을 입력하세요(쉼표로 구분): \").split(',')))\n",
    "\n",
    "#면적 계산\n",
    "areas = [math.pi * (r**2) for r in radii]\n",
    "\n",
    "#결과 출력\n",
    "for i, area in enumerate(areas, 1):\n",
    "    print(f\"원 {i}의 면적: {area:.2f}\")"
   ]
  },
  {
   "cell_type": "code",
   "execution_count": 2,
   "metadata": {},
   "outputs": [
    {
     "name": "stdout",
     "output_type": "stream",
     "text": [
      "5\n"
     ]
    }
   ],
   "source": [
    "num_list = input(\"수식을 입력하세요: \").split('+')\n",
    "total = sum(map(int, num_list))\n",
    "print(total)"
   ]
  },
  {
   "cell_type": "code",
   "execution_count": 16,
   "metadata": {},
   "outputs": [
    {
     "name": "stdout",
     "output_type": "stream",
     "text": [
      "12.57\n",
      "12.57\n"
     ]
    }
   ],
   "source": [
    "r = int(input(\"반지름 입력: \"))\n",
    "length = 2 * math.pi * r\n",
    "area = r**2 * math.pi\n",
    "print(f\"{length:.2f}\")\n",
    "print(\"%0.2f\" % area)"
   ]
  },
  {
   "cell_type": "code",
   "execution_count": 7,
   "metadata": {},
   "outputs": [
    {
     "name": "stdout",
     "output_type": "stream",
     "text": [
      "too big. retry.\n",
      "too small. retry.\n",
      "too small. retry.\n",
      "right. (4trial)\n"
     ]
    }
   ],
   "source": [
    "#랜덤 숫자 맞추기\n",
    "import random\n",
    "target = random.randint(1,20)\n",
    "\n",
    "count = 0\n",
    "for _ in range(5):\n",
    "    num = int(input(\"number?\"))\n",
    "    if num > target: \n",
    "        print(\"too big. retry.\")\n",
    "        count += 1\n",
    "    elif num < target: \n",
    "        print(\"too small. retry.\")\n",
    "        count += 1\n",
    "    else: \n",
    "        count += 1\n",
    "        print(f\"right. ({count}trial)\")\n",
    "        break"
   ]
  },
  {
   "cell_type": "code",
   "execution_count": 1,
   "metadata": {},
   "outputs": [
    {
     "name": "stdout",
     "output_type": "stream",
     "text": [
      "2550\n",
      "2550\n"
     ]
    }
   ],
   "source": [
    "#1부터 100사이 짝수합\n",
    "\n",
    "a = list(range(2,101,2))\n",
    "total = 0\n",
    "for i in a:\n",
    "    total += i\n",
    "print(total)\n",
    "\n",
    "print(sum(range(2,101,2)))"
   ]
  },
  {
   "cell_type": "code",
   "execution_count": 9,
   "metadata": {},
   "outputs": [
    {
     "name": "stdout",
     "output_type": "stream",
     "text": [
      "*\n",
      " *\n",
      "  *\n",
      "   *\n",
      "    *\n",
      "     *\n",
      "\n",
      "\n",
      "     *\n",
      "    ***\n",
      "   *****\n",
      "  *******\n",
      " *********\n",
      "***********\n"
     ]
    }
   ],
   "source": [
    "for i in range (6):\n",
    "    print(\" \"*(i) + \"*\")\n",
    "print(\"\\n\")\n",
    "n=6\n",
    "for i in range (6):\n",
    "    print(\" \"*(n-i-1) + \"*\"*(2*i+1))"
   ]
  },
  {
   "cell_type": "code",
   "execution_count": 10,
   "metadata": {},
   "outputs": [
    {
     "name": "stdout",
     "output_type": "stream",
     "text": [
      "78\n"
     ]
    }
   ],
   "source": [
    "#합계가 3000 넘는 순간의 숫자\n",
    "total = 0\n",
    "current = 1\n",
    "\n",
    "while total<3000:\n",
    "    total += current\n",
    "    current += 1\n",
    "print(current-1)"
   ]
  },
  {
   "cell_type": "code",
   "execution_count": 15,
   "metadata": {},
   "outputs": [
    {
     "name": "stdout",
     "output_type": "stream",
     "text": [
      "[3, 6, 9, 12, 15, 18, 21, 24, 27, 30, 33, 36, 39, 42, 45, 48, 51, 54, 57, 60, 63, 66, 69, 72, 75, 78, 81, 84, 87, 90, 93, 96, 99, 102, 105, 108, 111, 114, 117, 120, 123, 126, 129, 132, 135, 138, 141, 144, 147, 150, 153, 156, 159, 162, 165, 168, 171, 174, 177, 180, 183, 186, 189, 192, 195, 198, 201, 204, 207, 210, 213, 216, 219, 222, 225, 228, 231, 234, 237, 240, 243, 246, 249, 252, 255, 258, 261, 264, 267, 270, 273, 276, 279, 282, 285, 288, 291, 294, 297, 300]\n"
     ]
    },
    {
     "data": {
      "text/plain": [
       "100"
      ]
     },
     "execution_count": 15,
     "metadata": {},
     "output_type": "execute_result"
    }
   ],
   "source": [
    "number = []\n",
    "for i in range(1,101):\n",
    "    number.append(3*i)\n",
    "print(number)\n",
    "len(number)"
   ]
  },
  {
   "cell_type": "code",
   "execution_count": 19,
   "metadata": {},
   "outputs": [
    {
     "name": "stdout",
     "output_type": "stream",
     "text": [
      "나는\n",
      "엄마\n",
      "너\n",
      "는\n",
      "너\n",
      "총 5단어\n"
     ]
    }
   ],
   "source": [
    "sentence = input(\"문장입력:\")\n",
    "words = sentence.split()\n",
    "count = 0\n",
    "for i in words:\n",
    "    print(i)\n",
    "    count += 1\n",
    "print(f\"총 {count}단어\")"
   ]
  },
  {
   "cell_type": "code",
   "execution_count": 21,
   "metadata": {},
   "outputs": [
    {
     "name": "stdout",
     "output_type": "stream",
     "text": [
      "My name is Yoon and I am 26 years old.\n",
      "My name is Yoon and I am 26 years old\n"
     ]
    }
   ],
   "source": [
    "# 포맷팅\n",
    "name = 'Yoon'\n",
    "age = 26\n",
    "print(\"My name is %s and I am %d years old.\" % (name,age))\n",
    "print(f\"My name is {name} and I am {age} years old\")"
   ]
  },
  {
   "cell_type": "code",
   "execution_count": 26,
   "metadata": {},
   "outputs": [
    {
     "name": "stdout",
     "output_type": "stream",
     "text": [
      "60\n"
     ]
    }
   ],
   "source": [
    "# 수식더하기\n",
    "tex = input(\"수식입력: \")\n",
    "\n",
    "num = tex.split('+')\n",
    "total = sum(int(number) for number in num)\n",
    "print(total)"
   ]
  },
  {
   "cell_type": "code",
   "execution_count": null,
   "metadata": {},
   "outputs": [],
   "source": [
    "#기출. 대소문자 맞추기\n",
    "# 입력 문자열\n",
    "input_str = input(\"문자열을 입력하세요: \")\n",
    "\n",
    "# 대문자로 변환\n",
    "uppercase_str = input_str.upper()\n",
    "# lower()\n",
    "\n",
    "# 결과 출력\n",
    "print(\"대문자로 변환된 문자열:\", uppercase_str)"
   ]
  },
  {
   "cell_type": "code",
   "execution_count": 12,
   "metadata": {},
   "outputs": [
    {
     "name": "stdout",
     "output_type": "stream",
     "text": [
      "great _job_ well _done_\n"
     ]
    }
   ],
   "source": [
    "#기출: 문장과 알파벳을 입력하고 알파벳이 포함된 단어에는 밑줄을 쳐서 문장을 출력하시오\n",
    "# 문장과 알파벳 입력받기\n",
    "sentence = input(\"문장을 입력하세요: \")\n",
    "char = input(\"알파벳을 입력하세요: \")\n",
    "\n",
    "# 각 단어를 확인하여 알파벳이 포함된 경우 밑줄 처리\n",
    "words = sentence.split()\n",
    "underlined_sentence = ' '.join([f\"_{word}_\" if char in word else word for word in words])\n",
    "\n",
    "# 결과 출력\n",
    "print(underlined_sentence)\n",
    "\n"
   ]
  },
  {
   "cell_type": "code",
   "execution_count": null,
   "metadata": {},
   "outputs": [],
   "source": [
    "# 밑줄 긋기\n",
    "def underline_words_with_substring(sentence, target):\n",
    "    words = sentence.split()  # 문장을 단어로 분리\n",
    "    result = []\n",
    "\n",
    "    for word in words:\n",
    "        if target in word:\n",
    "            result.append(f\"_{word}_\")  # 해당 단어에 밑줄 추가\n",
    "        else:\n",
    "            result.append(word)\n",
    "    \n",
    "    return ' '.join(result)\n",
    "\n",
    "# 사용 예시\n",
    "sentence = input(\"문장을 입력하세요: \")\n",
    "target = input(\"찾을 문자열을 입력하세요: \")\n",
    "\n",
    "result = underline_words_with_substring(sentence, target)\n",
    "print(result)"
   ]
  },
  {
   "cell_type": "code",
   "execution_count": 17,
   "metadata": {},
   "outputs": [
    {
     "name": "stdout",
     "output_type": "stream",
     "text": [
      "welcome to python\n",
      "           ______\n"
     ]
    }
   ],
   "source": [
    "def underline_matching_parts(sentence, target):\n",
    "    words = sentence.split()  # 문장을 단어로 분리\n",
    "    original_sentence = ' '.join(words)  # 원래 문장 그대로 유지\n",
    "    underline_sentence = []\n",
    "\n",
    "    for word in words:\n",
    "        if target in word:\n",
    "            underline_sentence.append('_' * len(word))  # 문자열이 포함된 단어 길이만큼 밑줄\n",
    "        else:\n",
    "            underline_sentence.append(' ' * len(word))  # 포함되지 않으면 공백으로 대체\n",
    "\n",
    "    underline_sentence = ' '.join(underline_sentence)  # 다시 하나의 문장으로 합침\n",
    "\n",
    "    print(original_sentence)  # 원래 문장 출력\n",
    "    print(underline_sentence)  # 밑줄 문장 출력\n",
    "\n",
    "# 사용 예시\n",
    "sentence = input(\"문장을 입력하세요: \")\n",
    "target = input(\"찾을 문자열을 입력하세요: \")\n",
    "\n",
    "underline_matching_parts(sentence, target)\n"
   ]
  },
  {
   "cell_type": "code",
   "execution_count": 11,
   "metadata": {},
   "outputs": [
    {
     "name": "stdout",
     "output_type": "stream",
     "text": [
      "great\n",
      " job\n",
      "___\n",
      " well\n",
      " done\n",
      "____\n",
      "\n"
     ]
    }
   ],
   "source": [
    "# 문장과 알파벳 입력받기\n",
    "sentence = input(\"문장을 입력하세요: \")\n",
    "char = input(\"알파벳을 입력하세요: \")\n",
    "\n",
    "# 각 단어를 확인하여 알파벳이 포함된 경우 밑에 _를 추가\n",
    "words = sentence.split()\n",
    "underlined_sentence = []\n",
    "\n",
    "for word in words:\n",
    "    if char in word:\n",
    "        # 밑줄 표시를 실제로 단어 아래에 추가\n",
    "        underlined_sentence.append(f\"{word}\\n{'_' * len(word)}\\n\")\n",
    "    else:\n",
    "        underlined_sentence.append(word+\"\\n\")\n",
    "\n",
    "# 결과 출력\n",
    "print(' '.join(underlined_sentence))"
   ]
  },
  {
   "cell_type": "code",
   "execution_count": 14,
   "metadata": {},
   "outputs": [
    {
     "name": "stdout",
     "output_type": "stream",
     "text": [
      "\n",
      "학생들의 성적과 석차를 표시합니다:\n",
      "번호: 20183838, 영어점수: 82, 국어점수: 83, 총점: 165, 석차: 1\n",
      "번호: 22822828, 영어점수: 92, 국어점수: 38, 총점: 130, 석차: 2\n",
      "번호: 20187303, 영어점수: 20, 국어점수: 83, 총점: 103, 석차: 3\n",
      "해당 학생을 찾을 수 없습니다.\n"
     ]
    }
   ],
   "source": [
    "#기출: 학번 이름 영어점수 국어점수를 입력 받고 학번이나 이름을 입력하면 총점과 석차를 출력하시오\n",
    "\n",
    "# 학생 정보를 저장할 리스트\n",
    "students = []\n",
    "\n",
    "# 학생 수 입력받기\n",
    "n = int(input(\"학생 수를 입력하세요: \"))\n",
    "\n",
    "# 학생 정보 입력받기\n",
    "for _ in range(n):\n",
    "    student_info = input(\"학번, 이름, 영어점수, 국어점수를 입력하세요 (쉼표로 구분): \").split(',')\n",
    "    student_id = student_info[0]\n",
    "    name = student_info[1]\n",
    "    english_score = int(student_info[2])\n",
    "    korean_score = int(student_info[3])\n",
    "    \n",
    "    # 총점 계산\n",
    "    total_score = english_score + korean_score\n",
    "    \n",
    "    # 학생 정보를 딕셔너리 형태로 저장\n",
    "    students.append({   #딕셔너리면     students[student_id] = {\n",
    "        '학번': student_id,\n",
    "        '이름': name,\n",
    "        '영어점수': english_score,\n",
    "        '국어점수': korean_score,\n",
    "        '총점': total_score\n",
    "    })\n",
    "#딕셔너리면     students[student_id] = { ... }\n",
    "#마지막에 students[name] = students[student_id]  # 이름을 키로도 추가\n",
    "\n",
    "# 석차 계산\n",
    "students = sorted(students, key=lambda x: x['총점'], reverse=True) #딕셔너리면  students.values()\n",
    "for rank, student in enumerate(students, 1):\n",
    "    student['석차'] = rank\n",
    "\n",
    "# 결과 출력\n",
    "print(\"\\n학생들의 성적과 석차를 표시합니다:\")\n",
    "for student in students:\n",
    "    print(f\"번호: {student['학번']}, 영어점수: {student['영어점수']}, 국어점수: {student['국어점수']}, 총점: {student['총점']}, 석차: {student['석차']}\")\n",
    "\n",
    "# 학번이나 이름을 입력받아 해당 학생 정보 출력\n",
    "search = input(\"학번 또는 이름을 입력하세요: \")\n",
    "\n",
    "# 검색 결과 출력\n",
    "for student in students:\n",
    "    if student['학번'] == search or student['이름'] == search:\n",
    "        print(f\"학번: {student['학번']}, 이름: {student['이름']}, 총점: {student['총점']}, 석차: {student['석차']}\")\n",
    "        break\n",
    "else:\n",
    "    print(\"해당 학생을 찾을 수 없습니다.\")\n"
   ]
  },
  {
   "cell_type": "code",
   "execution_count": null,
   "metadata": {},
   "outputs": [],
   "source": [
    "# 학생 정보를 저장할 딕셔너리\n",
    "students = {}\n",
    "\n",
    "# 학생 수 입력받기\n",
    "n = int(input(\"학생 수를 입력하세요: \"))\n",
    "\n",
    "# 학생 정보 입력받기\n",
    "for _ in range(n):\n",
    "    student_info = input(\"학번, 이름, 영어점수, 국어점수를 입력하세요 (쉼표로 구분): \").split(',')\n",
    "    student_id = student_info[0]\n",
    "    name = student_info[1]\n",
    "    english_score = int(student_info[2])\n",
    "    korean_score = int(student_info[3])\n",
    "    \n",
    "    # 총점 계산\n",
    "    total_score = english_score + korean_score\n",
    "    \n",
    "    # 학번과 이름을 키로 하여 딕셔너리 저장\n",
    "    students[student_id] = {\n",
    "        '학번': student_id,\n",
    "        '이름': name,\n",
    "        '영어점수': english_score,\n",
    "        '국어점수': korean_score,\n",
    "        '총점': total_score\n",
    "    }\n",
    "    students[name] = students[student_id]  # 이름을 키로도 추가\n",
    "\n",
    "# 석차 계산\n",
    "sorted_students = sorted(students.values(), key=lambda x: x['총점'], reverse=True)\n",
    "for rank, student in enumerate(sorted_students, 1):\n",
    "    student['석차'] = rank\n",
    "\n",
    "# 학번이나 이름을 입력받아 해당 학생 정보 출력\n",
    "search = input(\"학번 또는 이름을 입력하세요: \")\n",
    "\n",
    "# 검색 결과 출력\n",
    "if search in students:\n",
    "    student = students[search]\n",
    "    print(f\"학번: {student['학번']}, 이름: {student['이름']}, 총점: {student['총점']}, 석차: {student['석차']}\")\n",
    "else:\n",
    "    print(\"해당 학생을 찾을 수 없습니다.\")\n"
   ]
  },
  {
   "cell_type": "code",
   "execution_count": 19,
   "metadata": {},
   "outputs": [
    {
     "name": "stdout",
     "output_type": "stream",
     "text": [
      "              38,383\n"
     ]
    }
   ],
   "source": [
    "#기출: 숫자를 입력 받아 천 단위로 콤마를 찍고 오른쪽으로 정렬하시오 \n",
    "\n",
    "def format_number(number):\n",
    "    formatted_number = f\"{number:,}\"  # 천 단위 콤마를 찍는 형식\n",
    "    return formatted_number.rjust(20)  # 오른쪽 정렬 (20칸 기준)\n",
    "\n",
    "# 사용 예시\n",
    "number = int(input(\"숫자를 입력하세요: \"))\n",
    "result = format_number(number)\n",
    "print(result)\n"
   ]
  },
  {
   "cell_type": "code",
   "execution_count": 20,
   "metadata": {},
   "outputs": [
    {
     "name": "stdout",
     "output_type": "stream",
     "text": [
      "           1,234,567\n",
      "           1,234,567\n",
      "             1234.57\n"
     ]
    }
   ],
   "source": [
    "# 오른쪽 정렬\n",
    "\n",
    "def format_right_align(number, width):\n",
    "    formatted_number = \"{:>{width},}\".format(number, width=width)\n",
    "    return formatted_number\n",
    "# 사용 예시\n",
    "number = 1234567\n",
    "print(format_right_align(number, 20))  # 20칸 기준 오른쪽 정렬\n",
    "\n",
    "def fstring_right_align(number, width):\n",
    "    formatted_number = f\"{number:>{width},}\"\n",
    "    return formatted_number\n",
    "# 사용 예시\n",
    "number = 1234567\n",
    "print(fstring_right_align(number, 20))  # 20칸 기준 오른쪽 정렬\n",
    "\n",
    "def percent_format_right_align(number):\n",
    "    formatted_number = \"%20.2f\" % number  # 소수점 둘째 자리까지 표현, 20자리 오른쪽 정렬\n",
    "    return formatted_number\n",
    "# 사용 예시\n",
    "number = 1234.56789\n",
    "print(percent_format_right_align(number))\n"
   ]
  },
  {
   "cell_type": "code",
   "execution_count": null,
   "metadata": {},
   "outputs": [],
   "source": [
    "def get_price_by_menu_number(menu, number):\n",
    "    if number in menu:\n",
    "        print(f\"선택한 메뉴의 가격은: {menu[number]}\")\n",
    "    else:\n",
    "        print(\"잘못된 메뉴 번호입니다. 다시 시도하세요.\")\n",
    "\n",
    "# 메뉴 딕셔너리 예시\n",
    "menu = {\n",
    "    1: '김밥 - 2500원',\n",
    "    2: '라면 - 3000원'\n",
    "}\n",
    "\n",
    "# 사용자로부터 입력받기\n",
    "try:\n",
    "    menu_number = int(input(\"메뉴 번호를 입력하세요: \"))\n",
    "    get_price_by_menu_number(menu, menu_number)\n",
    "except ValueError:\n",
    "    print(\"잘못된 입력입니다. 숫자를 입력해주세요.\")"
   ]
  },
  {
   "cell_type": "code",
   "execution_count": 28,
   "metadata": {},
   "outputs": [
    {
     "name": "stdout",
     "output_type": "stream",
     "text": [
      "6+3=9\n",
      "6-3=3\n",
      "6*3=18\n",
      "6/3=2.0\n"
     ]
    }
   ],
   "source": [
    "#3-1 수식계산\n",
    "A = int(input(\"A = ? \"))\n",
    "B = int(input(\"B = ? \"))\n",
    "print(f\"{A}+{B}={A+B}\")\n",
    "print(f\"{A}-{B}={A-B}\")\n",
    "print(f\"{A}*{B}={A*B}\")\n",
    "print(f\"{A}/{B}={A/B}\")"
   ]
  },
  {
   "cell_type": "code",
   "execution_count": 69,
   "metadata": {},
   "outputs": [
    {
     "name": "stdout",
     "output_type": "stream",
     "text": [
      "1: 1.732\n"
     ]
    }
   ],
   "source": [
    "#3-2\n",
    "import math\n",
    "value1 = math.sqrt(3)\n",
    "print(f\"1: {value1:.3f}\")"
   ]
  },
  {
   "cell_type": "code",
   "execution_count": 42,
   "metadata": {},
   "outputs": [
    {
     "name": "stdout",
     "output_type": "stream",
     "text": [
      "3 %\n",
      "1년차 = 3090\n",
      "2년차 = 3182\n",
      "3년차 = 3277\n"
     ]
    }
   ],
   "source": [
    "# 3-3 원금과 이자 계산\n",
    "principal = int(input(\"원금 = \"))\n",
    "rate = int(input(\"이율% = \"))\n",
    "print(rate, \"%\")\n",
    "\n",
    "for year in range(1,4):\n",
    "    principal = int(principal * (1+ rate/100))\n",
    "    print(f\"{year}년차 = {principal}\")"
   ]
  },
  {
   "cell_type": "code",
   "execution_count": 47,
   "metadata": {},
   "outputs": [
    {
     "name": "stdout",
     "output_type": "stream",
     "text": [
      "0만0천1백2십3"
     ]
    }
   ],
   "source": [
    "# 3-5 단위 자리 표시\n",
    "\n",
    "number = input(\" N =? \").zfill(5)\n",
    "units = [\"만\", \"천\", '백', '십', '']\n",
    "\n",
    "for i in range(5):\n",
    "    print(number[i] + units[i], end='')\n"
   ]
  },
  {
   "cell_type": "code",
   "execution_count": 52,
   "metadata": {},
   "outputs": [
    {
     "name": "stdout",
     "output_type": "stream",
     "text": [
      "(4,4)-(2,2) 거리는 2.828\n"
     ]
    }
   ],
   "source": [
    "# 3-6 두 점 사이 거리\n",
    "x1 = int(input(\"x1 = \"))\n",
    "y1 = int(input(\"y1 = \"))\n",
    "x2 = int(input(\"x2 = \"))\n",
    "y2 = int(input(\"y2 = \"))\n",
    "\n",
    "distance = math.sqrt((x2 - x1)**2 + (y2 - y1)**2)\n",
    "print(f\"({x1},{y1})-({x2},{y2}) 거리는 {distance:.3f}\")\n"
   ]
  },
  {
   "cell_type": "code",
   "execution_count": 65,
   "metadata": {},
   "outputs": [
    {
     "name": "stdout",
     "output_type": "stream",
     "text": [
      "0 1 1 1\n",
      "0일 1시간 1분 1초\n"
     ]
    }
   ],
   "source": [
    "#3-7 전체초를 쪼개기\n",
    "time = int(input(\"초 = \"))\n",
    "unit = ['일', '시간', '분', '초']\n",
    "\n",
    "sec = time % 60\n",
    "time = time // 60\n",
    "\n",
    "minute = time % 60\n",
    "time = time // 60\n",
    "\n",
    "hour = time % 24\n",
    "days = time // 24\n",
    "\n",
    "print(f\"{days}일 {hour}시간 {minute}분 {sec}초\") \n",
    "    "
   ]
  },
  {
   "cell_type": "code",
   "execution_count": 67,
   "metadata": {},
   "outputs": [
    {
     "name": "stdout",
     "output_type": "stream",
     "text": [
      "True\n"
     ]
    }
   ],
   "source": [
    "#3-8 홀수 판별기\n",
    "num = int(input(\"정수: \"))\n",
    "print(num%2 == 1)"
   ]
  }
 ],
 "metadata": {
  "kernelspec": {
   "display_name": "data_env",
   "language": "python",
   "name": "python3"
  },
  "language_info": {
   "codemirror_mode": {
    "name": "ipython",
    "version": 3
   },
   "file_extension": ".py",
   "mimetype": "text/x-python",
   "name": "python",
   "nbconvert_exporter": "python",
   "pygments_lexer": "ipython3",
   "version": "3.10.15"
  }
 },
 "nbformat": 4,
 "nbformat_minor": 2
}
