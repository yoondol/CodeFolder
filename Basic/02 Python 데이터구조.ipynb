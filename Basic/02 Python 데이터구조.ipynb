{
 "cells": [
  {
   "cell_type": "markdown",
   "id": "a8594edd-be51-40f4-9593-e021c915a2ab",
   "metadata": {},
   "source": [
    "# Python 기초 문법\n",
    "\n",
    "`작성자: 최원칠 강사`   \n",
    "`traveler4d@gmail.com`\n",
    "\n",
    "\n",
    "### 주요 내용\n",
    "\n",
    "1. 파이썬의 기본 정의와 데이터 타입에 대한 이해\n",
    "2. 파이썬 기본 제어문에 대한 이해\n",
    "3. 파이썬 기본 데이터구조에 대한 이해\n",
    "\n"
   ]
  },
  {
   "cell_type": "markdown",
   "id": "26660d30-ae18-4b19-8f27-da0bf08d4460",
   "metadata": {},
   "source": [
    "## 3. 여러 값을 묶은 데이터구조\n",
    "\n",
    "`1`, `'파이썬'`처럼 하나의 값이 아니라 여러개의 값을 특정 구조로 저장\n",
    "\n",
    "- 리스트(list)\n",
    "- 튜플(tuple), 문자열(str)\n",
    "- 사전(dictionary)"
   ]
  },
  {
   "cell_type": "markdown",
   "id": "3f6c7518-40c6-4a83-a258-ac7637849d15",
   "metadata": {},
   "source": [
    "### 3.1. 가변 시퀀스 리스트\n",
    "\n",
    "#### 리스트 구조\n",
    "<img src=\"./img/20240601_214456.png\"  width = 600 align=\"\"></img>    \n",
    "\n",
    "#### 리스트 특징\n",
    "- 여러 데이터를 순서대로 연결시킨 가변적인 시퀀스 데이터 구조\n",
    "- 순서(index)를 가지고 있음\n",
    "- 여러 타입을 동시에 지니며 확장이 유연함\n",
    "- 자유롭게 데이터를 수정하고 추가 가능\n",
    "- 데이터를 순서대로 따라가야 접근 가능하여 접근 속도가 느림\n",
    "- 메모리 공간의 활용성이 좋음\n",
    "\n",
    "#### 리스트 생성\n",
    "- 대괄호를 사용하여 빈 리스트를 표시하기: []\n",
    "- 대괄호를 사용하여 쉼표로 항목 구분하기: [a], [a, b, c]\n",
    "- 리스트 컴프리헨션 사용하기: [x for x in iterable]\n",
    "- 내장함수 생성자를 사용하기: list() 또는 list(iterable)"
   ]
  },
  {
   "cell_type": "code",
   "execution_count": 5,
   "id": "0679ae0b-1d0b-4978-b939-77bc1fec4b38",
   "metadata": {},
   "outputs": [
    {
     "name": "stdout",
     "output_type": "stream",
     "text": [
      "[]\n",
      "[5000, 6000, 7000, 6000, 9000]\n"
     ]
    }
   ],
   "source": [
    "# 비어있는 리스트 생성\n",
    "empty = [] \n",
    "print(empty)\n",
    "\n",
    "# 데이터를 넣어 리스트 생성\n",
    "point = [5000, 6000, 7000, 6000, 9000]\n",
    "print(point)"
   ]
  },
  {
   "cell_type": "code",
   "execution_count": 6,
   "id": "9739f5cc-9833-40bf-8b56-07affb71afc0",
   "metadata": {},
   "outputs": [
    {
     "name": "stdout",
     "output_type": "stream",
     "text": [
      "['파이썬', 5000, '기초', 6.215, '사전학습', True]\n"
     ]
    }
   ],
   "source": [
    "# 다양한 타입이 들어올 수 있음\n",
    "types = ['파이썬', 5000, '기초', 6.215, '사전학습', True]\n",
    "print(types)"
   ]
  },
  {
   "cell_type": "code",
   "execution_count": 7,
   "id": "826cd399-9cf0-4ecd-817e-b227a5d5b47c",
   "metadata": {},
   "outputs": [
    {
     "name": "stdout",
     "output_type": "stream",
     "text": [
      "[]\n",
      "[1, 2, 3, 4, 5, 6, 7, 8, 9, 10, 11, 12, 13, 14, 15, 16, 17, 18, 19]\n"
     ]
    }
   ],
   "source": [
    "# list() 함수 활용하여 생성 (형변환)\n",
    "empty = list() # empty = []\n",
    "print(empty)\n",
    "seq = list(range(1, 20))\n",
    "print(seq)"
   ]
  },
  {
   "cell_type": "code",
   "execution_count": 8,
   "id": "0ae779cb-7724-4b2a-bb85-09086afdf3d0",
   "metadata": {},
   "outputs": [
    {
     "name": "stdout",
     "output_type": "stream",
     "text": [
      "[1, 2, 3, 4, 5, 6, 7, 8, 9]\n",
      "[7, 14, 21, 28, 35, 42, 49, 56, 63, 70, 77, 84, 91, 98]\n"
     ]
    }
   ],
   "source": [
    "# for문과 if문을 활용한 리스트생성 (컴프리헨션)\n",
    "seq_num = [x for x in range(1,10)]\n",
    "print(seq_num)\n",
    "\n",
    "seven_mul = [x for x in range(1,101) if x%7==0]\n",
    "print(seven_mul)"
   ]
  },
  {
   "cell_type": "markdown",
   "id": "f9a3ddc1-0d54-4b4f-9366-651099ae9167",
   "metadata": {},
   "source": [
    "\n",
    "#### 리스트의 메서드\n",
    "> append(x): x를 맨뒤에 추가  \n",
    "> extend(x) : x를 이어 붙이기(구조내 요소를 추가)  \n",
    "> sort() : 내부 요소를 정렬  \n",
    "> reverse() : 내부 요소를 반대로 구성   \n",
    "> pop() : 마지막 순서 항목을 반환후 리스트에서 제거   \n",
    "> clear() : 모든 항목을 제거   \n",
    "> count(x) : x 가 리스트에 나타나는 횟수를 반환\n",
    "> insert(i,x) : i순서에 x를 삽입    \r\n"
   ]
  },
  {
   "cell_type": "code",
   "execution_count": 9,
   "id": "95656ca6-3dfe-472b-a1f5-93ffb7dc1ce6",
   "metadata": {},
   "outputs": [
    {
     "data": {
      "text/plain": [
       "[5000, 6000, 7000, 6000, 9000, 10000]"
      ]
     },
     "execution_count": 9,
     "metadata": {},
     "output_type": "execute_result"
    }
   ],
   "source": [
    "# append : 리스트 맨뒤에 항목 추가하기\n",
    "\n",
    "point = [5000, 6000, 7000, 6000, 9000]\n",
    "point.append(10000)\n",
    "point"
   ]
  },
  {
   "cell_type": "code",
   "execution_count": 2,
   "id": "d6a593c3-09ae-4237-81cf-332dd061bb23",
   "metadata": {},
   "outputs": [
    {
     "name": "stdout",
     "output_type": "stream",
     "text": [
      "[5000, 6000, 7000, 6000, 9000, [6000, 5000]]\n",
      "[5000, 6000, 7000, 6000, 9000, 6000, 5000]\n",
      "[5000, 6000, 7000, 6000, 9000, 6000, 5000]\n"
     ]
    }
   ],
   "source": [
    "# extend : 또다른 리스트를 이어 붙이기(구조내 요소를 추가)\n",
    "# + 연산을 활용하여 이어 붙이기 가능\n",
    "\n",
    "point = [5000, 6000, 7000, 6000, 9000]\n",
    "point.append([6000, 5000])\n",
    "print(point)\n",
    "\n",
    "point = [5000, 6000, 7000, 6000, 9000]\n",
    "point.extend([6000, 5000])\n",
    "print(point)\n",
    "\n",
    "concat = [5000, 6000, 7000, 6000, 9000] + [6000, 5000]\n",
    "print(concat)"
   ]
  },
  {
   "cell_type": "code",
   "execution_count": 12,
   "id": "72607bd0-cf42-4476-8810-f2244eb0d711",
   "metadata": {
    "collapsed": true,
    "jupyter": {
     "outputs_hidden": true
    }
   },
   "outputs": [
    {
     "name": "stdout",
     "output_type": "stream",
     "text": [
      "[5000, 6000, 6000, 7000, 9000]\n",
      "[6000, 7000, 6000, 5000, 9000]\n"
     ]
    }
   ],
   "source": [
    "# sort : 내부 요소를 정렬\n",
    "# reverse : 내부 요소를 반대로 구성\n",
    "\n",
    "point = [9000, 5000, 6000, 7000, 6000]\n",
    "point.sort()\n",
    "print(point)\n",
    "\n",
    "point = [9000, 5000, 6000, 7000, 6000]\n",
    "point.reverse()\n",
    "print(point)"
   ]
  },
  {
   "cell_type": "markdown",
   "id": "070eed98-c032-4072-9e40-c23938f14361",
   "metadata": {},
   "source": [
    "### 3.2. 인덱싱과 슬라이싱 \n",
    "\n",
    "#### 인덱싱\n",
    "`데이터구조[인덱스]` 형식을 활용하여 원하는 데이터에 접근하는 방식    \n",
    "인덱스는 데이터구조에 따라 다양한 형태로 존재\n",
    "\n",
    "<img src=\"./img/20240601_215023.png\"  width = 500 align=\"\"></img>    \n"
   ]
  },
  {
   "cell_type": "code",
   "execution_count": 76,
   "id": "56f18c90-ccea-4c00-9f89-11f36ae99daa",
   "metadata": {},
   "outputs": [
    {
     "name": "stdout",
     "output_type": "stream",
     "text": [
      "5000\n",
      "7000\n",
      "9000\n"
     ]
    }
   ],
   "source": [
    "# [index]를 활용한 데이터 선택\n",
    "#     index는 0부터 시작 : 첫번째 값이 0\n",
    "point = [5000, 6000, 7000, 6000, 9000]\n",
    "\n",
    "print(point[0])\n",
    "print(point[2])\n",
    "# 음수를 활용하여 역순으로 인덱싱 가능\n",
    "print(point[-1])"
   ]
  },
  {
   "cell_type": "markdown",
   "id": "3653233b-3068-4553-8509-12d866863a83",
   "metadata": {},
   "source": [
    "#### 슬라이싱\n",
    "`데이터구조[시작인덱스:끝인덱스]` 형식으로 범위를 지정하여 데이터구조의 부분을 가져옴"
   ]
  },
  {
   "cell_type": "code",
   "execution_count": 68,
   "id": "4e56f441-7005-456a-bf36-29aa92bee7bd",
   "metadata": {
    "scrolled": true
   },
   "outputs": [
    {
     "name": "stdout",
     "output_type": "stream",
     "text": [
      "[7000, 6000]\n",
      "[5000, 6000, 7000]\n"
     ]
    }
   ],
   "source": [
    "# [start:end]을 활용해 범위 지정 가능(슬라이싱), 끝 인덱스 미포함\n",
    "point = [5000, 6000, 7000, 6000, 9000]\n",
    "print(point[2:4])\n",
    "# 앞에 0은 생략\n",
    "print(point[:3])"
   ]
  },
  {
   "cell_type": "code",
   "execution_count": 69,
   "id": "78d36ff0-311e-42a2-bbbe-5cfa25a3753b",
   "metadata": {
    "scrolled": true
   },
   "outputs": [
    {
     "name": "stdout",
     "output_type": "stream",
     "text": [
      "[6000, 9000]\n"
     ]
    }
   ],
   "source": [
    "# 음수 인덱스로 뒤에순서를 지정 가능\n",
    "point = [5000, 6000, 7000, 6000, 9000]\n",
    "# 마지막 인덱스는 생략\n",
    "print(point[-2:])"
   ]
  },
  {
   "cell_type": "markdown",
   "id": "892e6409-7a43-4cde-bc6d-0b353157ed1e",
   "metadata": {},
   "source": [
    "#### 인덱싱으로 데이터 수정"
   ]
  },
  {
   "cell_type": "code",
   "execution_count": 70,
   "id": "72addf04-f4f4-418c-a4a7-efa2afc455e3",
   "metadata": {},
   "outputs": [
    {
     "data": {
      "text/plain": [
       "[5000, 6000, 7000, 60000, 9000]"
      ]
     },
     "execution_count": 70,
     "metadata": {},
     "output_type": "execute_result"
    }
   ],
   "source": [
    "# 인덱스를 활용한 업데이트\n",
    "point[3] = 60000\n",
    "point"
   ]
  },
  {
   "cell_type": "code",
   "execution_count": 71,
   "id": "72fd22fb-c8d8-4197-b7d1-ff8c0a65fc45",
   "metadata": {},
   "outputs": [
    {
     "ename": "IndexError",
     "evalue": "list assignment index out of range",
     "output_type": "error",
     "traceback": [
      "\u001b[1;31m---------------------------------------------------------------------------\u001b[0m",
      "\u001b[1;31mIndexError\u001b[0m                                Traceback (most recent call last)",
      "Cell \u001b[1;32mIn[71], line 2\u001b[0m\n\u001b[0;32m      1\u001b[0m \u001b[38;5;66;03m# 인덱스가 없으면 에러\u001b[39;00m\n\u001b[1;32m----> 2\u001b[0m \u001b[43mpoint\u001b[49m\u001b[43m[\u001b[49m\u001b[38;5;241;43m6\u001b[39;49m\u001b[43m]\u001b[49m \u001b[38;5;241m=\u001b[39m \u001b[38;5;241m60000\u001b[39m\n",
      "\u001b[1;31mIndexError\u001b[0m: list assignment index out of range"
     ]
    }
   ],
   "source": [
    "# 인덱스가 없으면 에러\n",
    "point[6] = 60000"
   ]
  },
  {
   "cell_type": "code",
   "execution_count": 72,
   "id": "137524d2-fbcc-4271-a0b3-19a2f160b2c3",
   "metadata": {
    "collapsed": true,
    "jupyter": {
     "outputs_hidden": true
    }
   },
   "outputs": [
    {
     "data": {
      "text/plain": [
       "[5000, 6000, 7000, 9000]"
      ]
     },
     "execution_count": 72,
     "metadata": {},
     "output_type": "execute_result"
    }
   ],
   "source": [
    "# 인덱스에 접근하여 삭제\n",
    "del point[3]\n",
    "point"
   ]
  },
  {
   "cell_type": "markdown",
   "id": "7b529395-dd56-4769-8fe6-9af51bc2ff88",
   "metadata": {},
   "source": [
    "### 3.3. 불변 시퀀스 튜플(tuple)과 문자열(str)\n",
    "튜블과 문자열은 내부적으로 구조를 바꿀수 없는 불변 시퀀스형\n",
    "\n",
    "#### 튜플 특징\n",
    "- 여러 데이터를 묶음으로 보관하는 불변 시퀀스 데이터 구조\n",
    "- 리스트처럼 순서대로 여러 데이터를 보유\n",
    "- 리스트와 반대로 데이터 추가 및 수정 불가능\n",
    "- 리스트에 비해 가볍고 빠른 접근 속도를 가짐\n",
    "\n",
    "#### 튜플 생성 및 표현\n",
    "> 튜플은 ()를 활용해서 만들 수 있고, 소괄호는 생략 가능\n"
   ]
  },
  {
   "cell_type": "code",
   "execution_count": 37,
   "id": "272475c2-a4bb-48be-b031-ae82b5f597f9",
   "metadata": {},
   "outputs": [
    {
     "name": "stdout",
     "output_type": "stream",
     "text": [
      "<class 'tuple'>\n",
      "<class 'tuple'>\n"
     ]
    }
   ],
   "source": [
    "aa = (1, 2, 3)\n",
    "bb = '아침', '점심', '저녁'\n",
    "\n",
    "print(type(aa))\n",
    "print(type(bb))"
   ]
  },
  {
   "cell_type": "code",
   "execution_count": 39,
   "id": "d2c4be83-48f5-419e-913b-c237c0f8ee44",
   "metadata": {},
   "outputs": [
    {
     "name": "stdout",
     "output_type": "stream",
     "text": [
      "1\n",
      "('점심', '저녁')\n"
     ]
    }
   ],
   "source": [
    "# 인덱싱 및 슬라이싱 가능\n",
    "print(aa[0])\n",
    "print(bb[1:])"
   ]
  },
  {
   "cell_type": "code",
   "execution_count": 40,
   "id": "e6b6d5ea-6b0f-45d9-9746-3440ce75152b",
   "metadata": {},
   "outputs": [
    {
     "ename": "TypeError",
     "evalue": "'tuple' object does not support item assignment",
     "output_type": "error",
     "traceback": [
      "\u001b[1;31m---------------------------------------------------------------------------\u001b[0m",
      "\u001b[1;31mTypeError\u001b[0m                                 Traceback (most recent call last)",
      "Cell \u001b[1;32mIn[40], line 2\u001b[0m\n\u001b[0;32m      1\u001b[0m \u001b[38;5;66;03m# 추가/업데이트 불가능, 내부 변환 메소드도 없음\u001b[39;00m\n\u001b[1;32m----> 2\u001b[0m \u001b[43maa\u001b[49m\u001b[43m[\u001b[49m\u001b[38;5;241;43m0\u001b[39;49m\u001b[43m]\u001b[49m \u001b[38;5;241m=\u001b[39m \u001b[38;5;241m4\u001b[39m\n",
      "\u001b[1;31mTypeError\u001b[0m: 'tuple' object does not support item assignment"
     ]
    }
   ],
   "source": [
    "# 추가/업데이트 불가능, 내부 변환 메소드도 없음\n",
    "aa[0] = 4"
   ]
  },
  {
   "cell_type": "code",
   "execution_count": 45,
   "id": "3f296cab-30a3-4c22-8824-4b1f2344b34a",
   "metadata": {},
   "outputs": [
    {
     "name": "stdout",
     "output_type": "stream",
     "text": [
      "아침\n",
      "점심\n"
     ]
    }
   ],
   "source": [
    "# 튜플 요소의 순서를 맞추어 변수 할당 가능\n",
    "\n",
    "a, b = ('아침', '점심')\n",
    "print(a)\n",
    "print(b)"
   ]
  },
  {
   "cell_type": "markdown",
   "id": "27a1cb31-1e4d-49a3-99ab-93daeb5764e3",
   "metadata": {},
   "source": [
    "#### 문자열 특징\n",
    "- 유니코드 코드 포인트의 불변 시퀀스 데이터구조\n",
    "- 문자열의 변환을 반환하는 다양한 메소드 포함 \n",
    "- 리스트와 동일하게 순서로 인덱싱\n",
    "- 인덱싱을 활용한 데이터 수정 불가\n",
    "\n",
    "#### 문자열 데이터구조 활용\n",
    "자료형에서 본 문자열은 실제 불변시퀀스의 데이터구조형태를 가짐, 불변시퀀스형이지만 다양한 메소드가 있음(복사 반환)\n",
    "> replace(x,y) : x문자열을 y문자열로 대체  \n",
    "> strip() : 앞뒤 공백 제거  \n",
    "> split(x) : x문자열을 기준으로 분리하여 리스트생성    \n",
    "> encode() : 문자열의 인코딩 버전 변환 기본은 utf-8   \n",
    "> find(substr) : 문자열내에 포함되는 서브 문자열 첫 인덱스 반환환\r\n"
   ]
  },
  {
   "cell_type": "code",
   "execution_count": 77,
   "id": "fe314369-4a62-46a2-a627-0dacf3e57056",
   "metadata": {},
   "outputs": [
    {
     "name": "stdout",
     "output_type": "stream",
     "text": [
      "썬\n",
      "기초 데\n"
     ]
    }
   ],
   "source": [
    "# 인덱싱과 슬라이싱 가능\n",
    "# 수정은 불가능\n",
    "s = '파이썬 기초 데이터구조'\n",
    "print(s[2])\n",
    "print(s[4:8])"
   ]
  },
  {
   "cell_type": "code",
   "execution_count": 78,
   "id": "8a82be31-e9b6-45bc-be88-6a61d894a3d8",
   "metadata": {},
   "outputs": [
    {
     "data": {
      "text/plain": [
       "'파이썬 심화 데이터구조'"
      ]
     },
     "execution_count": 78,
     "metadata": {},
     "output_type": "execute_result"
    }
   ],
   "source": [
    "# replace() : 원하는 부분문자열을 다른 문자열로 대체\n",
    "s = '파이썬 기초 데이터구조'\n",
    "s1 = s.replace('기초', '심화')\n",
    "s1"
   ]
  },
  {
   "cell_type": "code",
   "execution_count": 79,
   "id": "72db70d6-c23b-4ff4-a9f6-55d0f78172f1",
   "metadata": {},
   "outputs": [
    {
     "data": {
      "text/plain": [
       "'파이썬 기초 데이터구조'"
      ]
     },
     "execution_count": 79,
     "metadata": {},
     "output_type": "execute_result"
    }
   ],
   "source": [
    "# strip() : 앞뒤 공백 제거\n",
    "s = '   파이썬 기초 데이터구조\\n'\n",
    "s = s.strip()\n",
    "s"
   ]
  },
  {
   "cell_type": "code",
   "execution_count": 80,
   "id": "c86421c0-2cfd-4763-a002-ca8911d7341e",
   "metadata": {},
   "outputs": [
    {
     "data": {
      "text/plain": [
       "['파이썬', '기초', '데이터구조']"
      ]
     },
     "execution_count": 80,
     "metadata": {},
     "output_type": "execute_result"
    }
   ],
   "source": [
    "# split() : 원하는 문자열을 기준으로 분리하여 리스트생성\n",
    "s = '파이썬 기초 데이터구조'\n",
    "s1 = s.split(' ') # 공백(띄어쓰기) 기준으로 분리\n",
    "s1\n"
   ]
  },
  {
   "cell_type": "markdown",
   "id": "63e9e4b4-b3a8-4317-97fa-4c4ce29419d2",
   "metadata": {},
   "source": [
    "### 3.4. 해쉬셋과 딕셔너리\n",
    "순서가 아닌 해쉬를 기반으로 데이터를 구조적으로 저장\n",
    "\n",
    "#### 해쉬셋(집합) 특징\n",
    "- 해시 가능 객체의 순서가 없고 중복이 없는 컬렉션\n",
    "- 해시 테이블을 사용한 데이터구조\n",
    "- 동일 항목은 같은 위치에 참조되기 때문에 중복 항목이 없음\n",
    "- 배열, 리스트와 다르게 저장 순서를 기억하지 않음\n",
    "- 데이터 저장속도가 빠름\n",
    "\n",
    "<img src=\"./img/20240601_220240.png\"  width = 400 align=\"\"></img>    \n",
    "\n",
    "\n",
    "#### 해쉬셋 생성 과 표현\n",
    "> 해쉬셋은 {}로 표현되며 해쉬특성으로 인해 내부 요소는 고유값을 가지고 순서가 없음"
   ]
  },
  {
   "cell_type": "code",
   "execution_count": 81,
   "id": "e081f6c8-b1cc-4900-ae20-a1d2bb915e8e",
   "metadata": {},
   "outputs": [
    {
     "data": {
      "text/plain": [
       "{'덮밥', '돈까스', '우동', '치킨'}"
      ]
     },
     "execution_count": 81,
     "metadata": {},
     "output_type": "execute_result"
    }
   ],
   "source": [
    "# 순서가 없는 해쉬셋\n",
    "s = {'돈까스','치킨','덮밥'}\n",
    "s.add('우동')\n",
    "s"
   ]
  },
  {
   "cell_type": "code",
   "execution_count": 82,
   "id": "b718be8b-ceea-474d-a4de-290d9f1f851b",
   "metadata": {},
   "outputs": [
    {
     "data": {
      "text/plain": [
       "{'덮밥', '돈까스', '치킨'}"
      ]
     },
     "execution_count": 82,
     "metadata": {},
     "output_type": "execute_result"
    }
   ],
   "source": [
    "set(('돈까스','치킨','덮밥','덮밥'))"
   ]
  },
  {
   "cell_type": "code",
   "execution_count": 83,
   "id": "1044dfb8-e9c9-4b25-80eb-98715549ec24",
   "metadata": {},
   "outputs": [
    {
     "data": {
      "text/plain": [
       "{'덮밥', '돈까스', '치킨'}"
      ]
     },
     "execution_count": 83,
     "metadata": {},
     "output_type": "execute_result"
    }
   ],
   "source": [
    "# 중복이 되지 않는 해쉬셋\n",
    "s = {'돈까스','치킨','덮밥','치킨'}\n",
    "s.add('덮밥')\n",
    "s"
   ]
  },
  {
   "cell_type": "markdown",
   "id": "8c02290b-5f82-4f48-af48-8729cb06b6b7",
   "metadata": {},
   "source": [
    "#### 딕셔너리 특징\n",
    "\n",
    "- 해시 가능 객체를 특정 객체와 매핑하여 *키(key)* 와 *값(value)* 매핑구조를 가짐\n",
    "- 해시 가능 하지 않은 객체들(리스트, 딕셔너리)등은 *key*로 사용불가\n",
    "- *값(value)* 은 어떤 타입의 데이터도 사용가능\n",
    "- *key*는 해쉬특성을 가져 찾는 속도와 저장속도가 빠름\n",
    "- 웹통신 데이터뭉치인 json형과 비슷한 구조로 많이 활용\n",
    "\n",
    "<img src=\"./img/20240601_220253.png\"  width = 600 align=\"\"></img>   \n",
    "\n",
    "#### 딕셔너리 생성\n",
    "> {} 안에 쉼표로 구분된 key:value 쌍을 나열하기 {key1:value1 , key2:value2}   \n",
    "> 딕셔너리 컴프리헨션 사용하기 {x: x ** 2 for x in range(10)}   \n",
    "> 함수 사용하기: dict()   성 \n"
   ]
  },
  {
   "cell_type": "code",
   "execution_count": 84,
   "id": "e8b300f1-8768-4e05-a1a8-466e304abcea",
   "metadata": {},
   "outputs": [
    {
     "data": {
      "text/plain": [
       "{'제품명': '팜봇', '가격': 500000, '카테고리': 'Aiot'}"
      ]
     },
     "execution_count": 84,
     "metadata": {},
     "output_type": "execute_result"
    }
   ],
   "source": [
    "# 키:값 매핑으로 딕셔너리 생성\n",
    "product1 = {'제품명':'팜봇', '가격':500000, '카테고리':'Aiot'}\n",
    "product1"
   ]
  },
  {
   "cell_type": "code",
   "execution_count": 85,
   "id": "797eb19d-6607-4c2d-a837-966af386dbf2",
   "metadata": {},
   "outputs": [
    {
     "data": {
      "text/plain": [
       "'팜봇'"
      ]
     },
     "execution_count": 85,
     "metadata": {},
     "output_type": "execute_result"
    }
   ],
   "source": [
    "# 키를 입력하여 인덱싱\n",
    "product1['제품명']"
   ]
  },
  {
   "cell_type": "code",
   "execution_count": 86,
   "id": "7dea3856-322a-4566-a37d-1ce4088def7a",
   "metadata": {},
   "outputs": [
    {
     "ename": "KeyError",
     "evalue": "'할인율'",
     "output_type": "error",
     "traceback": [
      "\u001b[1;31m---------------------------------------------------------------------------\u001b[0m",
      "\u001b[1;31mKeyError\u001b[0m                                  Traceback (most recent call last)",
      "Cell \u001b[1;32mIn[86], line 2\u001b[0m\n\u001b[0;32m      1\u001b[0m \u001b[38;5;66;03m# 없는키는 에러\u001b[39;00m\n\u001b[1;32m----> 2\u001b[0m \u001b[43mproduct1\u001b[49m\u001b[43m[\u001b[49m\u001b[38;5;124;43m'\u001b[39;49m\u001b[38;5;124;43m할인율\u001b[39;49m\u001b[38;5;124;43m'\u001b[39;49m\u001b[43m]\u001b[49m\n",
      "\u001b[1;31mKeyError\u001b[0m: '할인율'"
     ]
    }
   ],
   "source": [
    "# 없는키는 에러\n",
    "product1['할인율']"
   ]
  },
  {
   "cell_type": "code",
   "execution_count": 87,
   "id": "2bcfd031-eae9-47e7-bc40-7d6c92f8cec4",
   "metadata": {},
   "outputs": [
    {
     "data": {
      "text/plain": [
       "0"
      ]
     },
     "execution_count": 87,
     "metadata": {},
     "output_type": "execute_result"
    }
   ],
   "source": [
    "# 메서드 get()을 활용하면 에러 방지\n",
    "product1.get('할인율',0)"
   ]
  },
  {
   "cell_type": "code",
   "execution_count": 88,
   "id": "cba9b785-9cb9-47af-95c8-b234eab7b31d",
   "metadata": {},
   "outputs": [
    {
     "data": {
      "text/plain": [
       "{'제품명': '팜봇', '가격': 500000, '카테고리': 'Aiot', '재고': 10}"
      ]
     },
     "execution_count": 88,
     "metadata": {},
     "output_type": "execute_result"
    }
   ],
   "source": [
    "# 시퀀스 연산자에 새로운 키를 넣고 할당하여 키:값 추가\n",
    "product1['재고'] = 10\n",
    "product1"
   ]
  },
  {
   "cell_type": "code",
   "execution_count": 89,
   "id": "e54280ba-9c8b-4fdb-9f16-212a723b6f56",
   "metadata": {},
   "outputs": [
    {
     "data": {
      "text/plain": [
       "{'제품명': '팜봇', '가격': 500000, '카테고리': 'Aiot', '재고': 5}"
      ]
     },
     "execution_count": 89,
     "metadata": {},
     "output_type": "execute_result"
    }
   ],
   "source": [
    "# 시퀀스 연산자에 기존 키를 넣고 할당하여 값 변경\n",
    "product1['재고'] = 5\n",
    "product1\n"
   ]
  },
  {
   "cell_type": "code",
   "execution_count": 90,
   "id": "1e361c49-e4ee-4e9a-a3d1-b367a83aca8d",
   "metadata": {},
   "outputs": [
    {
     "data": {
      "text/plain": [
       "{'제품명': '팜봇', '가격': 500000, '재고': 5}"
      ]
     },
     "execution_count": 90,
     "metadata": {},
     "output_type": "execute_result"
    }
   ],
   "source": [
    "# del 연산을 활용한 키:값 제거\n",
    "del product1['카테고리']\n",
    "product1"
   ]
  },
  {
   "cell_type": "code",
   "execution_count": 91,
   "id": "af59b739-a1e8-4015-95e9-7d66c1d53130",
   "metadata": {},
   "outputs": [
    {
     "data": {
      "text/plain": [
       "dict_keys(['제품명', '가격', '재고'])"
      ]
     },
     "execution_count": 91,
     "metadata": {},
     "output_type": "execute_result"
    }
   ],
   "source": [
    "# 키 목록 반환\n",
    "product1.keys()"
   ]
  },
  {
   "cell_type": "code",
   "execution_count": 92,
   "id": "2bedd8f2-9e34-4fb7-b3f0-bc75f74e4349",
   "metadata": {},
   "outputs": [
    {
     "data": {
      "text/plain": [
       "['제품명', '가격', '재고']"
      ]
     },
     "execution_count": 92,
     "metadata": {},
     "output_type": "execute_result"
    }
   ],
   "source": [
    "# 리스트로 키 목록 반환\n",
    "list(product1)"
   ]
  },
  {
   "cell_type": "code",
   "execution_count": 93,
   "id": "8734b666-8802-4574-9b4a-7b3f1dcae09b",
   "metadata": {},
   "outputs": [
    {
     "data": {
      "text/plain": [
       "dict_values(['팜봇', 500000, 5])"
      ]
     },
     "execution_count": 93,
     "metadata": {},
     "output_type": "execute_result"
    }
   ],
   "source": [
    "# 값 목록 반환\n",
    "product1.values()"
   ]
  },
  {
   "cell_type": "code",
   "execution_count": 94,
   "id": "5d652c83-e2ca-478c-8d28-9e87950035cb",
   "metadata": {},
   "outputs": [
    {
     "name": "stdout",
     "output_type": "stream",
     "text": [
      "제품명\n",
      "가격\n",
      "재고\n"
     ]
    }
   ],
   "source": [
    "# 반복문에는 키가 이터러블\n",
    "for p in product1:\n",
    "    print(p)"
   ]
  },
  {
   "cell_type": "code",
   "execution_count": 95,
   "id": "24bc89f0-5b11-43a3-9b24-1b4691b7363d",
   "metadata": {},
   "outputs": [
    {
     "data": {
      "text/plain": [
       "{'제품명': '팜봇', '가격': 500000, '재고': 5, '카테고리': ['AI', 'Aiot', 'Iot', 'farm']}"
      ]
     },
     "execution_count": 95,
     "metadata": {},
     "output_type": "execute_result"
    }
   ],
   "source": [
    "# 계층 구조로 구성\n",
    "product1['카테고리'] = ['AI','Aiot','Iot','farm']\n",
    "product1"
   ]
  },
  {
   "cell_type": "code",
   "execution_count": 96,
   "id": "3933b090-deb3-4909-a850-451342061710",
   "metadata": {},
   "outputs": [
    {
     "name": "stdout",
     "output_type": "stream",
     "text": [
      "구로디지털단지\n",
      "2\n",
      "pandas\n"
     ]
    }
   ],
   "source": [
    "# 계층적 구조를 가지는 딕셔너리\n",
    "d = {\n",
    "    'id': 1,\n",
    "    'name': '원칠',\n",
    "    'company': {\n",
    "        'name': 'taveler4d',\n",
    "        'site': 'aaa.www.ggg',\n",
    "        'phone': '02-2222-2222',\n",
    "        'city': '구로디지털단지'},\n",
    "    'project': [\n",
    "        {'name': 'pandas', 'pid': '0014'},\n",
    "        {'name': 'aiot', 'pid': '0023'}\n",
    "    ],\n",
    "    'phone': '010-1111-2222'\n",
    "}\n",
    "\n",
    "print(d['company']['city'])\n",
    "print(len(d['project']))\n",
    "print(d['project'][0]['name'])"
   ]
  },
  {
   "cell_type": "markdown",
   "id": "37b36ce4-93d1-4d85-87d7-1489cdac7228",
   "metadata": {},
   "source": [
    "### 3. 실습"
   ]
  },
  {
   "cell_type": "markdown",
   "id": "bfc177e1-6bc7-43a6-bc47-12286c97d2bc",
   "metadata": {},
   "source": [
    "\n",
    "#### [실습1] 관심있는 메뉴 3개를 묶은 menu 리스트를 생성하고 append( )로 메뉴 하나 더 추가하세요\n"
   ]
  },
  {
   "cell_type": "code",
   "execution_count": null,
   "id": "a88f686f-c48c-4027-bcdf-bf7f94cb3694",
   "metadata": {},
   "outputs": [],
   "source": []
  },
  {
   "cell_type": "markdown",
   "id": "4ac4bbbf-2754-4da3-937c-7d0251418327",
   "metadata": {},
   "source": [
    "#### [실습2] menu에서 세번째 메뉴를 '우동'으로 변경하고 세번째~마지막 메뉴를 선택하여 출력하세요"
   ]
  },
  {
   "cell_type": "code",
   "execution_count": null,
   "id": "d91a115e-e696-42d8-8cc1-bcc3b793fe57",
   "metadata": {},
   "outputs": [],
   "source": []
  },
  {
   "cell_type": "markdown",
   "id": "df7ed1a0-4f51-4074-8a24-afd4496812a2",
   "metadata": {},
   "source": [
    "#### [실습3] '메뉴이름' 키에는 메뉴이름이, '가격' 키에는 해당 메뉴의 가격이 입력된 딕셔너리 하나를 생성하세요\n"
   ]
  },
  {
   "cell_type": "code",
   "execution_count": null,
   "id": "6ede7002-d3ba-4b2d-86d9-930aeb896978",
   "metadata": {},
   "outputs": [],
   "source": []
  },
  {
   "cell_type": "markdown",
   "id": "9a1aac92-2c26-46a1-952a-81b3187b610f",
   "metadata": {},
   "source": [
    "#### [실습4] 다음 리스트 내부에 값을 1씩 더한 값으로 수정하여 리스트를 출력하세요"
   ]
  },
  {
   "cell_type": "code",
   "execution_count": 97,
   "id": "5f4a8294-cb5a-4821-80b7-3381195072fa",
   "metadata": {},
   "outputs": [],
   "source": [
    "nums = [1,2,3,4,5]"
   ]
  },
  {
   "cell_type": "markdown",
   "id": "00eb3f2d-c625-4310-af52-e90deabeb88a",
   "metadata": {},
   "source": [
    "#### [실습5] 다음 두개의 리스트를 활용하여 실습3 에서 구성한 형태의 딕셔너리를 3개 만들고 이를 보관하는 리스트를 만들어 출력하세요"
   ]
  },
  {
   "cell_type": "code",
   "execution_count": 98,
   "id": "bb1c61a1-f09c-41f3-aa1c-974ddeb6e0f9",
   "metadata": {},
   "outputs": [],
   "source": [
    "menu = ['치킨','피자','국밥']\n",
    "price = [20000, 23000, 10000]\n"
   ]
  },
  {
   "cell_type": "markdown",
   "id": "f8f15323-901a-4b37-aac3-0e618ac9a450",
   "metadata": {},
   "source": [
    "#### [실습6] 실습5에서 만든 리스트에서 1번 메뉴의 가격을 인덱싱하여 출력하세요"
   ]
  },
  {
   "cell_type": "code",
   "execution_count": null,
   "id": "95e39e31-e2ca-4a1c-a8ce-ee88778d970c",
   "metadata": {},
   "outputs": [],
   "source": []
  },
  {
   "cell_type": "markdown",
   "id": "1e56312e-dd12-4f73-9e11-2e508c1a0694",
   "metadata": {},
   "source": [
    "#### [실습7] 다음 세 리스트를 이어붙이고 이름 순으로 정렬하여 출력하세요\n"
   ]
  },
  {
   "cell_type": "code",
   "execution_count": 99,
   "id": "daea1ce0-b5a7-4dfd-b110-a5631c2fd12f",
   "metadata": {},
   "outputs": [],
   "source": [
    "list1 = ['a','f','c']\n",
    "list2 = ['b','e']\n",
    "list3 = ['a','f']\n"
   ]
  },
  {
   "cell_type": "code",
   "execution_count": null,
   "id": "d1273450-c69c-4f1d-b133-bf4799818da1",
   "metadata": {},
   "outputs": [],
   "source": []
  },
  {
   "cell_type": "markdown",
   "id": "38c198c9-04c9-47ef-81f9-c4c2b60bae72",
   "metadata": {},
   "source": [
    "#### [실습8] 실습7에서 만든 리스트에서 중복을 제거하여 출력하세요"
   ]
  },
  {
   "cell_type": "code",
   "execution_count": null,
   "id": "161234c6-e10d-4b36-ae73-cedbd65d72e6",
   "metadata": {},
   "outputs": [],
   "source": []
  },
  {
   "cell_type": "markdown",
   "id": "e6041304-7a7c-44fb-8c99-1aec8cb5ae16",
   "metadata": {},
   "source": [
    "#### [실습9] 다음 s1 문자열에서 stop_words에 해당하는 단어를 뺀 단어 리스트를 만들어 출력하세요\n",
    "\n",
    "    출력 결과\n",
    "    ['삼성', '빅데이터', '데이터분석', '파이썬', '시각화', '판다스']"
   ]
  },
  {
   "cell_type": "code",
   "execution_count": 67,
   "id": "ac38c938-f183-485a-81ce-67310e68eab7",
   "metadata": {},
   "outputs": [],
   "source": [
    "s1 = '  새싹 빅데이터 데이터분석 데이터구조 파이썬 시각화 판다스     '\n",
    "stop_words = '데이터구조'"
   ]
  },
  {
   "cell_type": "code",
   "execution_count": null,
   "id": "215bdade-3550-4b35-9cc3-521b8123f676",
   "metadata": {},
   "outputs": [],
   "source": []
  },
  {
   "cell_type": "markdown",
   "id": "0ce7d327-36a3-49d4-957f-a331354f6c30",
   "metadata": {},
   "source": [
    "#### [실습10] 3개의 딕셔너리를 for문과 인덱싱을 활용하여 다음과 같은 리스트-딕셔너리 구조로 만들어 출력하세요\n",
    "\n",
    "    출력결과\n",
    "    [{'주문자': 'G밸리', '상품명': '노트북', '가격': 200}, {'주문자': 'G밸리', '상품명': '샴푸', '가격': 2}, {'주문자': '데이터분석', '상품명': '초코렛', '가격': 1}, {'주문자': '파이썬', '상품명': '자전거', '가격': 15}, {'주문자': '파이썬', '상품명': '셔츠', '가격': 1}, {'주문자': '파이썬', '상품명': '초코렛', '가격': 1}]\n"
   ]
  },
  {
   "cell_type": "code",
   "execution_count": 75,
   "id": "fad4eac8-2cd5-4069-a67d-5f1526aaae4b",
   "metadata": {},
   "outputs": [],
   "source": [
    "users = {'123':'G밸리',\n",
    "         '124':'파이썬',\n",
    "         '125':'데이터분석',}\n",
    "\n",
    "products = {'a':['노트북', 200],\n",
    "            'b':['자전거', 15],\n",
    "            'c':['샴푸', 2],\n",
    "            'd':['셔츠', 1],\n",
    "            'e':['초코렛', 1]}\n",
    "\n",
    "orders = [{'user_id':'123', 'products':['a','c']},\n",
    "         {'user_id':'125', 'products':['e']},\n",
    "         {'user_id':'124', 'products':['b','d','e']}]\n"
   ]
  },
  {
   "cell_type": "markdown",
   "id": "15a4e2ec-239c-4782-85e9-163703963166",
   "metadata": {},
   "source": [
    "\n",
    "## 4. numpy 배열\n",
    "파이썬 내장 데이터구조가 아닌 외부 라이브러리로 제공되는 대표적인 데이터구조\n"
   ]
  },
  {
   "cell_type": "markdown",
   "id": "5820abd1-1035-4c2c-87f3-9c7e7e5bde59",
   "metadata": {},
   "source": [
    "\n",
    "### 4.1 numpy를 활용한 배열\n",
    "**numpy**는 **ndarray**라는 형식을 활용해서 다차원의 배열형식을 만들고 다양한 연산과 처리를 지원\n",
    "- 배열은 리스트와 비슷하지만 구조적인 차이로 크기가 고정됨\n",
    "- 배열은 여러개의 **축(axis)** 이 있는 다차원의 **형상(shape)** 을 가짐 \n",
    "\n",
    "#### 배열 특징\n",
    "- 리스트와 외부적으로는 유사하지만 내부적으로 많은 차이 존재\n",
    "- 메모리 영역을 미리 계산하여 공간을 할당\n",
    "- 항목의 타입을 미리 지정해야 생성가능\n",
    "- 항목의 형상(개수) 가 정해져야 생성 가능\n",
    "- 한번 정해진 형상(개수)는 변경불가\n",
    "- 데이터 접근속도와 연산 효율이 좋음\n",
    "- 공간의 활용성이 떨어짐\n",
    "\n",
    "<img src=\"./img/20240601_225311.png\"  width = 600 align=\"\"></img>    \n",
    "\n",
    "\n",
    "#### 배열생성\n",
    "> 구현된 이터러블을 활용해 asarray()로 생성: np.asarray(iterable)    \n",
    "> 지정 모형의 0으로 초기화 시키기: np.zeros((3,2))    \n",
    "> 지정 모형의 1으로 초기화 시키기: np.ones((3,2))    \n",
    "> 지정 모형의 0~1 랜덤 초기화 시키기: np.random.rand(3,2)   "
   ]
  },
  {
   "cell_type": "code",
   "execution_count": 100,
   "id": "0ced983d-5727-4680-8c2d-ea21a0b83db3",
   "metadata": {},
   "outputs": [
    {
     "name": "stdout",
     "output_type": "stream",
     "text": [
      "Requirement already satisfied: numpy in c:\\users\\trave\\appdata\\local\\programs\\python\\python310\\lib\\site-packages (1.24.3)\n"
     ]
    },
    {
     "name": "stderr",
     "output_type": "stream",
     "text": [
      "WARNING: Ignoring invalid distribution -rotobuf (c:\\users\\trave\\appdata\\local\\programs\\python\\python310\\lib\\site-packages)\n",
      "WARNING: Ignoring invalid distribution -rotobuf (c:\\users\\trave\\appdata\\local\\programs\\python\\python310\\lib\\site-packages)\n",
      "WARNING: Ignoring invalid distribution -rotobuf (c:\\users\\trave\\appdata\\local\\programs\\python\\python310\\lib\\site-packages)\n",
      "WARNING: Ignoring invalid distribution -rotobuf (c:\\users\\trave\\appdata\\local\\programs\\python\\python310\\lib\\site-packages)\n",
      "WARNING: Ignoring invalid distribution -rotobuf (c:\\users\\trave\\appdata\\local\\programs\\python\\python310\\lib\\site-packages)\n",
      "WARNING: Ignoring invalid distribution -rotobuf (c:\\users\\trave\\appdata\\local\\programs\\python\\python310\\lib\\site-packages)\n",
      "\n",
      "[notice] A new release of pip is available: 23.0.1 -> 24.0\n",
      "[notice] To update, run: python.exe -m pip install --upgrade pip\n"
     ]
    }
   ],
   "source": [
    "# numpy 설치\n",
    "!pip install numpy"
   ]
  },
  {
   "cell_type": "code",
   "execution_count": 2,
   "id": "88760a52-6e4b-444e-9644-ac0c6e359330",
   "metadata": {},
   "outputs": [],
   "source": [
    "# 넘파이 모듈임포트\n",
    "import numpy as np"
   ]
  },
  {
   "cell_type": "code",
   "execution_count": 3,
   "id": "e1edcfd3-eeb0-400b-9703-f7f8375ba671",
   "metadata": {},
   "outputs": [
    {
     "name": "stdout",
     "output_type": "stream",
     "text": [
      "[1 2 4 8]\n",
      "(4,)\n"
     ]
    }
   ],
   "source": [
    "# array() 함수로 배열 생성\n",
    "x = [1, 2, 4, 8]\n",
    "y = np.array(x)\n",
    "print(y)\n",
    "# shape 변수로 형상 확인\n",
    "print(y.shape)"
   ]
  },
  {
   "cell_type": "markdown",
   "id": "78099549-3518-440f-937a-7b4bd78ec392",
   "metadata": {},
   "source": [
    "##### 다차원 배열 형상 이해\n",
    "<img src=\"./img/array1.png\"  width = 640 ></img>"
   ]
  },
  {
   "cell_type": "code",
   "execution_count": 4,
   "id": "bd9ba180-1045-4892-b2b4-be1e1d88c638",
   "metadata": {},
   "outputs": [
    {
     "name": "stdout",
     "output_type": "stream",
     "text": [
      "(5,)\n",
      "(2, 5)\n",
      "(3, 2, 5)\n"
     ]
    }
   ],
   "source": [
    "# 다차원 배열\n",
    "array1d = np.array([1,2,3,4,5])\n",
    "\n",
    "array2d = np.array([[1,2,3,4,5],\n",
    "                    [6,7,8,9,0]])\n",
    "\n",
    "array3d = np.array([[[1,2,3,4,5],\n",
    "                     [6,7,8,9,0]],\n",
    "                    [[2,3,4,5,6],\n",
    "                     [7,8,9,0,1]],\n",
    "                    [[3,4,5,6,7],\n",
    "                     [8,9,0,1,2]]])\n",
    "\n",
    "print(array1d.shape)\n",
    "print(array2d.shape)\n",
    "print(array3d.shape)"
   ]
  },
  {
   "cell_type": "markdown",
   "id": "4d610a09-1767-4ef2-824a-3afe4f756b64",
   "metadata": {},
   "source": [
    "#### 다차원 배열 인덱싱"
   ]
  },
  {
   "cell_type": "code",
   "execution_count": 5,
   "id": "d27cf9aa-7cf5-450b-a236-20cb00ed2875",
   "metadata": {},
   "outputs": [
    {
     "name": "stdout",
     "output_type": "stream",
     "text": [
      "1\n",
      "3\n",
      "9\n"
     ]
    }
   ],
   "source": [
    "print(array1d[0])\n",
    "print(array2d[0,2])\n",
    "print(array3d[0,1,3])"
   ]
  },
  {
   "cell_type": "code",
   "execution_count": 6,
   "id": "8a31fefd-aef7-44e5-9ab0-2ce8f0721f20",
   "metadata": {},
   "outputs": [
    {
     "name": "stdout",
     "output_type": "stream",
     "text": [
      "[2 3 4]\n"
     ]
    }
   ],
   "source": [
    "print(array2d[0,1:4])"
   ]
  },
  {
   "cell_type": "code",
   "execution_count": 7,
   "id": "fd1080cc-c021-435d-b473-1c55130eebcb",
   "metadata": {},
   "outputs": [
    {
     "name": "stdout",
     "output_type": "stream",
     "text": [
      "[8 9]\n"
     ]
    }
   ],
   "source": [
    "print(array3d[0, 1, 2:4])"
   ]
  },
  {
   "cell_type": "code",
   "execution_count": 8,
   "id": "78ee2ab4-031e-4c29-9c9d-57a531f37afb",
   "metadata": {},
   "outputs": [
    {
     "name": "stdout",
     "output_type": "stream",
     "text": [
      "[2 7]\n"
     ]
    }
   ],
   "source": [
    "print(array3d[0,:,1])"
   ]
  },
  {
   "cell_type": "code",
   "execution_count": 9,
   "id": "c0a6325f-302e-4e18-bc76-49fb23787574",
   "metadata": {},
   "outputs": [
    {
     "name": "stdout",
     "output_type": "stream",
     "text": [
      "[[1 6]\n",
      " [2 7]\n",
      " [3 8]]\n"
     ]
    }
   ],
   "source": [
    "print(array3d[:,:, 0])"
   ]
  },
  {
   "cell_type": "code",
   "execution_count": 10,
   "id": "16c43268-f121-4051-a457-52a81620982e",
   "metadata": {},
   "outputs": [
    {
     "name": "stdout",
     "output_type": "stream",
     "text": [
      "[[1 6]\n",
      " [2 7]\n",
      " [3 8]]\n"
     ]
    }
   ],
   "source": [
    "print(array3d[..., 0])"
   ]
  },
  {
   "cell_type": "markdown",
   "id": "a48d270d-3cc8-4a57-acb5-6b4d7036b2c2",
   "metadata": {},
   "source": [
    "#### 인덱싱을 활용한 수정"
   ]
  },
  {
   "cell_type": "code",
   "execution_count": 11,
   "id": "54720d6c-d3ef-4d08-9d8e-2e26b0ee4616",
   "metadata": {},
   "outputs": [
    {
     "data": {
      "text/plain": [
       "array([[ 1, 10,  3,  4,  5],\n",
       "       [ 6,  7,  8,  9,  0]])"
      ]
     },
     "execution_count": 11,
     "metadata": {},
     "output_type": "execute_result"
    }
   ],
   "source": [
    "array2d[0,1] = 10\n",
    "array2d"
   ]
  },
  {
   "cell_type": "code",
   "execution_count": 12,
   "id": "480c5032-5b0f-4488-a66e-f3c84f910ecc",
   "metadata": {},
   "outputs": [
    {
     "data": {
      "text/plain": [
       "array([[2, 3, 4, 5, 6],\n",
       "       [6, 7, 8, 9, 0]])"
      ]
     },
     "execution_count": 12,
     "metadata": {},
     "output_type": "execute_result"
    }
   ],
   "source": [
    "array2d[0] = [2,3,4,5,6]\n",
    "array2d"
   ]
  },
  {
   "cell_type": "markdown",
   "id": "37d9940c-ac32-4dd3-9250-849526506f1f",
   "metadata": {},
   "source": [
    "### 4.2 다차원 배열 연산\n",
    "\n",
    "#### 배열에서 연산자 활용\n",
    "배열에서 연산자 활용시 같은 인덱스에 해당하는 데이터간 일괄연산이 진행"
   ]
  },
  {
   "cell_type": "code",
   "execution_count": 17,
   "id": "59963e95-e76d-4aa9-9d10-b138bc92d649",
   "metadata": {},
   "outputs": [
    {
     "data": {
      "text/plain": [
       "array([[ 5,  7,  9, 11, 13],\n",
       "       [13, 15, 17, 19,  1]])"
      ]
     },
     "execution_count": 17,
     "metadata": {},
     "output_type": "execute_result"
    }
   ],
   "source": [
    "# 일괄 산술 연산\n",
    "array2d * 2 + 1"
   ]
  },
  {
   "cell_type": "code",
   "execution_count": 14,
   "id": "6fdcf494-d2dd-4d5e-82be-0babf7bf1da6",
   "metadata": {},
   "outputs": [
    {
     "name": "stdout",
     "output_type": "stream",
     "text": [
      "[1.         1.41421356 2.         2.82842712]\n",
      "[ 1  4 16 64]\n",
      "[0.         0.69314718 1.38629436 2.07944154]\n",
      "[2.71828183e+00 7.38905610e+00 5.45981500e+01 2.98095799e+03]\n"
     ]
    }
   ],
   "source": [
    "# 다양한 연산 함수 제공\n",
    "print(np.sqrt(y)) # 제곱근\n",
    "print(np.power(y, 2)) # 거듭제곱\n",
    "print(np.log(y)) # 자연로그\n",
    "print(np.exp(y)) # 지수"
   ]
  },
  {
   "cell_type": "markdown",
   "id": "9d313535-08f0-4bed-b866-926116e3dd99",
   "metadata": {},
   "source": [
    "#### 원하는 축을 선택하여 연산\n",
    "배열 연산 함수의 axis 인자 활용"
   ]
  },
  {
   "cell_type": "code",
   "execution_count": 15,
   "id": "78dc8f23-bd1c-4d87-9e17-1f3a99ad3af4",
   "metadata": {},
   "outputs": [
    {
     "data": {
      "text/plain": [
       "array([[2, 3, 4, 5, 6],\n",
       "       [6, 7, 8, 9, 0]])"
      ]
     },
     "execution_count": 15,
     "metadata": {},
     "output_type": "execute_result"
    }
   ],
   "source": [
    "array2d"
   ]
  },
  {
   "cell_type": "code",
   "execution_count": 16,
   "id": "6405b196-32b4-46a5-91ca-76f007e73413",
   "metadata": {},
   "outputs": [
    {
     "data": {
      "text/plain": [
       "50"
      ]
     },
     "execution_count": 16,
     "metadata": {},
     "output_type": "execute_result"
    }
   ],
   "source": [
    "# sum 함수를 활용하여 배열내 데이터 더하기 연산\n",
    "np.sum(array2d)"
   ]
  },
  {
   "cell_type": "code",
   "execution_count": 117,
   "id": "4fc23a78-ead1-407c-9a6d-e78012ec0587",
   "metadata": {},
   "outputs": [
    {
     "data": {
      "text/plain": [
       "array([ 8, 10, 12, 14,  6])"
      ]
     },
     "execution_count": 117,
     "metadata": {},
     "output_type": "execute_result"
    }
   ],
   "source": [
    "# axis 인자에 0을 할당하여 0번 축으로 더하기\n",
    "np.sum(array2d, axis = 0)"
   ]
  },
  {
   "cell_type": "code",
   "execution_count": 120,
   "id": "a962522c-9220-41a1-abe5-de57cb00e367",
   "metadata": {},
   "outputs": [
    {
     "data": {
      "text/plain": [
       "array([20, 30])"
      ]
     },
     "execution_count": 120,
     "metadata": {},
     "output_type": "execute_result"
    }
   ],
   "source": [
    "np.sum(array2d, axis = 1)"
   ]
  },
  {
   "cell_type": "code",
   "execution_count": 121,
   "id": "cee31e36-ad6d-447d-80fe-4fc8271688d4",
   "metadata": {},
   "outputs": [
    {
     "data": {
      "text/plain": [
       "array([[[1, 2, 3, 4, 5],\n",
       "        [6, 7, 8, 9, 0]],\n",
       "\n",
       "       [[2, 3, 4, 5, 6],\n",
       "        [7, 8, 9, 0, 1]],\n",
       "\n",
       "       [[3, 4, 5, 6, 7],\n",
       "        [8, 9, 0, 1, 2]]])"
      ]
     },
     "execution_count": 121,
     "metadata": {},
     "output_type": "execute_result"
    }
   ],
   "source": [
    "array3d"
   ]
  },
  {
   "cell_type": "code",
   "execution_count": 122,
   "id": "36df73bf-d4c0-4d05-94fa-051261dd24ff",
   "metadata": {},
   "outputs": [
    {
     "data": {
      "text/plain": [
       "array([[ 6,  9, 12, 15, 18],\n",
       "       [21, 24, 17, 10,  3]])"
      ]
     },
     "execution_count": 122,
     "metadata": {},
     "output_type": "execute_result"
    }
   ],
   "source": [
    "np.sum(array3d, axis = 0)"
   ]
  },
  {
   "cell_type": "code",
   "execution_count": 123,
   "id": "926efa9d-9cbe-4d96-ac80-cf21453e07a7",
   "metadata": {},
   "outputs": [
    {
     "data": {
      "text/plain": [
       "array([[15, 30],\n",
       "       [20, 25],\n",
       "       [25, 20]])"
      ]
     },
     "execution_count": 123,
     "metadata": {},
     "output_type": "execute_result"
    }
   ],
   "source": [
    "np.sum(array3d, axis = 2)"
   ]
  },
  {
   "cell_type": "markdown",
   "id": "12cd7900-cc9d-4e59-955e-13b9813ecc91",
   "metadata": {},
   "source": [
    "### 4.3 배열의 형상 변환\n",
    "numpy는 배열의 형상을 바꿔주는 다양한 함수 제공   \n",
    "- 형상 변환 시 절대적인 배열의 크기는 변할 수 없음 "
   ]
  },
  {
   "cell_type": "code",
   "execution_count": 124,
   "id": "8687d6e5-3c74-4ced-b244-3957504d24ef",
   "metadata": {},
   "outputs": [
    {
     "data": {
      "text/plain": [
       "array([1, 2, 3, 4, 5, 6, 7, 8, 9, 0, 2, 3, 4, 5, 6, 7, 8, 9, 0, 1, 3, 4,\n",
       "       5, 6, 7, 8, 9, 0, 1, 2])"
      ]
     },
     "execution_count": 124,
     "metadata": {},
     "output_type": "execute_result"
    }
   ],
   "source": [
    "# reshape(배열, 형상) 배열을 입력한 형상으로 재구성\n",
    "np.reshape(array3d,(30,))"
   ]
  },
  {
   "cell_type": "code",
   "execution_count": 125,
   "id": "8672aad0-c10a-411a-83a9-a874b9e80238",
   "metadata": {},
   "outputs": [
    {
     "data": {
      "text/plain": [
       "array([[1, 2, 3, 4, 5, 6],\n",
       "       [7, 8, 9, 0, 2, 3],\n",
       "       [4, 5, 6, 7, 8, 9],\n",
       "       [0, 1, 3, 4, 5, 6],\n",
       "       [7, 8, 9, 0, 1, 2]])"
      ]
     },
     "execution_count": 125,
     "metadata": {},
     "output_type": "execute_result"
    }
   ],
   "source": [
    "# reshape는 순서대로 재구성\n",
    "np.reshape(array3d,(5,6))"
   ]
  },
  {
   "cell_type": "code",
   "execution_count": 126,
   "id": "c5d10c81-cea1-4bd1-b2f9-10801a01e87e",
   "metadata": {},
   "outputs": [
    {
     "data": {
      "text/plain": [
       "array([[[1, 2, 3],\n",
       "        [4, 5, 6]],\n",
       "\n",
       "       [[7, 8, 9],\n",
       "        [0, 2, 3]],\n",
       "\n",
       "       [[4, 5, 6],\n",
       "        [7, 8, 9]],\n",
       "\n",
       "       [[0, 1, 3],\n",
       "        [4, 5, 6]],\n",
       "\n",
       "       [[7, 8, 9],\n",
       "        [0, 1, 2]]])"
      ]
     },
     "execution_count": 126,
     "metadata": {},
     "output_type": "execute_result"
    }
   ],
   "source": [
    "np.reshape(array3d,(5,2,3))"
   ]
  },
  {
   "cell_type": "code",
   "execution_count": 1,
   "id": "b5804167-bde0-4716-9b58-99528168696a",
   "metadata": {},
   "outputs": [
    {
     "ename": "NameError",
     "evalue": "name 'np' is not defined",
     "output_type": "error",
     "traceback": [
      "\u001b[1;31m---------------------------------------------------------------------------\u001b[0m",
      "\u001b[1;31mNameError\u001b[0m                                 Traceback (most recent call last)",
      "Cell \u001b[1;32mIn[1], line 2\u001b[0m\n\u001b[0;32m      1\u001b[0m \u001b[38;5;66;03m# -1을 활용하여 남은 형상 구현\u001b[39;00m\n\u001b[1;32m----> 2\u001b[0m \u001b[43mnp\u001b[49m\u001b[38;5;241m.\u001b[39mreshape(array3d,(\u001b[38;5;241m5\u001b[39m,\u001b[38;5;241m2\u001b[39m,\u001b[38;5;241m-\u001b[39m\u001b[38;5;241m1\u001b[39m))\n",
      "\u001b[1;31mNameError\u001b[0m: name 'np' is not defined"
     ]
    }
   ],
   "source": [
    "# -1을 활용하여 남은 형상 구현\n",
    "np.reshape(array3d,(5,2,-1))"
   ]
  },
  {
   "cell_type": "code",
   "execution_count": 127,
   "id": "9774bfc7-efd7-4c30-a2c5-29d3f4508b4f",
   "metadata": {},
   "outputs": [
    {
     "data": {
      "text/plain": [
       "array([[1, 2, 3, 4, 5]])"
      ]
     },
     "execution_count": 127,
     "metadata": {},
     "output_type": "execute_result"
    }
   ],
   "source": [
    "# 형상에 1을 입력하여 비어있는 차원을 추가할 수 있음\n",
    "np.reshape(array1d,(1,5))"
   ]
  },
  {
   "cell_type": "code",
   "execution_count": 130,
   "id": "0e27f2bd-a51c-4acf-b6a7-ece46e6d8a3a",
   "metadata": {},
   "outputs": [
    {
     "name": "stdout",
     "output_type": "stream",
     "text": [
      "[[1 2 3 4 5]]\n",
      "(1, 5)\n"
     ]
    }
   ],
   "source": [
    "# expand_dims 함수를 활용하여 원하는 축에 비어있는 차원을 추가\n",
    "ed = np.expand_dims(array1d, axis = 0)\n",
    "print(ed)\n",
    "print(ed.shape)"
   ]
  },
  {
   "cell_type": "code",
   "execution_count": 131,
   "id": "9396a5af-8111-4286-a597-0bdd0d9693a9",
   "metadata": {},
   "outputs": [
    {
     "name": "stdout",
     "output_type": "stream",
     "text": [
      "[[1]\n",
      " [2]\n",
      " [3]\n",
      " [4]\n",
      " [5]]\n",
      "(5, 1)\n"
     ]
    }
   ],
   "source": [
    "ed = np.expand_dims(array1d, axis = 1)\n",
    "print(ed)\n",
    "print(ed.shape)"
   ]
  },
  {
   "cell_type": "code",
   "execution_count": 133,
   "id": "e479ce4e-eae0-46d6-87b5-89b44a7dea68",
   "metadata": {
    "scrolled": true
   },
   "outputs": [
    {
     "data": {
      "text/plain": [
       "array([[2, 6],\n",
       "       [3, 7],\n",
       "       [4, 8],\n",
       "       [5, 9],\n",
       "       [6, 0]])"
      ]
     },
     "execution_count": 133,
     "metadata": {},
     "output_type": "execute_result"
    }
   ],
   "source": [
    "# transpose 함수를 활용하여 역행렬 형태로 변환 가능\n",
    "np.transpose(array2d)"
   ]
  },
  {
   "cell_type": "markdown",
   "id": "309c9064-e8f9-4b93-9dad-aee35828ac13",
   "metadata": {},
   "source": [
    "### 4. 실습"
   ]
  },
  {
   "cell_type": "markdown",
   "id": "83f002da-dac3-4a2a-84ae-9510a5dc3a1e",
   "metadata": {},
   "source": [
    "#### [실습1] 다음 배열(arr2d)의 형상을 출력하고  0번축의 0 ~ 2번, 1번축의 2 ~ 4번에 해당하는 데이터를 출력하세요\n"
   ]
  },
  {
   "cell_type": "code",
   "execution_count": 19,
   "id": "0446cf0d-a37e-4aa3-9675-a2ad90d2b36c",
   "metadata": {},
   "outputs": [],
   "source": [
    "import numpy as np\n",
    "\n",
    "arr2d = np.array([[1,2,3,4,5],\n",
    "                [5,6,7,8,9],\n",
    "                [9,1,2,3,4],\n",
    "                [5,6,7,8,9],\n",
    "               ])\n"
   ]
  },
  {
   "cell_type": "code",
   "execution_count": null,
   "id": "c7421b96-226a-4d16-bef4-df4c99372be3",
   "metadata": {},
   "outputs": [],
   "source": []
  },
  {
   "cell_type": "markdown",
   "id": "ad1da10d-4572-4c56-8023-04b07711a958",
   "metadata": {},
   "source": [
    "#### [실습2] 배열(arr2d)에 1번축 값들의 합으로 표현된 배열을 만들고 출력하세요\n"
   ]
  },
  {
   "cell_type": "code",
   "execution_count": null,
   "id": "a60862b8-7ba0-44f1-a05c-14a7f9d39815",
   "metadata": {},
   "outputs": [],
   "source": []
  },
  {
   "cell_type": "markdown",
   "id": "019d0f48-6423-4e47-a9a8-6c03fe3dd655",
   "metadata": {},
   "source": [
    "#### [실습3] 배열(arr2d)의 형상을 (2,2,5)로 변환하여 arr3d 변수에 할당하세요\n"
   ]
  },
  {
   "cell_type": "code",
   "execution_count": null,
   "id": "be710feb-b400-41e6-8787-9ad97be05cf4",
   "metadata": {},
   "outputs": [],
   "source": []
  },
  {
   "cell_type": "markdown",
   "id": "bc93bf1f-80f1-42da-8de2-5dfd6c73330f",
   "metadata": {},
   "source": [
    "#### [실습4] arr3d 배열에서 0,1 번축의 데이터는 모두 선택하고 마지막 축의 2번 인덱스에 해당하는 배열만 슬라이싱하여 출력하세요\n"
   ]
  },
  {
   "cell_type": "code",
   "execution_count": null,
   "id": "07cab937-1d35-4397-badc-fb2db1f4f5f1",
   "metadata": {},
   "outputs": [],
   "source": []
  },
  {
   "cell_type": "markdown",
   "id": "c18d3d37-c1dd-43bf-81d8-fe9c80c20ff0",
   "metadata": {},
   "source": [
    "#### [실습5] 중첩 반복 문을 활용하여 arr2d 배열의 데이터에 하나씩 접근하여 출력하세요\n"
   ]
  },
  {
   "cell_type": "code",
   "execution_count": null,
   "id": "0c21a00e-3dc7-491c-929d-6250bb5239e3",
   "metadata": {},
   "outputs": [],
   "source": []
  },
  {
   "cell_type": "markdown",
   "id": "09c96948-2e1d-4906-a5f3-afde470d2524",
   "metadata": {},
   "source": [
    "\n",
    "## 5. 스택과 큐\n",
    "기본 데이터구조를 활용한 추상 자료 구조\n"
   ]
  },
  {
   "cell_type": "markdown",
   "id": "65cb0199-fb02-461b-b981-e6a70a7331a5",
   "metadata": {},
   "source": [
    "### 5.1 Stack\n",
    "- LIFO 선입 후출의 방식으로 데이터를 저장하고 접근\n",
    "- 내부적으로 배열 또는 리스트 구조를 활용 (파이썬에선 리스트)\n",
    "- append() 구조의 맨앞에 항목 추가 (인덱스상으로 맨끝)\n",
    "- pop() 맨앞 항목을 구조에서 제거하고 반환 (인덱스상으로 맨끝)\n",
    "\n",
    "\n",
    "<img src=\"./img/20240909_133427.png\"  width = 600 align=\"\"></img>\n"
   ]
  },
  {
   "cell_type": "code",
   "execution_count": 1,
   "id": "7ca564c8-7a50-4ce4-96e3-cfc56bdbbf6a",
   "metadata": {},
   "outputs": [
    {
     "name": "stdout",
     "output_type": "stream",
     "text": [
      "스택 상태: ['A', 'B', 'C']\n",
      "팝된 요소: C\n",
      "팝된 요소: B\n",
      "스택 상태: ['A']\n"
     ]
    }
   ],
   "source": [
    "# 스택을 리스트로 구현\n",
    "stack = []\n",
    "\n",
    "# 스택에 요소 추가 (push)\n",
    "stack.append('A')\n",
    "stack.append('B')\n",
    "stack.append('C')\n",
    "\n",
    "print(\"스택 상태:\", stack)\n",
    "\n",
    "# 스택에서 요소 제거 (pop)\n",
    "print(\"팝된 요소:\", stack.pop())  # C\n",
    "print(\"팝된 요소:\", stack.pop())  # B\n",
    "\n",
    "print(\"스택 상태:\", stack)"
   ]
  },
  {
   "cell_type": "markdown",
   "id": "ca1aa07c-4a96-418b-b00f-fc9ed6f253bf",
   "metadata": {},
   "source": [
    "### 5.2 Queue\n",
    "- FIFO 선입 선출의 방식으로 데이터를 저장하고 접근\n",
    "- 내부적으로 배열 또는 리스트 구조를 활용 (파이썬에선 리스트)\n",
    "- put() 구조의 맨끝에 항목 추가 \n",
    "- get() 맨앞 항목을 구조에서 제거하고 반환\n",
    "\n",
    "\n",
    "<img src=\"./img/20240909_133443.png\"  width = 600 align=\"\"></img>"
   ]
  },
  {
   "cell_type": "code",
   "execution_count": 2,
   "id": "fcba9570-78c3-40e4-944e-2eeadae9a880",
   "metadata": {},
   "outputs": [
    {
     "name": "stdout",
     "output_type": "stream",
     "text": [
      "큐에서 나온 요소: 1\n",
      "큐에서 나온 요소: 2\n",
      "큐에서 나온 요소: 3\n"
     ]
    }
   ],
   "source": [
    "import queue\n",
    "\n",
    "# 큐 생성 (Queue)\n",
    "q = queue.Queue()\n",
    "\n",
    "# 큐에 요소 추가 (enqueue)\n",
    "q.put('1')\n",
    "q.put('2')\n",
    "q.put('3')\n",
    "\n",
    "# 큐가 비어있을때 까지 반복\n",
    "while not q.empty():\n",
    "    print(\"큐에서 나온 요소:\", q.get())"
   ]
  },
  {
   "cell_type": "markdown",
   "id": "4366bbfd-067d-4d3a-a187-1402a9c7e552",
   "metadata": {},
   "source": [
    "### 5.3 Deque\n",
    "- 양방향 접근이 가능한 Queue의 확장 인터페이스로 속도향상\n",
    "- FIFO, LIFO 가 다 가능하며 상황에 따라 원하는 입출 방식을 정할 수 있음\n",
    "- append() 구조의 오른쪽에 항목 추가\n",
    "- appendleft() 구조의 왼쪽에 항목 추가\n",
    "- pop() 구조의 오른쪽에서 항목 제거하고 반환\n",
    "- popleft() 구조의 왼쪽에서 항목 제거하고 반환\n",
    "\n",
    "<img src=\"./img/20240909_133501.png\"  width = 600 align=\"\"></img>"
   ]
  },
  {
   "cell_type": "code",
   "execution_count": 3,
   "id": "7d86bc61-f828-4451-8dc4-2c78c607648c",
   "metadata": {},
   "outputs": [
    {
     "name": "stdout",
     "output_type": "stream",
     "text": [
      "데크 상태: deque(['X', 'A', 'B'])\n",
      "앞쪽에서 제거된 요소: X\n",
      "뒤쪽에서 제거된 요소: B\n",
      "데크 상태: deque(['A'])\n"
     ]
    }
   ],
   "source": [
    "from collections import deque\n",
    "\n",
    "# 데크 생성\n",
    "dq = deque()\n",
    "\n",
    "# 데크에 요소 추가 (append: 뒤쪽 추가, appendleft: 앞쪽 추가)\n",
    "dq.appendleft('X')\n",
    "dq.append('A')\n",
    "dq.append('B')\n",
    "\n",
    "print(\"데크 상태:\", dq)\n",
    "\n",
    "# 앞쪽에서 요소 제거 (popleft)\n",
    "print(\"앞쪽에서 제거된 요소:\", dq.popleft())  # X\n",
    "\n",
    "# 뒤쪽에서 요소 제거 (pop)\n",
    "print(\"뒤쪽에서 제거된 요소:\", dq.pop())  # B\n",
    "\n",
    "print(\"데크 상태:\", dq)"
   ]
  },
  {
   "cell_type": "markdown",
   "id": "2b753aaa-7be7-4776-86d5-ba13496e76f5",
   "metadata": {},
   "source": [
    "## 6. 트리구조\n",
    "\n",
    "- 특정노드로 시작하여 자식 노드를 확장하며 밑으로 뻗어가는 자료구조\n",
    "- 공간의 효율성을 올리면서 접근속도를 최대화 시키기 위해 사용\n",
    "- 배열, 연결구조를 활용하여 구현가능\n",
    "\n",
    "<img src=\"./img/20240909_135651.png\"  width = 640 align=\"\"></img>"
   ]
  },
  {
   "cell_type": "markdown",
   "id": "cdc46bf3-b0c9-47d2-a1c0-f4b84a478428",
   "metadata": {},
   "source": [
    "### 6.1 이진 트리\n",
    "- 자식노드를 2개만 가지는 트리 구조\n",
    "- 데이터의 추가와 접근 속도의 밸런스를 맞춤\n",
    "- 노드의 깊이가 하나 증가할 때 마다 최대 2배수로 노드가 늘어남\n",
    "    - n층의 노드개수: 2의n승\n",
    "- 노드의 접근 성능이 일반 연결리스트 보다 좋음\n",
    "    - 최대 효율 log(n)\n",
    "    - 최저 효율 n\n",
    "- 최악의 경우 리스트와 동일한 접근속도가 나옴\n",
    "- 탐색을 위해 반복문이 아닌 재귀방식을 사용\n",
    "    - Preorder, Postorder, Inorder\n",
    "- 직접 구현하거나 외부 라이브러리를 활용(bintrees)\n",
    "\n",
    "<img src=\"./img/20240909_140136.png\"  width = 640 align=\"\"></img>   \n",
    "***입력 노드의 값이 부모 노드 보다 크면 오른쪽 작으면 왼쪽으로 만들어지는 간단한 이진트리***\n",
    "\n",
    "#### 구조에 따른 특징\n",
    "\n",
    "| **구현 방식**            | **장점**                                                       | **단점**                                                  |\n",
    "|-------------------------|--------------------------------------------------------------|----------------------------------------------------------|\n",
    "| **배열(Array)**          | - 인덱스를 통한 빠른 접근<br>- 추가 포인터 관리 불필요<br>- 연속된 메모리 공간 사용으로 캐시 효율성 증가 | - 비효율적인 공간 사용(완전 이진 트리가 아닐 때)<br>- 크기 고정, 확장 어려움<br>- 동적 트리 관리 어려움 |\n",
    "| **연결 리스트(Linked)**  | - 동적 메모리 사용으로 크기 유연<br>- 빈 공간 없이 필요한 만큼 메모리 사용<br>- 복잡한 트리 구조에 적합 | - 노드 접근 속도가 느림<br>- 포인터로 인한 추가 메모리 사용<br>- 포인터 관리의 복잡성 증가 |\n",
    "\r\n"
   ]
  },
  {
   "cell_type": "code",
   "execution_count": 5,
   "id": "51913f1c-efc6-4ee4-9313-ce21b5546ad8",
   "metadata": {},
   "outputs": [],
   "source": [
    "class BSTNode:\n",
    "    def __init__(self, key):\n",
    "        self.left = None\n",
    "        self.right = None\n",
    "        self.value = key\n",
    "\n",
    "    def insert(self, key):\n",
    "        if key < self.value:\n",
    "            if self.left is None:\n",
    "                self.left = BSTNode(key)\n",
    "            else:\n",
    "                self.left.insert(key)\n",
    "        elif key > self.value:\n",
    "            if self.right is None:\n",
    "                self.right = BSTNode(key)\n",
    "            else:\n",
    "                self.right.insert(key)\n",
    "\n",
    "# 이진 탐색 트리 생성 및 삽입\n",
    "itmes = [10,23,6,9,29,15,26,19,3]\n",
    "root = BSTNode(17)\n",
    "for v in itmes:\n",
    "    root.insert(v)"
   ]
  },
  {
   "cell_type": "markdown",
   "id": "0f78b3a3-b5b4-4c88-9357-093ebed8d6e7",
   "metadata": {},
   "source": [
    "### 6.2 재귀식 트리 탐색\n",
    "- Preorder: 부모노드 -> 왼쪽노드 -> 오른쪽노드 순으로 탐색\n",
    "- Postorder: 왼쪽노드 -> 오른쪽노드 -> 부모노드 순으로 탐색\n",
    "- Inorder: 왼쪽노드 -> 부모노드 -> 오른쪽노드 순으로 탐색\n",
    "\n",
    "<img src=\"./img/20240909_141656.png\"  width = 640 align=\"\"></img>   "
   ]
  },
  {
   "cell_type": "code",
   "execution_count": 6,
   "id": "82f6a8d1-20c0-4f21-b903-ef5a831fe7e0",
   "metadata": {},
   "outputs": [
    {
     "name": "stdout",
     "output_type": "stream",
     "text": [
      "Pre-order Traversal (전위 순회):\n",
      "17 10 6 3 9 15 23 19 29 26 \n",
      "In-order Traversal (중위 순회):\n",
      "3 6 9 10 15 17 19 23 26 29 \n",
      "Post-order Traversal (후위 순회):\n",
      "3 9 6 15 10 19 26 29 23 17 "
     ]
    }
   ],
   "source": [
    "class BSTNode:\n",
    "    def __init__(self, key):\n",
    "        self.left = None\n",
    "        self.right = None\n",
    "        self.value = key\n",
    "\n",
    "    def insert(self, key):\n",
    "        if key < self.value:\n",
    "            if self.left is None:\n",
    "                self.left = BSTNode(key)\n",
    "            else:\n",
    "                self.left.insert(key)\n",
    "        elif key > self.value:\n",
    "            if self.right is None:\n",
    "                self.right = BSTNode(key)\n",
    "            else:\n",
    "                self.right.insert(key)\n",
    "\n",
    "    # 전위 순회 (Pre-order Traversal)\n",
    "    def pre_order(self):\n",
    "        print(self.value, end=' ')  # 부모 노드 먼저 출력\n",
    "        if self.left:\n",
    "            self.left.pre_order()   # 왼쪽 자식 순회\n",
    "        if self.right:\n",
    "            self.right.pre_order()  # 오른쪽 자식 순회\n",
    "\n",
    "    # 중위 순회 (In-order Traversal)\n",
    "    def in_order(self):\n",
    "        if self.left:\n",
    "            self.left.in_order()    # 왼쪽 자식 순회\n",
    "        print(self.value, end=' ')  # 부모 노드 출력\n",
    "        if self.right:\n",
    "            self.right.in_order()   # 오른쪽 자식 순회\n",
    "\n",
    "    # 후위 순회 (Post-order Traversal)\n",
    "    def post_order(self):\n",
    "        if self.left:\n",
    "            self.left.post_order()  # 왼쪽 자식 순회\n",
    "        if self.right:\n",
    "            self.right.post_order() # 오른쪽 자식 순회\n",
    "        print(self.value, end=' ')  # 부모 노드 나중에 출력\n",
    "\n",
    "# 이진 탐색 트리 생성 및 삽입\n",
    "items = [10, 23, 6, 9, 29, 15, 26, 19, 3]\n",
    "root = BSTNode(17)\n",
    "for v in items:\n",
    "    root.insert(v)\n",
    "\n",
    "# 3가지 탐색 방법 출력\n",
    "print(\"Pre-order Traversal (전위 순회):\")\n",
    "root.pre_order()  # 출력: 17 10 6 3 9 15 23 19 29 26\n",
    "\n",
    "print(\"\\nIn-order Traversal (중위 순회):\")\n",
    "root.in_order()   # 출력: 3 6 9 10 15 17 19 23 26 29\n",
    "\n",
    "print(\"\\nPost-order Traversal (후위 순회):\")\n",
    "root.post_order() # 출력: 3 9 6 15 10 19 26 29 23 17"
   ]
  },
  {
   "attachments": {},
   "cell_type": "markdown",
   "id": "0299879c-df72-4f8f-9176-01cad4f29f66",
   "metadata": {},
   "source": [
    "### 6.3 밸런스를 위한 다양한 트리\n",
    "- 일반적인 이진트리는 상황에 따라 최악의 탐색시간을 초래할 수 있음\n",
    "- 트리의 밸런스를 맞추기 위해 삽입 및 삭제시 특정 룰을 지정한 트리구조\n",
    "    - 최대, 최소 힙트리\n",
    "    - AVL 트리\n",
    "    - 레드-블랙 트리\n",
    "    - B 트리\n",
    "- 데이터베이스는 B 트리를 기반으로 많이 구성\n",
    "\n",
    "#### AVL 트리 예시\n",
    "- 이진 트리 방식을 따르며 노드를 추가 하다 균형이 안맞으면 회전을 시켜 균형을 맞춤\n",
    "- 층수의 차로 균형파악\n",
    "\n",
    "<img src=\"./img/20240909_143449.png\"  width = 640 align=\"\"></img>   \n",
    "\n"
   ]
  },
  {
   "cell_type": "code",
   "execution_count": 8,
   "id": "a3113de9-8d08-4f76-868b-3dfc296bc74b",
   "metadata": {},
   "outputs": [
    {
     "name": "stdout",
     "output_type": "stream",
     "text": [
      "In-order Traversal of AVL Tree:\n",
      "3 6 9 10 15 19 23 26 29 "
     ]
    }
   ],
   "source": [
    "# avl트리 예시\n",
    "\n",
    "class AVLNode:\n",
    "    def __init__(self, key):\n",
    "        self.left = None\n",
    "        self.right = None\n",
    "        self.value = key\n",
    "        self.height = 1  # 높이를 트래킹하여 균형을 유지\n",
    "\n",
    "# AVL 트리 클래스\n",
    "class AVLTree:\n",
    "    # 노드의 높이를 가져오는 함수\n",
    "    def get_height(self, node):\n",
    "        if not node:\n",
    "            return 0\n",
    "        return node.height\n",
    "\n",
    "    # 노드의 균형 인수를 계산하는 함수\n",
    "    def get_balance(self, node):\n",
    "        if not node:\n",
    "            return 0\n",
    "        return self.get_height(node.left) - self.get_height(node.right)\n",
    "\n",
    "    # 왼쪽 회전 (Right-heavy tree를 균형 맞출 때 사용)\n",
    "    def rotate_left(self, z):\n",
    "        y = z.right\n",
    "        T2 = y.left\n",
    "        y.left = z\n",
    "        z.right = T2\n",
    "        z.height = 1 + max(self.get_height(z.left), self.get_height(z.right))\n",
    "        y.height = 1 + max(self.get_height(y.left), self.get_height(y.right))\n",
    "        return y\n",
    "\n",
    "    # 오른쪽 회전 (Left-heavy tree를 균형 맞출 때 사용)\n",
    "    def rotate_right(self, z):\n",
    "        y = z.left\n",
    "        T3 = y.right\n",
    "        y.right = z\n",
    "        z.left = T3\n",
    "        z.height = 1 + max(self.get_height(z.left), self.get_height(z.right))\n",
    "        y.height = 1 + max(self.get_height(y.left), self.get_height(y.right))\n",
    "        return y\n",
    "\n",
    "    # AVL 트리 삽입\n",
    "    def insert(self, root, key):\n",
    "        # 1. 기본적인 BST 삽입\n",
    "        if not root:\n",
    "            return AVLNode(key)\n",
    "        elif key < root.value:\n",
    "            root.left = self.insert(root.left, key)\n",
    "        else:\n",
    "            root.right = self.insert(root.right, key)\n",
    "\n",
    "        # 2. 노드의 높이 업데이트\n",
    "        root.height = 1 + max(self.get_height(root.left), self.get_height(root.right))\n",
    "\n",
    "        # 3. 균형 인수 계산\n",
    "        balance = self.get_balance(root)\n",
    "\n",
    "        # 4. 균형이 깨졌을 때 회전 수행\n",
    "        # LL 회전\n",
    "        if balance > 1 and key < root.left.value:\n",
    "            return self.rotate_right(root)\n",
    "        # RR 회전\n",
    "        if balance < -1 and key > root.right.value:\n",
    "            return self.rotate_left(root)\n",
    "        # LR 회전\n",
    "        if balance > 1 and key > root.left.value:\n",
    "            root.left = self.rotate_left(root.left)\n",
    "            return self.rotate_right(root)\n",
    "        # RL 회전\n",
    "        if balance < -1 and key < root.right.value:\n",
    "            root.right = self.rotate_right(root.right)\n",
    "            return self.rotate_left(root)\n",
    "\n",
    "        return root\n",
    "\n",
    "    # 중위 순회 (In-order Traversal)\n",
    "    def in_order(self, root):\n",
    "        if root:\n",
    "            self.in_order(root.left)\n",
    "            print(root.value, end=\" \")\n",
    "            self.in_order(root.right)\n",
    "\n",
    "# AVL 트리 생성 및 삽입\n",
    "avl_tree = AVLTree()\n",
    "root = None\n",
    "items = [10, 23, 6, 9, 29, 15, 26, 19, 3]\n",
    "\n",
    "for item in items:\n",
    "    root = avl_tree.insert(root, item)\n",
    "\n",
    "# 중위 순회 출력 (정렬된 상태로 출력)\n",
    "print(\"In-order Traversal of AVL Tree:\")\n",
    "avl_tree.in_order(root)"
   ]
  },
  {
   "cell_type": "code",
   "execution_count": null,
   "id": "388ffd32-fbb9-44d6-b5ad-deaeed6c9157",
   "metadata": {},
   "outputs": [],
   "source": []
  }
 ],
 "metadata": {
  "kernelspec": {
   "display_name": "Python 3 (ipykernel)",
   "language": "python",
   "name": "python3"
  },
  "language_info": {
   "codemirror_mode": {
    "name": "ipython",
    "version": 3
   },
   "file_extension": ".py",
   "mimetype": "text/x-python",
   "name": "python",
   "nbconvert_exporter": "python",
   "pygments_lexer": "ipython3",
   "version": "3.10.11"
  }
 },
 "nbformat": 4,
 "nbformat_minor": 5
}
