{
 "cells": [
  {
   "cell_type": "markdown",
   "metadata": {},
   "source": [
    "# Python 기초 문법\n",
    "\n",
    "`작성자: 최원칠 강사`   \n",
    "`traveler4d@gmail.com`\n",
    "\n",
    "\n",
    "### 주요 내용\n",
    "\n",
    "1. 파이썬의 기본 정의와 데이터 타입에 대한 이해\n",
    "2. 파이썬 기본 제어문에 대한 이해\n",
    "3. 파이썬 기본 데이터구조에 대한 이해\n",
    "\n"
   ]
  },
  {
   "cell_type": "markdown",
   "metadata": {},
   "source": [
    "\n",
    "\n",
    "<br>\n",
    "\n",
    "## 1. 형식의 이해\n",
    "\n",
    "\n",
    "\n",
    "### 1.1. 변수 할당\n",
    "\n",
    "파이썬은 데이터를 컴퓨터구조중 메모리의 특정 주소에 저장.   \n",
    "저장된 데이터를 사용하기 위해선 복잡한 주소를 통해 데이터를 접근해야함.  \n",
    "이때 복잡한 주소대신 개발자가 기억하기 쉬운 특정 단어로 데이터를 찾아가기 위해 변수사용.    \n",
    "이렇게 변수를 통해 데이터의 주소를 `참조`한다 또는 `할당`한다라는 표현을 사용.\n",
    "\n",
    "<img src=\"./img/20240601_215348.png\"  width = 360 align=\"center\"></img>  \n",
    "\n",
    "\n",
    "#### 변수 이름 규칙\n",
    "- 소문자 영단어\n",
    "- 2개이상의 단어 사용시 _ 로 단어구분 ex) my_num\n",
    "- _ 를 제외한 특수문자 사용 금지\n",
    "- 숫자 사용시 영단어 뒤에 배치 ex) num1"
   ]
  },
  {
   "cell_type": "code",
   "execution_count": 1,
   "metadata": {},
   "outputs": [
    {
     "data": {
      "text/plain": [
       "10"
      ]
     },
     "execution_count": 1,
     "metadata": {},
     "output_type": "execute_result"
    }
   ],
   "source": [
    "# 할당(assign), 저장의 의미를 가짐\n",
    "#     적절한 표현의 변수이름을 지정하고 = 을 활용하여 할당\n",
    "num = 10\n",
    "num"
   ]
  },
  {
   "cell_type": "code",
   "execution_count": 2,
   "metadata": {},
   "outputs": [
    {
     "data": {
      "text/plain": [
       "11"
      ]
     },
     "execution_count": 2,
     "metadata": {},
     "output_type": "execute_result"
    }
   ],
   "source": [
    "# 이미 할당된 변수에 = 을 사용하면 재할당이 이루어짐\n",
    "num = 10\n",
    "num = 11\n",
    "num"
   ]
  },
  {
   "cell_type": "code",
   "execution_count": 3,
   "metadata": {},
   "outputs": [
    {
     "name": "stdout",
     "output_type": "stream",
     "text": [
      "10\n",
      "10\n"
     ]
    }
   ],
   "source": [
    "# 변수에 할당이 이루어진 또다른 변수 할당 가능\n",
    "#     print()를 활용하여 데이터를 터미털(또는 셸)에 출력 가능\n",
    "num1 = 10\n",
    "num2 = num1\n",
    "print(num1)\n",
    "print(num2)"
   ]
  },
  {
   "cell_type": "code",
   "execution_count": 4,
   "metadata": {},
   "outputs": [
    {
     "name": "stdout",
     "output_type": "stream",
     "text": [
      "11\n",
      "10\n"
     ]
    }
   ],
   "source": [
    "# 할당은 참조의 개념임을 유의할 것\n",
    "num1 = 10\n",
    "num2 = num1\n",
    "num1 = 11\n",
    "print(num1)\n",
    "print(num2)"
   ]
  },
  {
   "cell_type": "markdown",
   "metadata": {},
   "source": [
    "<img src=\"./img/20231207_123708.png\"  width = 700 align=\"left\"></img>  "
   ]
  },
  {
   "cell_type": "markdown",
   "metadata": {},
   "source": [
    "\n",
    "### 1.2. 데이터 타입과 연산자\n",
    "\n",
    "파이썬에서 데이터는 모두 객체로 이루어져 있어 객체에 따른 **타입(type)** 을 가짐.    \n",
    "파이썬은 다음과 같이 기본적인 자료형 데이터를 객체로 제공   \n",
    "\n",
    "* int : 정수\n",
    "* float : 소수점, 비율을 포함한 실수\n",
    "* str : 문자열\n",
    "* bool : True와 False\n",
    "\n",
    "데이터 타입에 따라 연산자의 활용용도가 달라짐\n"
   ]
  },
  {
   "cell_type": "markdown",
   "metadata": {},
   "source": [
    "#### int, float\n",
    "정수와 실수를 나타냄"
   ]
  },
  {
   "cell_type": "code",
   "execution_count": 6,
   "metadata": {},
   "outputs": [
    {
     "data": {
      "text/plain": [
       "int"
      ]
     },
     "execution_count": 6,
     "metadata": {},
     "output_type": "execute_result"
    }
   ],
   "source": [
    "# 정수형 타입\n",
    "#     type() 을 활용하여 데이터의 타입 확인 가능\n",
    "num = 10\n",
    "type(num)"
   ]
  },
  {
   "cell_type": "code",
   "execution_count": 7,
   "metadata": {},
   "outputs": [
    {
     "data": {
      "text/plain": [
       "float"
      ]
     },
     "execution_count": 7,
     "metadata": {},
     "output_type": "execute_result"
    }
   ],
   "source": [
    "# 실수형 타입\n",
    "num = 10.1\n",
    "type(num)"
   ]
  },
  {
   "cell_type": "code",
   "execution_count": 8,
   "metadata": {},
   "outputs": [
    {
     "data": {
      "text/plain": [
       "30"
      ]
     },
     "execution_count": 8,
     "metadata": {},
     "output_type": "execute_result"
    }
   ],
   "source": [
    "# 정수형 간의 연산자 활용\n",
    "#     숫자형 사칙연산 +, -, *, /, //, %, **\n",
    "num1 = 10\n",
    "num2 = 20\n",
    "num1 + num2"
   ]
  },
  {
   "cell_type": "markdown",
   "metadata": {},
   "source": [
    "#### 숫자형과 산술연산\n",
    " `+`: 더하기   \n",
    " `-`: 빼기   \n",
    " `*`: 곱하기   \n",
    " `/` : 나누기   \n",
    " `//` : 몫   \n",
    " `**` : 제곱   "
   ]
  },
  {
   "cell_type": "code",
   "execution_count": 9,
   "metadata": {},
   "outputs": [
    {
     "data": {
      "text/plain": [
       "20.1"
      ]
     },
     "execution_count": 9,
     "metadata": {},
     "output_type": "execute_result"
    }
   ],
   "source": [
    "# 실수형 혼합 연산\n",
    "num1 = 10\n",
    "num2 = 10.1\n",
    "num1 + num2"
   ]
  },
  {
   "cell_type": "code",
   "execution_count": 10,
   "metadata": {},
   "outputs": [
    {
     "data": {
      "text/plain": [
       "2.0"
      ]
     },
     "execution_count": 10,
     "metadata": {},
     "output_type": "execute_result"
    }
   ],
   "source": [
    "# 나누기 연산시 실수형으로 변환\n",
    "num1 = 10\n",
    "num2 = 20\n",
    "num2 / num1"
   ]
  },
  {
   "cell_type": "markdown",
   "metadata": {},
   "source": [
    "#### 대입연산\n",
    "\n",
    "`a += b` : `a = a+b`   \n",
    "`a +- b` : `a = a-b`\n"
   ]
  },
  {
   "cell_type": "code",
   "execution_count": 11,
   "metadata": {},
   "outputs": [
    {
     "data": {
      "text/plain": [
       "20"
      ]
     },
     "execution_count": 11,
     "metadata": {},
     "output_type": "execute_result"
    }
   ],
   "source": [
    "# += 을 활용하여 누적 연산 가능\n",
    "num = 10\n",
    "num += 10 # num = num + 10\n",
    "num"
   ]
  },
  {
   "cell_type": "markdown",
   "metadata": {},
   "source": [
    "#### str\n",
    "문자의 집합인 텍스트를 나타냄"
   ]
  },
  {
   "cell_type": "code",
   "execution_count": 18,
   "metadata": {},
   "outputs": [
    {
     "name": "stdout",
     "output_type": "stream",
     "text": [
      "<class 'str'>\n",
      "<class 'str'>\n"
     ]
    }
   ],
   "source": [
    "# 문자열 타입 \n",
    "#     파이썬은 단일 문자타입 대신 문자열 타입만 존재\n",
    "#     '', \"\" 둘다 사용가능\n",
    "name1 = '파이썬'\n",
    "name2 = \"기초\"\n",
    "print(type(name1))\n",
    "print(type(name2))"
   ]
  },
  {
   "cell_type": "markdown",
   "metadata": {},
   "source": [
    "- **리터럴**: 특정 기호나 숫자로 데이터를 생성하는 과정"
   ]
  },
  {
   "cell_type": "code",
   "execution_count": 19,
   "metadata": {
    "scrolled": true
   },
   "outputs": [
    {
     "data": {
      "text/plain": [
       "'파이썬기초'"
      ]
     },
     "execution_count": 19,
     "metadata": {},
     "output_type": "execute_result"
    }
   ],
   "source": [
    "# 문자열 간의 연산 활용\n",
    "#     문자열간 연산은 숫자형과 다르게 적용\n",
    "name1 = '파이썬'\n",
    "name2 = '기초'\n",
    "name1 + name2"
   ]
  },
  {
   "cell_type": "code",
   "execution_count": 20,
   "metadata": {
    "scrolled": true
   },
   "outputs": [
    {
     "data": {
      "text/plain": [
       "'파이썬파이썬파이썬'"
      ]
     },
     "execution_count": 20,
     "metadata": {},
     "output_type": "execute_result"
    }
   ],
   "source": [
    "# 문자열과 숫자형 연산 가능\n",
    "name = '파이썬'\n",
    "num = 3\n",
    "name * num"
   ]
  },
  {
   "cell_type": "code",
   "execution_count": 15,
   "metadata": {},
   "outputs": [
    {
     "name": "stdout",
     "output_type": "stream",
     "text": [
      "1일차 파이썬 수업에 오신걸 환영합니다\n",
      "1일차 파이썬 수업에 오신걸 환영합니다\n"
     ]
    }
   ],
   "source": [
    "# 문자열의 포맷 방법\n",
    "#     다양한 변수를 하나의 문자열로 생성   \n",
    "#     ''.format() 또는 f''를 이용\n",
    "\n",
    "num = 1\n",
    "name = '파이썬'\n",
    "\n",
    "print('{}일차 {} 수업에 오신걸 환영합니다'.format(num, name))\n",
    "print(f'{num}일차 {name} 수업에 오신걸 환영합니다')"
   ]
  },
  {
   "cell_type": "markdown",
   "metadata": {},
   "source": [
    "#### bool\n",
    "True와 False로 표현됨"
   ]
  },
  {
   "cell_type": "code",
   "execution_count": 16,
   "metadata": {},
   "outputs": [
    {
     "data": {
      "text/plain": [
       "bool"
      ]
     },
     "execution_count": 16,
     "metadata": {},
     "output_type": "execute_result"
    }
   ],
   "source": [
    "# bool 타입\n",
    "#     False는 0, True는 0이외의 값으로 표현\n",
    "t = True\n",
    "f = False\n",
    "type(t)"
   ]
  },
  {
   "cell_type": "markdown",
   "metadata": {},
   "source": [
    "#### 비교연산\n",
    " `==` : 값이 같으면 True  \n",
    " `!=` : 값이 다르면 True  \n",
    " `>, >=, <, <=` : 대소비교 성립시 True  \n",
    " `is` : 타입과 값이 같으면 True  \n",
    "#### 논리연산\n",
    " `and` : 둘다 True이면 True   \n",
    " `or`: 둘중 하나라도 True 이면 True  \n",
    " `not`: True 이면 False (역변환)  "
   ]
  },
  {
   "cell_type": "code",
   "execution_count": 17,
   "metadata": {},
   "outputs": [
    {
     "name": "stdout",
     "output_type": "stream",
     "text": [
      "False\n",
      "True\n",
      "True\n",
      "False\n"
     ]
    }
   ],
   "source": [
    "# 비교연산자의 활용\n",
    "num1 = 100\n",
    "num2 = 10\n",
    "\n",
    "print(num1 == num2)\n",
    "print(num1 != num2)\n",
    "print(num1 > num2)\n",
    "print(num1 <= num2)\n"
   ]
  },
  {
   "cell_type": "code",
   "execution_count": 18,
   "metadata": {
    "scrolled": true
   },
   "outputs": [
    {
     "name": "stdout",
     "output_type": "stream",
     "text": [
      "False\n",
      "True\n",
      "False\n",
      "True\n",
      "False\n"
     ]
    }
   ],
   "source": [
    "# 논리 연산 활용\n",
    "print(not True)\n",
    "print(True and True)\n",
    "print(True and False)\n",
    "print(True or False)\n",
    "print(False or False)"
   ]
  },
  {
   "cell_type": "markdown",
   "metadata": {},
   "source": [
    "#### NoneType\n",
    "데이터가 없다는 의미를 뜻하는 타입"
   ]
  },
  {
   "cell_type": "code",
   "execution_count": 5,
   "metadata": {},
   "outputs": [
    {
     "name": "stdout",
     "output_type": "stream",
     "text": [
      "None\n",
      "<class 'NoneType'>\n"
     ]
    }
   ],
   "source": [
    "is_on = None\n",
    "print(is_on)\n",
    "print(type(is_on))"
   ]
  },
  {
   "cell_type": "markdown",
   "metadata": {},
   "source": [
    "#### 데이터 타입 변환 (형변환)\n",
    "\n",
    "- int(): () 안의 변수 또는 데이터를 int 객체로 변환\n",
    "- float(): () 안의 변수 또는 데이터를 float 객체로 변환\n",
    "- str(): () 안의 변수 또는 데이터를 str 객체로 변환\n",
    "- bool(): () 안의 변수 또는 데이터를 bool 객체로 변환"
   ]
  },
  {
   "cell_type": "code",
   "execution_count": 1,
   "metadata": {},
   "outputs": [
    {
     "name": "stdout",
     "output_type": "stream",
     "text": [
      "10 10.0 10 10\n",
      "<class 'int'> <class 'float'> <class 'int'> <class 'str'>\n"
     ]
    }
   ],
   "source": [
    "# 파이썬에서 int(),float(),str()등 내장함수로 제공 \n",
    "\n",
    "num1 = int(10.1)\n",
    "num2 = float(10)\n",
    "num3 = int('10')\n",
    "num4 = str(10)\n",
    "print(num1, num2, num3, num4)\n",
    "print(type(num1), type(num2), type(num3), type(num4))"
   ]
  },
  {
   "cell_type": "markdown",
   "metadata": {
    "jp-MarkdownHeadingCollapsed": true
   },
   "source": [
    "### 1.3. 함수\n",
    "일시적인 기능을 수행 (일회성 데이터)하기 위한 정의\n",
    "\n",
    "#### def을 통해 특정 기능을 수행하는 함수 정의\n",
    "\n",
    "    def 함수이름(인자1,인자2):\n",
    "        code\n",
    "        return 반환\n",
    "    \n",
    "- **인자** : 함수 실행시 필요한 입력 데이터(input) \n",
    "- **반환** : 함수 실행후 결과로 제공될 출력 데이터(output)\n",
    "\n",
    "1. `def`명령어 옆에 이름 정의.\n",
    "2. 이름옆 `()`안에 인자를 정의 `,` 구분으로 여러개 정의 가능. 이렇게 정의한 인자는 def code에서 변수로 활용.    \n",
    "3. def code영역은 함수가 호출될때 실행되는 코드 `:` 이후 `들여쓰기(TAB)`으로 작성.  \n",
    "4. def code영역에서 `return` 명령어 뒤에 출력할 데이터 또는 변수를 작성. return 명령어가 나오면 함수실행 종료   \n"
   ]
  },
  {
   "cell_type": "code",
   "execution_count": 21,
   "metadata": {},
   "outputs": [
    {
     "name": "stdout",
     "output_type": "stream",
     "text": [
      "40\n",
      "60\n"
     ]
    }
   ],
   "source": [
    "# def 을 통한 함수 정의\n",
    "#     파이썬은 TAB(들여쓰기)기준으로 코드 실행영역을 지정\n",
    "\n",
    "\n",
    "def concat(arg1, arg2, arg3=10): # 함수이름은 모두 소문자 단어구분 _\n",
    "    cat = arg1 + arg2 + arg3\n",
    "    return cat\n",
    "\n",
    "# 함수 이름을 통한 함수 실행(사용)\n",
    "out1 = concat(10, 20)\n",
    "print(out1)\n",
    "out2 = concat(10, 20, arg3=30)\n",
    "print(out2)"
   ]
  },
  {
   "cell_type": "markdown",
   "metadata": {},
   "source": [
    "#### 로컬 영역(함수내부)에서 생성된 변수는 로컬변수로 글로벌영역에서 접근 불가\n",
    "- 글로벌 -> 로컬 읽기 불가능\n",
    "- 로컬 -> 글로벌 읽기 가능\n",
    "- 로컬 -> 글로벌 쓰기 불가능\n",
    "\n",
    "로컬변수는 해당 영역 실행이 끝나는순간 사라지기때문."
   ]
  },
  {
   "cell_type": "code",
   "execution_count": 22,
   "metadata": {},
   "outputs": [
    {
     "ename": "NameError",
     "evalue": "name 'data1' is not defined",
     "output_type": "error",
     "traceback": [
      "\u001b[1;31m---------------------------------------------------------------------------\u001b[0m",
      "\u001b[1;31mNameError\u001b[0m                                 Traceback (most recent call last)",
      "Cell \u001b[1;32mIn[22], line 8\u001b[0m\n\u001b[0;32m      5\u001b[0m     data1 \u001b[38;5;241m=\u001b[39m \u001b[38;5;241m100\u001b[39m\n\u001b[0;32m      7\u001b[0m fun1()\n\u001b[1;32m----> 8\u001b[0m \u001b[38;5;28mprint\u001b[39m(\u001b[43mdata1\u001b[49m)\n",
      "\u001b[1;31mNameError\u001b[0m: name 'data1' is not defined"
     ]
    }
   ],
   "source": [
    "# 함수 내부의 변수는 외부에서 접근 불가(return 제외)\n",
    "#     인자(parameter)와 반환(return)적절히 활용 \n",
    "    \n",
    "def fun1():\n",
    "    data1 = 100 # 로컬 영역\n",
    "\n",
    "fun1()\n",
    "print(data1) # 글로벌 영역"
   ]
  },
  {
   "cell_type": "code",
   "execution_count": null,
   "metadata": {},
   "outputs": [],
   "source": [
    "# 인자와 반환을 활용\n",
    "def local(a , b):  # 로컬 변수(인자)\n",
    "    c = a+b        # 로컬 변수\n",
    "    return c\n",
    "\n",
    "d = local(10,20)   # 글로벌 변수\n",
    "d"
   ]
  },
  {
   "cell_type": "markdown",
   "metadata": {},
   "source": [
    "### 1.4 객체\n",
    "객체는 지속적인 구조체를 이루기위한 존재 (지속적 데이터) 정의    \n",
    "파이썬에서는 데이터자체가 객체를 의미하며, **객체이름(객체명)** 이 곧 **데이터타입**이됨\n",
    "\n",
    "<img src=\"./img/20231207_123311.png\"  width = 600 align=\"center\"></img>  \n",
    "\n",
    "\n",
    "\n",
    "#### 실제 객체는 class라는 명령어로 정의\n",
    "\n",
    "    class 객체이름:\n",
    "        self.변수 및 메소드\n",
    "\n",
    "- **클래스** : 각종 데이터와 기능을 내포시킨 객체의 정의(코드상태)\n",
    "- **인스턴스** : 정의상태인 클래스가 실행되어 실질적으로 존재하는 상태(지속데이터)\n",
    "- **self 변수** : 클래스 내부에서만 글로벌 변수 (글로벌 > 셀프 > 로컬)\n",
    "- **메소드** : 클래스 내부에서 정의된 함수 (self 인자필요)"
   ]
  },
  {
   "cell_type": "code",
   "execution_count": 4,
   "metadata": {},
   "outputs": [],
   "source": [
    "# class를 통해 객체 정의 \n",
    "\n",
    "class Product: #클래스 이름은 맨앞글자 대문자 단어구분 대문자\n",
    "    \n",
    "    def __init__(self, name, price): # 생성자 메소드 클래스->인스턴스 과정에 실행되는 함수\n",
    "        self.name = name # self.name 변수와 name 지역변수는 다른 변수\n",
    "        self.price = price\n",
    "        self.cate = 'Aiot'\n",
    "        \n",
    "    def get_name(self): # 메소드 정의 인스턴스 상태일때 .으로 사용 \n",
    "        return self.name\n",
    "\n",
    "    def set_price(self, price):\n",
    "        self.price = price\n"
   ]
  },
  {
   "cell_type": "markdown",
   "metadata": {},
   "source": [
    "#### 정의된 클래스를 실행하여 변수에 할당하면 **인스턴스**\n",
    "- 인스턴스의 데이터타입은 클래스의 이름\n",
    "- 인스턴스에서 .(도트연산)을 통해 클래스에서 정의된 메소드, self변수 사용"
   ]
  },
  {
   "cell_type": "code",
   "execution_count": 5,
   "metadata": {
    "scrolled": true
   },
   "outputs": [
    {
     "name": "stdout",
     "output_type": "stream",
     "text": [
      "<class '__main__.Product'>\n",
      "팜봇\n",
      "팜봇\n",
      "600000\n"
     ]
    }
   ],
   "source": [
    "# 클래스 이름을 호출하여 실행, 변수에 할당하여 인스턴스화\n",
    "\n",
    "\n",
    "product = Product('팜봇', 500000) # 클래스 실행 인자는 __init__ 함수의 인자\n",
    "print(type(product))\n",
    "name = product.get_name() # 인스턴스 변수에서 .(도트연산) 활용\n",
    "print(name)\n",
    "print(product.name) # 셀프 변수 사용\n",
    "\n",
    "product.set_price(600000)\n",
    "print(product.price)\n"
   ]
  },
  {
   "attachments": {},
   "cell_type": "markdown",
   "metadata": {},
   "source": [
    "### 1.5 모듈\n",
    "\n",
    "**파이썬 모듈**\r",
    "- 변수, 함수, 객체를 모두 포함하는 파이썬에서 가장 큰 단위의 정의\n",
    "- 기본적으로 코드를 작성하고 있는 스크립트 페이지가 모듈 영역\n",
    "- .py 파일 확장자를 가짐\n",
    "- 모듈에서 생성된 변수는 글로벌 변수로 취급됨\n",
    "- 모듈 내에서 다른 소스코드가 작성된 모듈을 가져올 수 있음 수 있음\r\n"
   ]
  },
  {
   "cell_type": "code",
   "execution_count": 1,
   "metadata": {},
   "outputs": [],
   "source": [
    "# 모듈 가져오기\n",
    "# import 명령어 활용\n",
    "import os \n",
    "# as 명령어로 모듈을 특정 변수이름에 할당\n",
    "import collections as ct\n",
    "# from 명령어로 모듈내 특정 정의만 import\n",
    "from pathlib import Path\n",
    "\n",
    "# 모듈 사용하기\n",
    "cwd = os.getcwd()\n",
    "dq = ct.deque()\n",
    "path = Path('/.')\n",
    "\n"
   ]
  },
  {
   "cell_type": "markdown",
   "metadata": {},
   "source": [
    "### 1. 실습 "
   ]
  },
  {
   "cell_type": "markdown",
   "metadata": {},
   "source": [
    "#### [실습1] x에 10.1을 저장하고, y에 101을 저장한 다음 더한후 정수로 출력"
   ]
  },
  {
   "cell_type": "code",
   "execution_count": null,
   "metadata": {},
   "outputs": [],
   "source": []
  },
  {
   "cell_type": "markdown",
   "metadata": {},
   "source": [
    "#### [실습2] a=1, b=5로 할당하고 문자열 포맷으로 'a + b는'과 a+b 계산 결과를 print( )로 함께 출력\n",
    "\n",
    "출력 결과 예시  \n",
    "`1 + 5는 6`"
   ]
  },
  {
   "cell_type": "code",
   "execution_count": null,
   "metadata": {},
   "outputs": [],
   "source": []
  },
  {
   "cell_type": "markdown",
   "metadata": {},
   "source": [
    "#### [실습3] 초를 나타내는 time 값을 다음과 같이 시간,분,초로 나타내는 포맷으로 변경하세요\n",
    "- `//` : 나누기의 몫만 반환\n",
    "- `%` : 나머지를 반환\n",
    "\n",
    "`5000초는 1시간 23분 20초 입니다.`"
   ]
  },
  {
   "cell_type": "code",
   "execution_count": 20,
   "metadata": {},
   "outputs": [],
   "source": [
    "time = 5000"
   ]
  },
  {
   "cell_type": "markdown",
   "metadata": {},
   "source": [
    "#### [실습4] 다음 정의된 함수를 실행하고, 반환된 값을 출력하세요"
   ]
  },
  {
   "cell_type": "code",
   "execution_count": 1,
   "metadata": {},
   "outputs": [],
   "source": [
    "def info(name):\n",
    "    text = f'어서오세요 {name}님'\n",
    "    return text"
   ]
  },
  {
   "cell_type": "markdown",
   "metadata": {
    "jp-MarkdownHeadingCollapsed": true
   },
   "source": [
    "#### [실습5] 실습3의 초변환 기능을 함수로 정의하세요, 이때 초가 입력되는 time인자을 정의하고 만들어진 문자열이 반환되는 return을 정의하세요 \n"
   ]
  },
  {
   "cell_type": "code",
   "execution_count": null,
   "metadata": {},
   "outputs": [],
   "source": []
  },
  {
   "cell_type": "markdown",
   "metadata": {},
   "source": [
    "#### [실습6] 다음 클래스(Member)를 활용해 자신의 이름과 나이가 들어간 인스턴스 생성하고, print_info() 함수를 통해 다음 문구 출력\n",
    "\n",
    "`저의 이름은 000, 나이는 00 입니다.`"
   ]
  },
  {
   "cell_type": "code",
   "execution_count": 27,
   "metadata": {},
   "outputs": [],
   "source": [
    "class Member:\n",
    "    def __init__(self, name, age):\n",
    "        self.name = name\n",
    "        self.age = age \n",
    "        \n",
    "    def print_info(self):\n",
    "        return f'저의 이름은 {self.name} 나이는 {self.age} 입니다.'"
   ]
  },
  {
   "cell_type": "markdown",
   "metadata": {},
   "source": [
    "#### [실습7] 다음 요구사항을 만족하는 클래스를 생성하세요    \n",
    "\n",
    "**Customer 클래스 정의**  \n",
    "\n",
    "- 생성자    \n",
    "    - 인자: 고객 이름(name)과 고객 번호(c_id)\n",
    "    - 인자로 입력된 데이터를 셀프변수에 저장\n",
    "    - 0이 할당된 계좌금액 셀프변수 생성\n",
    "- add_amount 함수 생성\n",
    "    - 인자: 입금 금액\n",
    "    - 계좌금액 셀프변수에 입금 금액 추가\n",
    "    - self.a = self.a + inp => self.a += inp\n",
    "- sub_amount 함수 생성\n",
    "    - 인자: 출금 금액\n",
    "    - 계좌금액 셀프변수에 출금 금액 차감\n",
    "- get_amount 함수 생성\n",
    "    - 계좌금액 셀프변수 반환수 생\r\n",
    "get_amount 함수 생성\r\n",
    "계좌금액 셀프변수 반환\r\n",
    " \n"
   ]
  },
  {
   "cell_type": "code",
   "execution_count": null,
   "metadata": {},
   "outputs": [],
   "source": []
  },
  {
   "cell_type": "markdown",
   "metadata": {},
   "source": [
    "#### [실습8] Customer 인스턴스를 생성하여 다음과 같은 구성을 만드세요\n",
    "- 임의의 고객명과 고객번호를 가지는 Customer 인스턴스를 2개 생성하고 변수에 가각 할당하세요\n",
    "- 첫번째 고객의 계좌금액을 5000 추가하세요\n",
    "- 두번째 고객의 계좌금액을 3000 추가하세요\n",
    "- 두 고객의 계좌금액을 출력하세요\n",
    "- 첫번째 고객의 계좌금액을 2000 차감하세요\n",
    "- 두번째 고객의 계좌금액을 1000 차감하세요\n",
    "- 두 고객의 계좌금액을 출력하세요"
   ]
  },
  {
   "cell_type": "code",
   "execution_count": null,
   "metadata": {},
   "outputs": [],
   "source": []
  },
  {
   "cell_type": "code",
   "execution_count": 28,
   "metadata": {},
   "outputs": [
    {
     "ename": "NameError",
     "evalue": "name 'Myclass' is not defined",
     "output_type": "error",
     "traceback": [
      "\u001b[1;31m---------------------------------------------------------------------------\u001b[0m",
      "\u001b[1;31mNameError\u001b[0m                                 Traceback (most recent call last)",
      "Cell \u001b[1;32mIn[28], line 1\u001b[0m\n\u001b[1;32m----> 1\u001b[0m myclass \u001b[38;5;241m=\u001b[39m \u001b[43mMyclass\u001b[49m(\u001b[38;5;241m15\u001b[39m)\n\u001b[0;32m      2\u001b[0m myclass\u001b[38;5;241m.\u001b[39madd_num(\u001b[38;5;241m5\u001b[39m)\n\u001b[0;32m      3\u001b[0m myclass\u001b[38;5;241m.\u001b[39mget_num()\n",
      "\u001b[1;31mNameError\u001b[0m: name 'Myclass' is not defined"
     ]
    }
   ],
   "source": [
    "myclass = Myclass(15)\n",
    "myclass.add_num(5)\n",
    "myclass.get_num()"
   ]
  },
  {
   "cell_type": "markdown",
   "metadata": {},
   "source": [
    "<br>\n",
    "\n",
    "## 2. 흐름 제어문의 활용\n",
    "\n",
    "\n",
    "프로그램이 완성되기 위해서는 데이터 뿐만 아니라 데이터를 상황에 맞게 제어필요.    \n",
    "파이썬에서 데이터를 제어하는 문법은 크게 두가지로 조건문과 반복문 존재. \n",
    "\n",
    "### 2.1. if 조건문  \n",
    "\n",
    "조건문은 프로그램의 진행 흐름에 있어 분기점을 제공.  \n",
    "파이썬에서 조건문은 `if`,`elif`,`else` 명령어로 구성.\n",
    "\n",
    "    if bool데이터 :\n",
    "        code\n",
    "    else:\n",
    "        code\n",
    "    \n",
    "**if** 명령어 옆에 오는 bool 데이터를 체크하여 코드 실행여부 판단.   \n",
    "만약 True가 오면 if문의 `: 들여쓰기` 영역의 코드를 실행하고 False인 경우 else문의 `: 들여쓰기` 영역 코드를 실행.\n"
   ]
  },
  {
   "cell_type": "code",
   "execution_count": 2,
   "metadata": {},
   "outputs": [
    {
     "name": "stdout",
     "output_type": "stream",
     "text": [
      "vip\n"
     ]
    }
   ],
   "source": [
    "# if의 활용\n",
    "point=200\n",
    "\n",
    "if point >=100:\n",
    "    print('vip') # True인 경우 실행"
   ]
  },
  {
   "cell_type": "code",
   "execution_count": 3,
   "metadata": {},
   "outputs": [
    {
     "name": "stdout",
     "output_type": "stream",
     "text": [
      "normal\n"
     ]
    }
   ],
   "source": [
    "# if와 else의 활용\n",
    "point=50\n",
    "\n",
    "if point >=100:\n",
    "    print('vip') # True인 경우 실행\n",
    "else:\n",
    "    print('일반회원') # False인 경우 실행"
   ]
  },
  {
   "cell_type": "code",
   "execution_count": 6,
   "metadata": {},
   "outputs": [
    {
     "name": "stdout",
     "output_type": "stream",
     "text": [
      "비회원\n"
     ]
    }
   ],
   "source": [
    "# if와 elif와 else의 활용\n",
    "\n",
    "point = None # 결측 (데이타 없음을 의미)\n",
    "\n",
    "if point is None: # is : 타입까지 동일해야 True\n",
    "    print('비회원')\n",
    "else:\n",
    "    if point >=100:\n",
    "        print('vip')\n",
    "    else:\n",
    "        print('일반회원')"
   ]
  },
  {
   "cell_type": "code",
   "execution_count": 8,
   "metadata": {},
   "outputs": [
    {
     "name": "stdout",
     "output_type": "stream",
     "text": [
      "vip\n"
     ]
    }
   ],
   "source": [
    "point = 140\n",
    "\n",
    "if point is None:\n",
    "    print('비회원')\n",
    "elif point >=200:\n",
    "    print('vvip')\n",
    "elif point >=100:\n",
    "    print('vip')\n",
    "else:\n",
    "    print('일반회원')"
   ]
  },
  {
   "cell_type": "markdown",
   "metadata": {},
   "source": [
    "<br>\n",
    "\n",
    "### 2.2. for 반복문\n",
    "**for**는 반복 대상을 지정하고 특정한 명령을 반복 실행\n",
    "\n",
    "    for 변수 in 이터러블:\n",
    "        반복코드\n",
    "     \n",
    "- **이터러블**: 여러개의 데이터를 가지고있으며, 데이터를 순서대로 출력가능한 구조\n",
    "\n",
    "\n",
    "<img src=\"./img/20231207_123936.png\"  width = 400 align=\"left\"></img>  \n"
   ]
  },
  {
   "cell_type": "markdown",
   "metadata": {},
   "source": [
    "#### 이터러블을 활용한 반복"
   ]
  },
  {
   "cell_type": "code",
   "execution_count": 15,
   "metadata": {},
   "outputs": [
    {
     "name": "stdout",
     "output_type": "stream",
     "text": [
      "데이터:10\n",
      "데이터:20\n",
      "데이터:30\n",
      "데이터:40\n",
      "데이터:50\n"
     ]
    }
   ],
   "source": [
    "# 대표적인 이터러블인 리스트를 활용\n",
    "\n",
    "datas = [10,20,30,40,50]\n",
    "\n",
    "for data in datas:\n",
    "    print(f'데이터:{data}')"
   ]
  },
  {
   "cell_type": "markdown",
   "metadata": {},
   "source": [
    "#### range() 함수 활용\n",
    "\n",
    "`range(s, e, step)`: s값부터 e-1값까지의 step 간격을 가지는 수열 이터러블을 만드는 함수"
   ]
  },
  {
   "cell_type": "code",
   "execution_count": 32,
   "metadata": {},
   "outputs": [
    {
     "name": "stdout",
     "output_type": "stream",
     "text": [
      "0번째 반복\n",
      "1번째 반복\n",
      "2번째 반복\n",
      "3번째 반복\n",
      "4번째 반복\n"
     ]
    }
   ],
   "source": [
    "# 0~4까지의 1의 간격을 가지는 수열 이터러블\n",
    "for i in range(0,5):\n",
    "    print(f'데이터: {i}')"
   ]
  },
  {
   "cell_type": "code",
   "execution_count": 10,
   "metadata": {},
   "outputs": [
    {
     "name": "stdout",
     "output_type": "stream",
     "text": [
      "데이터: 0\n",
      "데이터: 2\n",
      "데이터: 4\n",
      "데이터: 6\n",
      "데이터: 8\n"
     ]
    }
   ],
   "source": [
    "# 0~9까지의 2의 간격을 가지는 수열 이터러블\n",
    "for i in range(0,10,2):\n",
    "    print(f'데이터: {i}')"
   ]
  },
  {
   "cell_type": "markdown",
   "metadata": {},
   "source": [
    "#### 누적 연산 활용"
   ]
  },
  {
   "cell_type": "code",
   "execution_count": 16,
   "metadata": {},
   "outputs": [
    {
     "name": "stdout",
     "output_type": "stream",
     "text": [
      "0를 더한 값은 0\n",
      "1를 더한 값은 1\n",
      "2를 더한 값은 3\n",
      "3를 더한 값은 6\n",
      "4를 더한 값은 10\n"
     ]
    }
   ],
   "source": [
    "count = 0\n",
    "\n",
    "for d in [0,1,2,3,4]:\n",
    "    count += d ## 반복할 때마다 i를 더함   \n",
    "    print(f'{d}를 더한 값은 {count}')"
   ]
  },
  {
   "cell_type": "markdown",
   "metadata": {},
   "source": [
    "### 2.3 반복 제어"
   ]
  },
  {
   "cell_type": "markdown",
   "metadata": {},
   "source": [
    "#### if 문과 활용"
   ]
  },
  {
   "cell_type": "code",
   "execution_count": 12,
   "metadata": {},
   "outputs": [
    {
     "name": "stdout",
     "output_type": "stream",
     "text": [
      "7\n",
      "8\n",
      "9\n"
     ]
    }
   ],
   "source": [
    "# for문 안에서 if문을 활용\n",
    "for a in range(1,10):\n",
    "    if a >= 7:\n",
    "        print(a)\n"
   ]
  },
  {
   "cell_type": "markdown",
   "metadata": {},
   "source": [
    "#### 중단 및 건너뛰기\n",
    "`break` : 포함된 반복문을 중단시킴  \n",
    "`continue` : 이후 반복문 내의 코드를 실행하지 않고 다음 반복으로 넘김"
   ]
  },
  {
   "cell_type": "code",
   "execution_count": 13,
   "metadata": {},
   "outputs": [
    {
     "name": "stdout",
     "output_type": "stream",
     "text": [
      "1\n",
      "2\n",
      "4\n"
     ]
    }
   ],
   "source": [
    "\n",
    "for a in range(1,10):\n",
    "    if a % 3 == 0: # 3로 나눈 나머지가 0이면\n",
    "        continue\n",
    "    if a % 5 == 0:\n",
    "        break\n",
    "    print(a)"
   ]
  },
  {
   "cell_type": "markdown",
   "metadata": {},
   "source": [
    "#### enumerate() 활용\n",
    "enumerate() 함수에 인자로 이터러블을 입력하여 반복하면 순서와 데이터가 묶여서 반환"
   ]
  },
  {
   "cell_type": "code",
   "execution_count": 17,
   "metadata": {},
   "outputs": [
    {
     "name": "stdout",
     "output_type": "stream",
     "text": [
      "순서:0, 데이터:10\n",
      "순서:1, 데이터:20\n",
      "순서:2, 데이터:30\n",
      "순서:3, 데이터:40\n",
      "순서:4, 데이터:50\n"
     ]
    }
   ],
   "source": [
    "datas = [10,20,30,40,50]\n",
    "\n",
    "for i, v in enumerate(datas):\n",
    "    print(f'순서:{i}, 데이터:{v}')\n",
    "    \n",
    "    "
   ]
  },
  {
   "cell_type": "markdown",
   "metadata": {},
   "source": [
    "### 2.4 while 반복문\n",
    "while 반복문은 특정 상황까지의 반복을 위한 반복문.   \n",
    "while 명령어 옆의 bool값을 통해 반복을 결정"
   ]
  },
  {
   "cell_type": "code",
   "execution_count": 1,
   "metadata": {},
   "outputs": [
    {
     "name": "stdout",
     "output_type": "stream",
     "text": [
      "1\n",
      "2\n",
      "3\n",
      "4\n",
      "5\n",
      "6\n",
      "7\n",
      "8\n",
      "9\n",
      "10\n"
     ]
    }
   ],
   "source": [
    "i = 0\n",
    "\n",
    "# i값이 10보다 작으면 반복\n",
    "# i값이 10보다 커지는순간 반복정지\n",
    "while i<10:\n",
    "# 반복마다 i값이 1씩증가\n",
    "    i += 1\n",
    "    print(i)\n"
   ]
  },
  {
   "cell_type": "code",
   "execution_count": 2,
   "metadata": {},
   "outputs": [
    {
     "name": "stdout",
     "output_type": "stream",
     "text": [
      "1\n",
      "2\n",
      "3\n",
      "4\n",
      "5\n",
      "6\n",
      "7\n",
      "8\n",
      "9\n",
      "10\n"
     ]
    }
   ],
   "source": [
    "i = 0\n",
    "\n",
    "# if와 break 활용한 반복정지\n",
    "while True:\n",
    "    i += 1\n",
    "    if i > 10:\n",
    "        break\n",
    "    print(i)\n"
   ]
  },
  {
   "cell_type": "markdown",
   "metadata": {},
   "source": [
    "### 2.5 중첩 반복문"
   ]
  },
  {
   "cell_type": "code",
   "execution_count": 14,
   "metadata": {},
   "outputs": [
    {
     "name": "stdout",
     "output_type": "stream",
     "text": [
      "-----\n",
      "<05>\n",
      "<04>\n",
      "<03>\n",
      "<02>\n",
      "<01>\n",
      "-----\n",
      "<15>\n",
      "<14>\n",
      "<13>\n",
      "<12>\n",
      "<11>\n",
      "-----\n",
      "<25>\n",
      "<24>\n",
      "<23>\n",
      "<22>\n",
      "<21>\n",
      "-----\n",
      "<35>\n",
      "<34>\n",
      "<33>\n",
      "<32>\n",
      "<31>\n",
      "-----\n",
      "<45>\n",
      "<44>\n",
      "<43>\n",
      "<42>\n",
      "<41>\n"
     ]
    }
   ],
   "source": [
    "# 0~4 반복\n",
    "for i in range(5):\n",
    "    print('-----')\n",
    "\n",
    "    # 0~4 반복안에 4~0 반복하여 25번 반복\n",
    "    for j in range(5,0,-1):\n",
    "        print(f'<{i}{j}>')\n"
   ]
  },
  {
   "cell_type": "markdown",
   "metadata": {},
   "source": [
    "### [참고] if 문에서 in 연산 활용시 특정 값이 이터러블내에 포함되어있으면 True"
   ]
  },
  {
   "cell_type": "code",
   "execution_count": 35,
   "metadata": {},
   "outputs": [
    {
     "name": "stdout",
     "output_type": "stream",
     "text": [
      "one in\n"
     ]
    }
   ],
   "source": [
    "# if 데이터 in 이터러블\n",
    "\n",
    "if 0 in [1,2,3,4]:\n",
    "    print('zero in')\n",
    "\n",
    "if 1 in [1,2,3,4]:\n",
    "    print('one in')"
   ]
  },
  {
   "cell_type": "markdown",
   "metadata": {},
   "source": [
    "### 2. 실습"
   ]
  },
  {
   "cell_type": "markdown",
   "metadata": {},
   "source": [
    "\n",
    "#### [실습1] 구구단 19단 출력하기  \n",
    "`19 X 1 = 19`  \n",
    "`19 X 2 = 38 ... ` \n"
   ]
  },
  {
   "cell_type": "code",
   "execution_count": 36,
   "metadata": {},
   "outputs": [
    {
     "name": "stdout",
     "output_type": "stream",
     "text": [
      "19 X 1 = 19\n"
     ]
    }
   ],
   "source": [
    "#1. 참고\n",
    "print(f'{19} X {1} = {19}')"
   ]
  },
  {
   "cell_type": "code",
   "execution_count": null,
   "metadata": {},
   "outputs": [],
   "source": []
  },
  {
   "cell_type": "markdown",
   "metadata": {},
   "source": [
    "#### [실습2] 아래의 숫자 리스트 *x* 에서 10 이상인 숫자만 따로 모아 합계 계산하기"
   ]
  },
  {
   "cell_type": "code",
   "execution_count": 37,
   "metadata": {},
   "outputs": [],
   "source": [
    "#2. \n",
    "nums = [9, 10, 4, 22, 3, 19]"
   ]
  },
  {
   "cell_type": "code",
   "execution_count": null,
   "metadata": {},
   "outputs": [],
   "source": []
  },
  {
   "cell_type": "markdown",
   "metadata": {},
   "source": [
    "#### [실습3] 다음 리스트에 있는 숫자의 누적 합을 출력하세요. 단 *가 나오면 건너뛰고  - 가 나오면 반복을 중지\n",
    "\n",
    "    출력결과\n",
    "    1\n",
    "    3\n",
    "    7\n",
    "    12\n",
    "    19"
   ]
  },
  {
   "cell_type": "code",
   "execution_count": 20,
   "metadata": {},
   "outputs": [],
   "source": [
    "nums2 = [1, 2, '*', 4, 5, '*', 7, '-', 9]"
   ]
  },
  {
   "cell_type": "code",
   "execution_count": null,
   "metadata": {},
   "outputs": [],
   "source": []
  },
  {
   "cell_type": "markdown",
   "metadata": {},
   "source": [
    "#### [실습4] 다음 리스트 안에 입력된 이름으로 Customer 인스턴스를 생성하세요. 이때 for문 안에서 Customer 인스턴스가 생성되고 고객 번호는 1씩 증가하는 순서입니다."
   ]
  },
  {
   "cell_type": "code",
   "execution_count": 22,
   "metadata": {},
   "outputs": [],
   "source": [
    "class Customer:\n",
    "\n",
    "    def __init__(self, name, c_id):\n",
    "        self.name = name\n",
    "        self.c_id = c_id\n",
    "        self.amount = 0\n",
    "\n",
    "    def add_amount(self, amount):\n",
    "        self.amount += amount\n",
    "        # self.amount = self.amount + amount\n",
    "\n",
    "    def sub_amount(self, amount):\n",
    "        self.amount -= amount\n",
    "\n",
    "    def get_amount(self):\n",
    "        return self.amount"
   ]
  },
  {
   "cell_type": "code",
   "execution_count": null,
   "metadata": {},
   "outputs": [],
   "source": [
    "names = ['김입금','나은행','최대출','신한나','국민협']\n"
   ]
  },
  {
   "cell_type": "markdown",
   "metadata": {},
   "source": [
    "#### [실습5] for문을 두번 중첩하여 1~47번중 6개의 번호를 뽑는 로또 번호를 5개 생성하여 출력하세요 (숫자 중복 상관없음)\n",
    "\n",
    "**random** 모듈    \n",
    "`random` 모듈의 `randint()` 함수를 활용하여 랜덤 숫자 생성    \n",
    "`randint(s,e)`: s~e 사이의 랜덤한 수 생성\n"
   ]
  },
  {
   "cell_type": "code",
   "execution_count": 29,
   "metadata": {
    "scrolled": true
   },
   "outputs": [],
   "source": [
    "import random"
   ]
  },
  {
   "cell_type": "markdown",
   "metadata": {},
   "source": [
    "\n",
    "### 4.1 numpy를 활용한 배열\n",
    "**numpy**는 **ndarray**라는 형식을 활용해서 다차원의 배열형식을 만들고 다양한 연산과 처리를 지원\n",
    "- 배열은 리스트와 비슷하지만 구조적인 차이로 크기가 고정됨\n",
    "- 배열은 여러개의 **축(axis)** 이 있는 다차원의 **형상(shape)** 을 가짐 \n",
    "\n",
    "#### 배열 특징\n",
    "- 리스트와 외부적으로는 유사하지만 내부적으로 많은 차이 존재\n",
    "- 메모리 영역을 미리 계산하여 공간을 할당\n",
    "- 항목의 타입을 미리 지정해야 생성가능\n",
    "- 항목의 형상(개수) 가 정해져야 생성 가능\n",
    "- 한번 정해진 형상(개수)는 변경불가\n",
    "- 데이터 접근속도와 연산 효율이 좋음\n",
    "- 공간의 활용성이 떨어짐\n",
    "\n",
    "<img src=\"./img/20240601_225311.png\"  width = 600 align=\"\"></img>    \n",
    "\n",
    "\n",
    "#### 배열생성\n",
    "> 구현된 이터러블을 활용해 asarray()로 생성: np.asarray(iterable)    \n",
    "> 지정 모형의 0으로 초기화 시키기: np.zeros((3,2))    \n",
    "> 지정 모형의 1으로 초기화 시키기: np.ones((3,2))    \n",
    "> 지정 모형의 0~1 랜덤 초기화 시키기: np.random.rand(3,2)   "
   ]
  },
  {
   "cell_type": "code",
   "execution_count": 100,
   "metadata": {},
   "outputs": [
    {
     "name": "stdout",
     "output_type": "stream",
     "text": [
      "Requirement already satisfied: numpy in c:\\users\\trave\\appdata\\local\\programs\\python\\python310\\lib\\site-packages (1.24.3)\n"
     ]
    },
    {
     "name": "stderr",
     "output_type": "stream",
     "text": [
      "WARNING: Ignoring invalid distribution -rotobuf (c:\\users\\trave\\appdata\\local\\programs\\python\\python310\\lib\\site-packages)\n",
      "WARNING: Ignoring invalid distribution -rotobuf (c:\\users\\trave\\appdata\\local\\programs\\python\\python310\\lib\\site-packages)\n",
      "WARNING: Ignoring invalid distribution -rotobuf (c:\\users\\trave\\appdata\\local\\programs\\python\\python310\\lib\\site-packages)\n",
      "WARNING: Ignoring invalid distribution -rotobuf (c:\\users\\trave\\appdata\\local\\programs\\python\\python310\\lib\\site-packages)\n",
      "WARNING: Ignoring invalid distribution -rotobuf (c:\\users\\trave\\appdata\\local\\programs\\python\\python310\\lib\\site-packages)\n",
      "WARNING: Ignoring invalid distribution -rotobuf (c:\\users\\trave\\appdata\\local\\programs\\python\\python310\\lib\\site-packages)\n",
      "\n",
      "[notice] A new release of pip is available: 23.0.1 -> 24.0\n",
      "[notice] To update, run: python.exe -m pip install --upgrade pip\n"
     ]
    }
   ],
   "source": [
    "# numpy 설치\n",
    "!pip install numpy"
   ]
  },
  {
   "cell_type": "code",
   "execution_count": 2,
   "metadata": {},
   "outputs": [],
   "source": [
    "# 넘파이 모듈임포트\n",
    "import numpy as np"
   ]
  },
  {
   "cell_type": "code",
   "execution_count": 3,
   "metadata": {},
   "outputs": [
    {
     "name": "stdout",
     "output_type": "stream",
     "text": [
      "[1 2 4 8]\n",
      "(4,)\n"
     ]
    }
   ],
   "source": [
    "# array() 함수로 배열 생성\n",
    "x = [1, 2, 4, 8]\n",
    "y = np.array(x)\n",
    "print(y)\n",
    "# shape 변수로 형상 확인\n",
    "print(y.shape)"
   ]
  },
  {
   "cell_type": "markdown",
   "metadata": {},
   "source": [
    "##### 다차원 배열 형상 이해\n",
    "<img src=\"./img/array1.png\"  width = 640 ></img>"
   ]
  },
  {
   "cell_type": "code",
   "execution_count": 4,
   "metadata": {},
   "outputs": [
    {
     "name": "stdout",
     "output_type": "stream",
     "text": [
      "(5,)\n",
      "(2, 5)\n",
      "(3, 2, 5)\n"
     ]
    }
   ],
   "source": [
    "# 다차원 배열\n",
    "array1d = np.array([1,2,3,4,5])\n",
    "\n",
    "array2d = np.array([[1,2,3,4,5],\n",
    "                    [6,7,8,9,0]])\n",
    "\n",
    "array3d = np.array([[[1,2,3,4,5],\n",
    "                     [6,7,8,9,0]],\n",
    "                    [[2,3,4,5,6],\n",
    "                     [7,8,9,0,1]],\n",
    "                    [[3,4,5,6,7],\n",
    "                     [8,9,0,1,2]]])\n",
    "\n",
    "print(array1d.shape)\n",
    "print(array2d.shape)\n",
    "print(array3d.shape)"
   ]
  },
  {
   "cell_type": "markdown",
   "metadata": {},
   "source": [
    "#### 다차원 배열 인덱싱"
   ]
  },
  {
   "cell_type": "code",
   "execution_count": 5,
   "metadata": {},
   "outputs": [
    {
     "name": "stdout",
     "output_type": "stream",
     "text": [
      "1\n",
      "3\n",
      "9\n"
     ]
    }
   ],
   "source": [
    "print(array1d[0])\n",
    "print(array2d[0,2])\n",
    "print(array3d[0,1,3])"
   ]
  },
  {
   "cell_type": "code",
   "execution_count": 6,
   "metadata": {},
   "outputs": [
    {
     "name": "stdout",
     "output_type": "stream",
     "text": [
      "[2 3 4]\n"
     ]
    }
   ],
   "source": [
    "print(array2d[0,1:4])"
   ]
  },
  {
   "cell_type": "code",
   "execution_count": 7,
   "metadata": {},
   "outputs": [
    {
     "name": "stdout",
     "output_type": "stream",
     "text": [
      "[8 9]\n"
     ]
    }
   ],
   "source": [
    "print(array3d[0, 1, 2:4])"
   ]
  },
  {
   "cell_type": "code",
   "execution_count": 8,
   "metadata": {},
   "outputs": [
    {
     "name": "stdout",
     "output_type": "stream",
     "text": [
      "[2 7]\n"
     ]
    }
   ],
   "source": [
    "print(array3d[0,:,1])"
   ]
  },
  {
   "cell_type": "code",
   "execution_count": 9,
   "metadata": {},
   "outputs": [
    {
     "name": "stdout",
     "output_type": "stream",
     "text": [
      "[[1 6]\n",
      " [2 7]\n",
      " [3 8]]\n"
     ]
    }
   ],
   "source": [
    "print(array3d[:,:, 0])"
   ]
  },
  {
   "cell_type": "code",
   "execution_count": 10,
   "metadata": {},
   "outputs": [
    {
     "name": "stdout",
     "output_type": "stream",
     "text": [
      "[[1 6]\n",
      " [2 7]\n",
      " [3 8]]\n"
     ]
    }
   ],
   "source": [
    "print(array3d[..., 0])"
   ]
  },
  {
   "cell_type": "markdown",
   "metadata": {},
   "source": [
    "#### 인덱싱을 활용한 수정"
   ]
  },
  {
   "cell_type": "code",
   "execution_count": 11,
   "metadata": {},
   "outputs": [
    {
     "data": {
      "text/plain": [
       "array([[ 1, 10,  3,  4,  5],\n",
       "       [ 6,  7,  8,  9,  0]])"
      ]
     },
     "execution_count": 11,
     "metadata": {},
     "output_type": "execute_result"
    }
   ],
   "source": [
    "array2d[0,1] = 10\n",
    "array2d"
   ]
  },
  {
   "cell_type": "code",
   "execution_count": 12,
   "metadata": {},
   "outputs": [
    {
     "data": {
      "text/plain": [
       "array([[2, 3, 4, 5, 6],\n",
       "       [6, 7, 8, 9, 0]])"
      ]
     },
     "execution_count": 12,
     "metadata": {},
     "output_type": "execute_result"
    }
   ],
   "source": [
    "array2d[0] = [2,3,4,5,6]\n",
    "array2d"
   ]
  },
  {
   "cell_type": "markdown",
   "metadata": {},
   "source": [
    "### 4.2 다차원 배열 연산\n",
    "\n",
    "#### 배열에서 연산자 활용\n",
    "배열에서 연산자 활용시 같은 인덱스에 해당하는 데이터간 일괄연산이 진행"
   ]
  },
  {
   "cell_type": "code",
   "execution_count": 17,
   "metadata": {},
   "outputs": [
    {
     "data": {
      "text/plain": [
       "array([[ 5,  7,  9, 11, 13],\n",
       "       [13, 15, 17, 19,  1]])"
      ]
     },
     "execution_count": 17,
     "metadata": {},
     "output_type": "execute_result"
    }
   ],
   "source": [
    "# 일괄 산술 연산\n",
    "array2d * 2 + 1"
   ]
  },
  {
   "cell_type": "code",
   "execution_count": 14,
   "metadata": {},
   "outputs": [
    {
     "name": "stdout",
     "output_type": "stream",
     "text": [
      "[1.         1.41421356 2.         2.82842712]\n",
      "[ 1  4 16 64]\n",
      "[0.         0.69314718 1.38629436 2.07944154]\n",
      "[2.71828183e+00 7.38905610e+00 5.45981500e+01 2.98095799e+03]\n"
     ]
    }
   ],
   "source": [
    "# 다양한 연산 함수 제공\n",
    "print(np.sqrt(y)) # 제곱근\n",
    "print(np.power(y, 2)) # 거듭제곱\n",
    "print(np.log(y)) # 자연로그\n",
    "print(np.exp(y)) # 지수"
   ]
  },
  {
   "cell_type": "markdown",
   "metadata": {},
   "source": [
    "#### 원하는 축을 선택하여 연산\n",
    "배열 연산 함수의 axis 인자 활용"
   ]
  },
  {
   "cell_type": "code",
   "execution_count": 15,
   "metadata": {},
   "outputs": [
    {
     "data": {
      "text/plain": [
       "array([[2, 3, 4, 5, 6],\n",
       "       [6, 7, 8, 9, 0]])"
      ]
     },
     "execution_count": 15,
     "metadata": {},
     "output_type": "execute_result"
    }
   ],
   "source": [
    "array2d"
   ]
  },
  {
   "cell_type": "code",
   "execution_count": 16,
   "metadata": {},
   "outputs": [
    {
     "data": {
      "text/plain": [
       "50"
      ]
     },
     "execution_count": 16,
     "metadata": {},
     "output_type": "execute_result"
    }
   ],
   "source": [
    "# sum 함수를 활용하여 배열내 데이터 더하기 연산\n",
    "np.sum(array2d)"
   ]
  },
  {
   "cell_type": "code",
   "execution_count": 117,
   "metadata": {},
   "outputs": [
    {
     "data": {
      "text/plain": [
       "array([ 8, 10, 12, 14,  6])"
      ]
     },
     "execution_count": 117,
     "metadata": {},
     "output_type": "execute_result"
    }
   ],
   "source": [
    "# axis 인자에 0을 할당하여 0번 축으로 더하기\n",
    "np.sum(array2d, axis = 0)"
   ]
  },
  {
   "cell_type": "code",
   "execution_count": 120,
   "metadata": {},
   "outputs": [
    {
     "data": {
      "text/plain": [
       "array([20, 30])"
      ]
     },
     "execution_count": 120,
     "metadata": {},
     "output_type": "execute_result"
    }
   ],
   "source": [
    "np.sum(array2d, axis = 1)"
   ]
  },
  {
   "cell_type": "code",
   "execution_count": 121,
   "metadata": {},
   "outputs": [
    {
     "data": {
      "text/plain": [
       "array([[[1, 2, 3, 4, 5],\n",
       "        [6, 7, 8, 9, 0]],\n",
       "\n",
       "       [[2, 3, 4, 5, 6],\n",
       "        [7, 8, 9, 0, 1]],\n",
       "\n",
       "       [[3, 4, 5, 6, 7],\n",
       "        [8, 9, 0, 1, 2]]])"
      ]
     },
     "execution_count": 121,
     "metadata": {},
     "output_type": "execute_result"
    }
   ],
   "source": [
    "array3d"
   ]
  },
  {
   "cell_type": "code",
   "execution_count": 122,
   "metadata": {},
   "outputs": [
    {
     "data": {
      "text/plain": [
       "array([[ 6,  9, 12, 15, 18],\n",
       "       [21, 24, 17, 10,  3]])"
      ]
     },
     "execution_count": 122,
     "metadata": {},
     "output_type": "execute_result"
    }
   ],
   "source": [
    "np.sum(array3d, axis = 0)"
   ]
  },
  {
   "cell_type": "code",
   "execution_count": 123,
   "metadata": {},
   "outputs": [
    {
     "data": {
      "text/plain": [
       "array([[15, 30],\n",
       "       [20, 25],\n",
       "       [25, 20]])"
      ]
     },
     "execution_count": 123,
     "metadata": {},
     "output_type": "execute_result"
    }
   ],
   "source": [
    "np.sum(array3d, axis = 2)"
   ]
  },
  {
   "cell_type": "markdown",
   "metadata": {},
   "source": [
    "### 4.3 배열의 형상 변환\n",
    "numpy는 배열의 형상을 바꿔주는 다양한 함수 제공   \n",
    "- 형상 변환 시 절대적인 배열의 크기는 변할 수 없음 "
   ]
  },
  {
   "cell_type": "code",
   "execution_count": 124,
   "metadata": {},
   "outputs": [
    {
     "data": {
      "text/plain": [
       "array([1, 2, 3, 4, 5, 6, 7, 8, 9, 0, 2, 3, 4, 5, 6, 7, 8, 9, 0, 1, 3, 4,\n",
       "       5, 6, 7, 8, 9, 0, 1, 2])"
      ]
     },
     "execution_count": 124,
     "metadata": {},
     "output_type": "execute_result"
    }
   ],
   "source": [
    "# reshape(배열, 형상) 배열을 입력한 형상으로 재구성\n",
    "np.reshape(array3d,(30,))"
   ]
  },
  {
   "cell_type": "code",
   "execution_count": 125,
   "metadata": {},
   "outputs": [
    {
     "data": {
      "text/plain": [
       "array([[1, 2, 3, 4, 5, 6],\n",
       "       [7, 8, 9, 0, 2, 3],\n",
       "       [4, 5, 6, 7, 8, 9],\n",
       "       [0, 1, 3, 4, 5, 6],\n",
       "       [7, 8, 9, 0, 1, 2]])"
      ]
     },
     "execution_count": 125,
     "metadata": {},
     "output_type": "execute_result"
    }
   ],
   "source": [
    "# reshape는 순서대로 재구성\n",
    "np.reshape(array3d,(5,6))"
   ]
  },
  {
   "cell_type": "code",
   "execution_count": 126,
   "metadata": {},
   "outputs": [
    {
     "data": {
      "text/plain": [
       "array([[[1, 2, 3],\n",
       "        [4, 5, 6]],\n",
       "\n",
       "       [[7, 8, 9],\n",
       "        [0, 2, 3]],\n",
       "\n",
       "       [[4, 5, 6],\n",
       "        [7, 8, 9]],\n",
       "\n",
       "       [[0, 1, 3],\n",
       "        [4, 5, 6]],\n",
       "\n",
       "       [[7, 8, 9],\n",
       "        [0, 1, 2]]])"
      ]
     },
     "execution_count": 126,
     "metadata": {},
     "output_type": "execute_result"
    }
   ],
   "source": [
    "np.reshape(array3d,(5,2,3))"
   ]
  },
  {
   "cell_type": "code",
   "execution_count": 1,
   "metadata": {},
   "outputs": [
    {
     "ename": "NameError",
     "evalue": "name 'np' is not defined",
     "output_type": "error",
     "traceback": [
      "\u001b[1;31m---------------------------------------------------------------------------\u001b[0m",
      "\u001b[1;31mNameError\u001b[0m                                 Traceback (most recent call last)",
      "Cell \u001b[1;32mIn[1], line 2\u001b[0m\n\u001b[0;32m      1\u001b[0m \u001b[38;5;66;03m# -1을 활용하여 남은 형상 구현\u001b[39;00m\n\u001b[1;32m----> 2\u001b[0m \u001b[43mnp\u001b[49m\u001b[38;5;241m.\u001b[39mreshape(array3d,(\u001b[38;5;241m5\u001b[39m,\u001b[38;5;241m2\u001b[39m,\u001b[38;5;241m-\u001b[39m\u001b[38;5;241m1\u001b[39m))\n",
      "\u001b[1;31mNameError\u001b[0m: name 'np' is not defined"
     ]
    }
   ],
   "source": [
    "# -1을 활용하여 남은 형상 구현\n",
    "np.reshape(array3d,(5,2,-1))"
   ]
  },
  {
   "cell_type": "code",
   "execution_count": 127,
   "metadata": {},
   "outputs": [
    {
     "data": {
      "text/plain": [
       "array([[1, 2, 3, 4, 5]])"
      ]
     },
     "execution_count": 127,
     "metadata": {},
     "output_type": "execute_result"
    }
   ],
   "source": [
    "# 형상에 1을 입력하여 비어있는 차원을 추가할 수 있음\n",
    "np.reshape(array1d,(1,5))"
   ]
  },
  {
   "cell_type": "code",
   "execution_count": 130,
   "metadata": {},
   "outputs": [
    {
     "name": "stdout",
     "output_type": "stream",
     "text": [
      "[[1 2 3 4 5]]\n",
      "(1, 5)\n"
     ]
    }
   ],
   "source": [
    "# expand_dims 함수를 활용하여 원하는 축에 비어있는 차원을 추가\n",
    "ed = np.expand_dims(array1d, axis = 0)\n",
    "print(ed)\n",
    "print(ed.shape)"
   ]
  },
  {
   "cell_type": "code",
   "execution_count": 131,
   "metadata": {},
   "outputs": [
    {
     "name": "stdout",
     "output_type": "stream",
     "text": [
      "[[1]\n",
      " [2]\n",
      " [3]\n",
      " [4]\n",
      " [5]]\n",
      "(5, 1)\n"
     ]
    }
   ],
   "source": [
    "ed = np.expand_dims(array1d, axis = 1)\n",
    "print(ed)\n",
    "print(ed.shape)"
   ]
  },
  {
   "cell_type": "code",
   "execution_count": 133,
   "metadata": {
    "scrolled": true
   },
   "outputs": [
    {
     "data": {
      "text/plain": [
       "array([[2, 6],\n",
       "       [3, 7],\n",
       "       [4, 8],\n",
       "       [5, 9],\n",
       "       [6, 0]])"
      ]
     },
     "execution_count": 133,
     "metadata": {},
     "output_type": "execute_result"
    }
   ],
   "source": [
    "# transpose 함수를 활용하여 역행렬 형태로 변환 가능\n",
    "np.transpose(array2d)"
   ]
  },
  {
   "cell_type": "markdown",
   "metadata": {},
   "source": [
    "### 4. 실습"
   ]
  },
  {
   "cell_type": "markdown",
   "metadata": {},
   "source": [
    "#### [실습1] 다음 배열(arr2d)의 형상을 출력하고  0번축의 0 ~ 2번, 1번축의 2 ~ 4번에 해당하는 데이터를 출력하세요\n"
   ]
  },
  {
   "cell_type": "code",
   "execution_count": 19,
   "metadata": {},
   "outputs": [],
   "source": [
    "import numpy as np\n",
    "\n",
    "arr2d = np.array([[1,2,3,4,5],\n",
    "                [5,6,7,8,9],\n",
    "                [9,1,2,3,4],\n",
    "                [5,6,7,8,9],\n",
    "               ])\n"
   ]
  },
  {
   "cell_type": "code",
   "execution_count": null,
   "metadata": {},
   "outputs": [],
   "source": []
  },
  {
   "cell_type": "markdown",
   "metadata": {},
   "source": [
    "#### [실습2] 배열(arr2d)에 1번축 값들의 합으로 표현된 배열을 만들고 출력하세요\n"
   ]
  },
  {
   "cell_type": "code",
   "execution_count": null,
   "metadata": {},
   "outputs": [],
   "source": []
  },
  {
   "cell_type": "markdown",
   "metadata": {},
   "source": [
    "#### [실습3] 배열(arr2d)의 형상을 (2,2,5)로 변환하여 arr3d 변수에 할당하세요\n"
   ]
  },
  {
   "cell_type": "code",
   "execution_count": null,
   "metadata": {},
   "outputs": [],
   "source": []
  },
  {
   "cell_type": "markdown",
   "metadata": {},
   "source": [
    "#### [실습4] arr3d 배열에서 0,1 번축의 데이터는 모두 선택하고 마지막 축의 2번 인덱스에 해당하는 배열만 슬라이싱하여 출력하세요\n"
   ]
  },
  {
   "cell_type": "code",
   "execution_count": null,
   "metadata": {},
   "outputs": [],
   "source": []
  },
  {
   "cell_type": "markdown",
   "metadata": {},
   "source": [
    "#### [실습5] 중첩 반복 문을 활용하여 arr2d 배열의 데이터에 하나씩 접근하여 출력하세요\n"
   ]
  },
  {
   "cell_type": "code",
   "execution_count": null,
   "metadata": {
    "jupyter": {
     "source_hidden": true
    }
   },
   "outputs": [],
   "source": []
  },
  {
   "cell_type": "markdown",
   "metadata": {},
   "source": [
    "#### End of script"
   ]
  },
  {
   "cell_type": "code",
   "execution_count": null,
   "metadata": {},
   "outputs": [],
   "source": []
  }
 ],
 "metadata": {
  "kernelspec": {
   "display_name": "Python 3 (ipykernel)",
   "language": "python",
   "name": "python3"
  },
  "language_info": {
   "codemirror_mode": {
    "name": "ipython",
    "version": 3
   },
   "file_extension": ".py",
   "mimetype": "text/x-python",
   "name": "python",
   "nbconvert_exporter": "python",
   "pygments_lexer": "ipython3",
   "version": "3.10.11"
  }
 },
 "nbformat": 4,
 "nbformat_minor": 4
}
